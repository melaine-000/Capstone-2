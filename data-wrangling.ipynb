{
 "cells": [
  {
   "cell_type": "markdown",
   "id": "a2616364",
   "metadata": {},
   "source": [
    "# Capston Project 2 - The Financial Performance of the ESG Funds\n",
    "# Data Wrangling\n",
    "By Tingyin Xiao"
   ]
  },
  {
   "cell_type": "markdown",
   "id": "f22d6f1b",
   "metadata": {},
   "source": [
    "<a id=\"0\"></a>\n",
    "# Table of Contents\n",
    "* [1.  Introduction](#1)\n",
    "* [2.  Import the Dependencies](#2)\n",
    "* [3.  Data Collection](#3)\n",
    "    * [3.1  Load the data](#3.1)\n",
    "    * [3.2  Merge the data](#3.2)\n",
    "    * [3.3  Save the merged data](#3.3)\n",
    "\n",
    "* [4. Data Organization](#4)\n",
    "    * [4.1  Load the saved data](#4.1)\n",
    "    * [4.2  Clean the fund names and share classes including trademark symbols](#4.2)\n",
    "    * [4.3  Merge duplicated columns with different names](#4.3)\n",
    "    * [4.4  Deal with the double reported months](#4.4)\n",
    "    * [4.5  Find the funds and share classes that have target variables over longest period](#4.5)\n",
    "    * [4.6  Save the time series data and the data records with target covering longest time period](#4.6)\n",
    "* [5. Data Definition](#5)\n",
    "    * [5.1  Load the data](#5.1)\n",
    "    * [5.2  Define the target](#5.2)\n",
    "    * [5.3  Define the features](#5.3)\n",
    "* [6. Data Cleaning](#6)\n",
    "* [7. Summary](#7)"
   ]
  },
  {
   "cell_type": "markdown",
   "id": "963c578a",
   "metadata": {},
   "source": [
    "<a id=\"1\"></a> \n",
    "## Introduction"
   ]
  },
  {
   "cell_type": "markdown",
   "id": "ef526316",
   "metadata": {},
   "source": [
    "The sustainable investments enable people who want to make the world better to align their investments with personal values. With the rise of this type of ethical investing, data-based knowledge and insights on the ESG (environmental, social, and governance) funds are desired by both the investors and the financial institutions that help with the investments. Analyzing the financial performance of the ESG funds, we can provide professional advice  for the stakeholders on whether the ESG investments are generating higher returns in general, which assets perform better, and how would these assets perform in the near future. \n",
    "\n",
    "In order to do the analysis, we downloaded the ESG funds data from the Fossil Free Funds website (https://fossilfreefunds.org/). The frequency of reporting is mostly once per month, with a couple of double reportings when there were data updated in the month. The whole dataset go back to March, 2020 and are still being updated monthly (to present: July, 2023). \n",
    "\n",
    "This sections is devoted on the data wrangling. The combined table of all the available raw data (from March, 2020 to the present day) has more than 300000 rows and 146 columns. Each row is an observation of a share class at a certain month, with its characteristics and various ESG evaluations as the columns. The goal of the data wrangling is to organize and clean the data to make it ready for the next step, exploratory data analysis."
   ]
  },
  {
   "cell_type": "markdown",
   "id": "08a55feb",
   "metadata": {},
   "source": [
    "[Back to the Table of Contents](#0)"
   ]
  },
  {
   "cell_type": "markdown",
   "id": "6ad712fa",
   "metadata": {},
   "source": [
    "<a id=\"2\"></a> \n",
    "## Import the Dependencies"
   ]
  },
  {
   "cell_type": "code",
   "execution_count": 2,
   "id": "bb22916d",
   "metadata": {},
   "outputs": [],
   "source": [
    "import pandas as pd\n",
    "import numpy as np\n",
    "import glob\n",
    "import warnings\n",
    "from ydata_profiling import ProfileReport\n",
    "import re"
   ]
  },
  {
   "cell_type": "markdown",
   "id": "a09ba546",
   "metadata": {},
   "source": [
    "[Back to the Table of Contents](#0)"
   ]
  },
  {
   "cell_type": "markdown",
   "id": "621d3bf0",
   "metadata": {},
   "source": [
    "<a id=\"3\"></a> \n",
    "## Data Collection"
   ]
  },
  {
   "cell_type": "markdown",
   "id": "493bc7c5",
   "metadata": {},
   "source": [
    "<a id=\"3.1\"></a>\n",
    "### Load the data"
   ]
  },
  {
   "cell_type": "code",
   "execution_count": 3,
   "id": "4b61712c",
   "metadata": {},
   "outputs": [],
   "source": [
    "# get the list of files in the data folder\n",
    "\n",
    "file_names = glob.glob('data-FFF/Invest+Your+Values+shareclass+results+*.xlsx')\n",
    "file_names.sort()\n",
    "#file_names"
   ]
  },
  {
   "cell_type": "markdown",
   "id": "03457935",
   "metadata": {},
   "source": [
    "[Back to the Table of Contents](#0)"
   ]
  },
  {
   "cell_type": "markdown",
   "id": "30f89aae",
   "metadata": {},
   "source": [
    "<a id=\"3.2\"></a>\n",
    "### Merge the data"
   ]
  },
  {
   "cell_type": "code",
   "execution_count": 4,
   "id": "495060df",
   "metadata": {},
   "outputs": [
    {
     "name": "stdout",
     "output_type": "stream",
     "text": [
      "data-FFF/Invest+Your+Values+shareclass+results+20200414.xlsx\n",
      "data-FFF/Invest+Your+Values+shareclass+results+20200519.xlsx\n",
      "data-FFF/Invest+Your+Values+shareclass+results+20200610.xlsx\n",
      "data-FFF/Invest+Your+Values+shareclass+results+20200716.xlsx\n",
      "data-FFF/Invest+Your+Values+shareclass+results+20200811.xlsx\n",
      "data-FFF/Invest+Your+Values+shareclass+results+20200913.xlsx\n",
      "data-FFF/Invest+Your+Values+shareclass+results+20200928.xlsx\n",
      "data-FFF/Invest+Your+Values+shareclass+results+20201018.xlsx\n",
      "data-FFF/Invest+Your+Values+shareclass+results+20201111.xlsx\n",
      "data-FFF/Invest+Your+Values+shareclass+results+20210121.xlsx\n",
      "data-FFF/Invest+Your+Values+shareclass+results+20210303.xlsx\n",
      "data-FFF/Invest+Your+Values+shareclass+results+20210401.xlsx\n",
      "data-FFF/Invest+Your+Values+shareclass+results+20210503.xlsx\n",
      "data-FFF/Invest+Your+Values+shareclass+results+20210715.xlsx\n",
      "data-FFF/Invest+Your+Values+shareclass+results+20210809.xlsx\n",
      "data-FFF/Invest+Your+Values+shareclass+results+20210902.xlsx\n",
      "data-FFF/Invest+Your+Values+shareclass+results+20210909.xlsx\n",
      "data-FFF/Invest+Your+Values+shareclass+results+20211019.xlsx\n",
      "data-FFF/Invest+Your+Values+shareclass+results+20211113.xlsx\n",
      "data-FFF/Invest+Your+Values+shareclass+results+20211214.xlsx\n",
      "data-FFF/Invest+Your+Values+shareclass+results+20220125.xlsx\n",
      "data-FFF/Invest+Your+Values+shareclass+results+20220209.xlsx\n",
      "data-FFF/Invest+Your+Values+shareclass+results+20220216.xlsx\n",
      "data-FFF/Invest+Your+Values+shareclass+results+20220316.xlsx\n",
      "data-FFF/Invest+Your+Values+shareclass+results+20220411.xlsx\n",
      "data-FFF/Invest+Your+Values+shareclass+results+20220511.xlsx\n",
      "data-FFF/Invest+Your+Values+shareclass+results+20220614.xlsx\n",
      "data-FFF/Invest+Your+Values+shareclass+results+20220715.xlsx\n",
      "data-FFF/Invest+Your+Values+shareclass+results+20220808.xlsx\n",
      "data-FFF/Invest+Your+Values+shareclass+results+20220914.xlsx\n",
      "data-FFF/Invest+Your+Values+shareclass+results+20221019.xlsx\n",
      "data-FFF/Invest+Your+Values+shareclass+results+20221109.xlsx\n",
      "data-FFF/Invest+Your+Values+shareclass+results+20221216.xlsx\n",
      "data-FFF/Invest+Your+Values+shareclass+results+20230127.xlsx\n",
      "data-FFF/Invest+Your+Values+shareclass+results+20230208.xlsx\n",
      "data-FFF/Invest+Your+Values+shareclass+results+20230224.xlsx\n",
      "data-FFF/Invest+Your+Values+shareclass+results+20230309.xlsx\n",
      "data-FFF/Invest+Your+Values+shareclass+results+20230407.xlsx\n",
      "data-FFF/Invest+Your+Values+shareclass+results+20230415.xlsx\n",
      "data-FFF/Invest+Your+Values+shareclass+results+20230506.xlsx\n",
      "data-FFF/Invest+Your+Values+shareclass+results+20230613.xlsx\n"
     ]
    }
   ],
   "source": [
    "# Using all files to generate one single file\n",
    "# get the time from the file name and insert it into the dataframe as a column\n",
    "data = None\n",
    "warnings.filterwarnings(\"ignore\", message=\"Unknown extension is not supported and will be removed\")\n",
    "\n",
    "for file in file_names:\n",
    "    df = pd.read_excel(file, sheet_name = 'Shareclasses')\n",
    "    print(file)\n",
    "    df['current time'] = file[-13:-5]\n",
    "    if data is None:\n",
    "        data = df\n",
    "    else:\n",
    "        data = pd.concat([data, df])  "
   ]
  },
  {
   "cell_type": "code",
   "execution_count": 5,
   "id": "3e864692",
   "metadata": {},
   "outputs": [
    {
     "data": {
      "text/plain": [
       "(365103, 146)"
      ]
     },
     "execution_count": 5,
     "metadata": {},
     "output_type": "execute_result"
    }
   ],
   "source": [
    "data.shape"
   ]
  },
  {
   "cell_type": "code",
   "execution_count": 6,
   "id": "a625caff",
   "metadata": {},
   "outputs": [
    {
     "data": {
      "text/plain": [
       "pandas.core.frame.DataFrame"
      ]
     },
     "execution_count": 6,
     "metadata": {},
     "output_type": "execute_result"
    }
   ],
   "source": [
    "type(data)"
   ]
  },
  {
   "cell_type": "markdown",
   "id": "f03d6041",
   "metadata": {},
   "source": [
    "[Back to the Table of Contents](#0)"
   ]
  },
  {
   "cell_type": "markdown",
   "id": "c94b7c44",
   "metadata": {},
   "source": [
    "<a id=\"3.3\"></a>\n",
    "### Save the merged data"
   ]
  },
  {
   "cell_type": "code",
   "execution_count": 7,
   "id": "91120dbd",
   "metadata": {},
   "outputs": [],
   "source": [
    "data.to_csv('data/all_results_data.csv', index = False)"
   ]
  },
  {
   "cell_type": "code",
   "execution_count": 8,
   "id": "ac080f42",
   "metadata": {},
   "outputs": [
    {
     "data": {
      "text/plain": [
       "pandas.core.frame.DataFrame"
      ]
     },
     "execution_count": 8,
     "metadata": {},
     "output_type": "execute_result"
    }
   ],
   "source": [
    "# save dtype of each column\n",
    "datatypes  = data.dtypes.to_frame('dtypes').reset_index()\n",
    "type(datatypes)"
   ]
  },
  {
   "cell_type": "code",
   "execution_count": 9,
   "id": "04c194a5",
   "metadata": {},
   "outputs": [
    {
     "data": {
      "text/html": [
       "<div>\n",
       "<style scoped>\n",
       "    .dataframe tbody tr th:only-of-type {\n",
       "        vertical-align: middle;\n",
       "    }\n",
       "\n",
       "    .dataframe tbody tr th {\n",
       "        vertical-align: top;\n",
       "    }\n",
       "\n",
       "    .dataframe thead th {\n",
       "        text-align: right;\n",
       "    }\n",
       "</style>\n",
       "<table border=\"1\" class=\"dataframe\">\n",
       "  <thead>\n",
       "    <tr style=\"text-align: right;\">\n",
       "      <th></th>\n",
       "      <th>index</th>\n",
       "      <th>dtypes</th>\n",
       "    </tr>\n",
       "  </thead>\n",
       "  <tbody>\n",
       "    <tr>\n",
       "      <th>0</th>\n",
       "      <td>Fund profile: Shareclass name</td>\n",
       "      <td>object</td>\n",
       "    </tr>\n",
       "    <tr>\n",
       "      <th>1</th>\n",
       "      <td>Fund profile: Ticker</td>\n",
       "      <td>object</td>\n",
       "    </tr>\n",
       "    <tr>\n",
       "      <th>2</th>\n",
       "      <td>Fund profile: Fund name</td>\n",
       "      <td>object</td>\n",
       "    </tr>\n",
       "    <tr>\n",
       "      <th>3</th>\n",
       "      <td>Fund profile: Asset manager</td>\n",
       "      <td>object</td>\n",
       "    </tr>\n",
       "    <tr>\n",
       "      <th>4</th>\n",
       "      <td>Fund profile: Shareclass type</td>\n",
       "      <td>object</td>\n",
       "    </tr>\n",
       "  </tbody>\n",
       "</table>\n",
       "</div>"
      ],
      "text/plain": [
       "                           index  dtypes\n",
       "0  Fund profile: Shareclass name  object\n",
       "1           Fund profile: Ticker  object\n",
       "2        Fund profile: Fund name  object\n",
       "3    Fund profile: Asset manager  object\n",
       "4  Fund profile: Shareclass type  object"
      ]
     },
     "execution_count": 9,
     "metadata": {},
     "output_type": "execute_result"
    }
   ],
   "source": [
    "datatypes.head()"
   ]
  },
  {
   "cell_type": "code",
   "execution_count": 10,
   "id": "82005ca6",
   "metadata": {},
   "outputs": [],
   "source": [
    "datatypes.to_csv('data/datatypes.csv', index = False)"
   ]
  },
  {
   "cell_type": "markdown",
   "id": "92a1c1b9",
   "metadata": {},
   "source": [
    "[Back to the Table of Contents](#0)"
   ]
  },
  {
   "cell_type": "markdown",
   "id": "2caddf96",
   "metadata": {},
   "source": [
    "<a id=\"4\"></a> \n",
    "## Data Organization"
   ]
  },
  {
   "cell_type": "markdown",
   "id": "19f87bdc",
   "metadata": {},
   "source": [
    "<a id=\"4.1\"></a> \n",
    "### Load the saved data"
   ]
  },
  {
   "cell_type": "code",
   "execution_count": 18,
   "id": "f570dd5d",
   "metadata": {},
   "outputs": [],
   "source": [
    "types = pd.read_csv('data/datatypes.csv')\n",
    "dtypes_dict = types.set_index('index')['dtypes'].to_dict()\n",
    "#dtypes_dict"
   ]
  },
  {
   "cell_type": "code",
   "execution_count": 19,
   "id": "73e46b1d",
   "metadata": {},
   "outputs": [],
   "source": [
    "df = pd.read_csv('data/all_results_data.csv', dtype = dtypes_dict)\n",
    "#set(df['current time'])"
   ]
  },
  {
   "cell_type": "code",
   "execution_count": 20,
   "id": "58414dec",
   "metadata": {},
   "outputs": [
    {
     "data": {
      "text/plain": [
       "365103"
      ]
     },
     "execution_count": 20,
     "metadata": {},
     "output_type": "execute_result"
    }
   ],
   "source": [
    "fund_names = df['Fund profile: Fund name']\n",
    "len(fund_names)"
   ]
  },
  {
   "cell_type": "code",
   "execution_count": 21,
   "id": "b07b947e",
   "metadata": {},
   "outputs": [
    {
     "data": {
      "text/plain": [
       "4706"
      ]
     },
     "execution_count": 21,
     "metadata": {},
     "output_type": "execute_result"
    }
   ],
   "source": [
    "len(set(fund_names))"
   ]
  },
  {
   "cell_type": "code",
   "execution_count": 22,
   "id": "ad5fc48e",
   "metadata": {},
   "outputs": [
    {
     "data": {
      "text/plain": [
       "365103"
      ]
     },
     "execution_count": 22,
     "metadata": {},
     "output_type": "execute_result"
    }
   ],
   "source": [
    "shareclasses = df['Fund profile: Shareclass name']\n",
    "len(shareclasses)"
   ]
  },
  {
   "cell_type": "code",
   "execution_count": 23,
   "id": "2cccb1ac",
   "metadata": {},
   "outputs": [
    {
     "data": {
      "text/plain": [
       "14125"
      ]
     },
     "execution_count": 23,
     "metadata": {},
     "output_type": "execute_result"
    }
   ],
   "source": [
    "len(set(shareclasses))"
   ]
  },
  {
   "cell_type": "markdown",
   "id": "2b123f60",
   "metadata": {},
   "source": [
    "[Back to the Table of Contents](#0)"
   ]
  },
  {
   "cell_type": "markdown",
   "id": "f7c9ad3e",
   "metadata": {},
   "source": [
    "<a id=\"4.2\"></a> \n",
    "### Clean the fund names and share classes including trademark symbols"
   ]
  },
  {
   "cell_type": "markdown",
   "id": "f3107d07",
   "metadata": {},
   "source": [
    "There are many fund names and share classes have trademark symbols ™ or registerd trademark symbol ®. Some of them are missing in certain occassions while presenting in other ones. Sometimes, even though they present in all records, their print out are different. Therefore, we need to clean the fund and share class names in order to match the data."
   ]
  },
  {
   "cell_type": "code",
   "execution_count": 24,
   "id": "da4b634f",
   "metadata": {},
   "outputs": [],
   "source": [
    "# find the fund and share class names that contains trademark symbols\n",
    "\n",
    "tm_shareClasses = shareclasses.str.contains('™')\n",
    "tm_fundNames = fund_names.str.contains('™')\n",
    "\n",
    "r_shareClasses = shareclasses.str.contains('®')\n",
    "r_fundNames = fund_names.str.contains('®')"
   ]
  },
  {
   "cell_type": "code",
   "execution_count": 25,
   "id": "2f39bcd2",
   "metadata": {},
   "outputs": [],
   "source": [
    "shareClasses_tm = set(shareclasses[tm_shareClasses])\n",
    "fundNames_tm = set(fund_names[tm_fundNames])\n",
    "                                 \n",
    "shareClasses_r = set(shareclasses[r_shareClasses])\n",
    "fundNames_r = set(fund_names[r_fundNames])"
   ]
  },
  {
   "cell_type": "code",
   "execution_count": 26,
   "id": "c2d2e4f5",
   "metadata": {},
   "outputs": [
    {
     "data": {
      "text/plain": [
       "33"
      ]
     },
     "execution_count": 26,
     "metadata": {},
     "output_type": "execute_result"
    }
   ],
   "source": [
    "len(shareClasses_tm)"
   ]
  },
  {
   "cell_type": "code",
   "execution_count": 27,
   "id": "4c6fa402",
   "metadata": {},
   "outputs": [
    {
     "data": {
      "text/plain": [
       "36"
      ]
     },
     "execution_count": 27,
     "metadata": {},
     "output_type": "execute_result"
    }
   ],
   "source": [
    "len(fundNames_tm)"
   ]
  },
  {
   "cell_type": "code",
   "execution_count": 28,
   "id": "8487e4a7",
   "metadata": {},
   "outputs": [
    {
     "data": {
      "text/plain": [
       "1414"
      ]
     },
     "execution_count": 28,
     "metadata": {},
     "output_type": "execute_result"
    }
   ],
   "source": [
    "len(shareClasses_r)"
   ]
  },
  {
   "cell_type": "code",
   "execution_count": 29,
   "id": "30564e73",
   "metadata": {},
   "outputs": [
    {
     "data": {
      "text/plain": [
       "666"
      ]
     },
     "execution_count": 29,
     "metadata": {},
     "output_type": "execute_result"
    }
   ],
   "source": [
    "len(fundNames_r)"
   ]
  },
  {
   "cell_type": "code",
   "execution_count": 30,
   "id": "4d0a0feb",
   "metadata": {},
   "outputs": [
    {
     "data": {
      "text/plain": [
       "['Schwab US REIT ETF™',\n",
       " 'Schwab International Small-Cap Eq ETF™',\n",
       " 'Invesco RAFI™ Strategic US ETF',\n",
       " 'Eaton Vance Stock NextShares™',\n",
       " 'Vanguard US Growth Admiral™']"
      ]
     },
     "execution_count": 30,
     "metadata": {},
     "output_type": "execute_result"
    }
   ],
   "source": [
    "list(shareClasses_tm)[:5]"
   ]
  },
  {
   "cell_type": "code",
   "execution_count": 31,
   "id": "6194095c",
   "metadata": {},
   "outputs": [
    {
     "data": {
      "text/plain": [
       "['Invesco RAFI™ Strategic Emerging Markets ETF',\n",
       " 'Schwab Core Equity Fund™',\n",
       " 'Invesco RAFI™ Strategic US ETF',\n",
       " 'Eaton Vance Stock NextShares™',\n",
       " 'Schwab International Small-Cap Equity ETF™']"
      ]
     },
     "execution_count": 31,
     "metadata": {},
     "output_type": "execute_result"
    }
   ],
   "source": [
    "list(fundNames_tm)[:5]"
   ]
  },
  {
   "cell_type": "code",
   "execution_count": 32,
   "id": "d7020435",
   "metadata": {},
   "outputs": [
    {
     "data": {
      "text/plain": [
       "['VY® T. Rowe Price Capital Appreciation Portfolio',\n",
       " 'SPDR®\\xa0EURO STOXX\\xa0Small Cap ETF',\n",
       " 'VY® Invesco Oppenheimer Global Portfolio',\n",
       " 'Fidelity® 500 Index Fund',\n",
       " 'Fidelity® Series Small Cap Discovery Fund',\n",
       " 'Financial Select Sector SPDR®\\xa0Fund',\n",
       " 'Fidelity® Small-Mid Cap Opportunities ETF',\n",
       " 'Fidelity® High Dividend ETF',\n",
       " 'Fidelity Advisor® Sustainability U.S. Equity Fund',\n",
       " 'Fidelity® International Value Factor ETF']"
      ]
     },
     "execution_count": 32,
     "metadata": {},
     "output_type": "execute_result"
    }
   ],
   "source": [
    "list(fundNames_r)[25:35]"
   ]
  },
  {
   "cell_type": "code",
   "execution_count": 33,
   "id": "5413b790",
   "metadata": {},
   "outputs": [
    {
     "data": {
      "text/plain": [
       "['Real Estate Select Sector SPDR®',\n",
       " 'JPMorgan SmartRetirement® 2055 I',\n",
       " 'Fidelity Advisor® Diversified Intl I',\n",
       " 'Invesco S&P MidCap 400® Equal Weight ETF',\n",
       " 'BlackRock LifePath® Index 2055 Inv P',\n",
       " 'Fidelity Advisor Freedom® Blend 2065 A',\n",
       " 'Fidelity Advisor Asset Manager® 40% Z',\n",
       " 'Schwab ® US Large-Cap Growth Idx',\n",
       " 'Fidelity® NASDAQ Composite Index®',\n",
       " 'Fidelity Advisor® Emerging Asia M']"
      ]
     },
     "execution_count": 33,
     "metadata": {},
     "output_type": "execute_result"
    }
   ],
   "source": [
    "list(shareClasses_r)[30:40]"
   ]
  },
  {
   "cell_type": "code",
   "execution_count": 34,
   "id": "73ac952f",
   "metadata": {},
   "outputs": [
    {
     "data": {
      "text/plain": [
       "['SPDR® Portfolio S&P 600 Small Cap ETF',\n",
       " 'SPDR® Portfolio S&P 500 ETF',\n",
       " 'SPDR®\\xa0MFS Systematic Value Equity ETF',\n",
       " 'SPDR® S&P Kensho Intelligent Structures ETF',\n",
       " 'SPDR®\\xa0S&P\\xa0400 Mid Cap Growth ETF',\n",
       " 'SPDR®\\xa0S&P\\xa0International Dividend ETF',\n",
       " 'SPDR® S&P 500 ETF Trust',\n",
       " 'SPDR® Kensho Final Frontiers ETF',\n",
       " 'SPDR®\\xa0S&P\\xa0Homebuilders ETF',\n",
       " 'SPDR® Portfolio S&P 500 Growth ETF']"
      ]
     },
     "execution_count": 34,
     "metadata": {},
     "output_type": "execute_result"
    }
   ],
   "source": [
    "# Here is an example that the same string can be printed out differently\n",
    "\n",
    "ex_fundNames = fund_names.str.contains('SPDR®')\n",
    "list(set(fund_names[ex_fundNames]))[:10]"
   ]
  },
  {
   "cell_type": "code",
   "execution_count": 35,
   "id": "864dff81",
   "metadata": {
    "scrolled": true
   },
   "outputs": [
    {
     "data": {
      "text/plain": [
       "['SPDR® S&P 600 Small Cap ETF',\n",
       " 'SPDR® S&P Bank ETF',\n",
       " 'SPDR® Portfolio S&P 600 Small Cap ETF',\n",
       " 'SPDR® S&P Software & Services ETF',\n",
       " 'SPDR® Portfolio S&P 500 ETF',\n",
       " 'Materials Select Sector SPDR® Fund',\n",
       " 'SPDR® S&P Kensho Intelligent Structures ETF',\n",
       " 'Utilities Select Sector SPDR® Fund',\n",
       " 'SPDR® S&P Telecom ETF',\n",
       " 'SPDR® S&P Capital Markets ETF']"
      ]
     },
     "execution_count": 35,
     "metadata": {},
     "output_type": "execute_result"
    }
   ],
   "source": [
    "# We can firstly replace the '\\xa0' string by ' '\n",
    "\n",
    "fund_names_clean = fund_names.str.replace('\\xa0', ' ')\n",
    "list(set(fund_names_clean[ex_fundNames]))[:10]"
   ]
  },
  {
   "cell_type": "code",
   "execution_count": 36,
   "id": "8c65f59b",
   "metadata": {},
   "outputs": [
    {
     "data": {
      "text/plain": [
       "['SPDR® S&P 600 Small Cap ETF',\n",
       " 'SPDR® S&P Bank ETF',\n",
       " 'Energy Select Sector SPDR® ETF',\n",
       " 'SPDR® S&P Software & Services ETF',\n",
       " 'SPDR® Portfolio S&P 500 ETF',\n",
       " 'Materials Select Sector SPDR® ETF',\n",
       " 'Industrial Select Sector SPDR® ETF',\n",
       " 'SPDR® S&P Telecom ETF',\n",
       " 'SPDR® S&P Capital Markets ETF',\n",
       " 'SPDR® S&P 500 ETF Trust']"
      ]
     },
     "execution_count": 36,
     "metadata": {},
     "output_type": "execute_result"
    }
   ],
   "source": [
    "shareclass_clean = shareclasses.str.replace('\\xa0', ' ')\n",
    "list(set(shareclass_clean[shareclasses.str.contains('SPDR®')]))[:10]"
   ]
  },
  {
   "cell_type": "code",
   "execution_count": 37,
   "id": "375fe940",
   "metadata": {},
   "outputs": [
    {
     "data": {
      "text/plain": [
       "['SPDR Bloomberg SASB Emerging Markets ESG Select ETF',\n",
       " 'SPDR S&P SmallCap 600 ESG ETF',\n",
       " 'The Real Estate Select Sector SPDR Fund',\n",
       " 'SPDR Bloomberg SASB Developed Markets Ex US ESG Select ETF',\n",
       " 'SPDR MSCI USA Climate Paris Aligned ETF',\n",
       " 'SPDR S&P® North American Natural Resources ETF']"
      ]
     },
     "execution_count": 37,
     "metadata": {},
     "output_type": "execute_result"
    }
   ],
   "source": [
    "# The trade mark symbol is missing in certain records\n",
    "list(set(fund_names_clean[fund_names_clean.str.contains('SPDR ')]))[:]"
   ]
  },
  {
   "cell_type": "markdown",
   "id": "29651b78",
   "metadata": {},
   "source": [
    "For the data matching purpose, it is necessary to remove all the trade mark symbols and keep an space between words but eliminate head or trailing spaces."
   ]
  },
  {
   "cell_type": "code",
   "execution_count": 38,
   "id": "69746342",
   "metadata": {},
   "outputs": [],
   "source": [
    "# copy the original columns of fund names and share class names\n",
    "\n",
    "df['Shareclass name'] = df['Fund profile: Shareclass name']\n",
    "df['Fund name'] = df['Fund profile: Fund name']"
   ]
  },
  {
   "cell_type": "code",
   "execution_count": 39,
   "id": "cdce08d0",
   "metadata": {},
   "outputs": [],
   "source": [
    "# clean the new columns by replacing the '\\xa0' string by ' '\n",
    "\n",
    "df['Shareclass name'] = df['Shareclass name'].str.replace('\\xa0', ' ')\n",
    "df['Fund name'] = df['Fund name'].str.replace('\\xa0', ' ')"
   ]
  },
  {
   "cell_type": "code",
   "execution_count": 40,
   "id": "c59a050f",
   "metadata": {},
   "outputs": [],
   "source": [
    "# Also drop the trademark symbols (™ and ®)\n",
    "# note that there might be space before and/or after the symbols\n",
    "\n",
    "def replace_trademark(s):\n",
    "    s = s.replace('™', ' ')\n",
    "    s = re.sub('®', ' ', s)\n",
    "    s = re.sub('\\s+', ' ', s)\n",
    "    return s.strip()\n",
    "    \n",
    "df['Shareclass name'] = df['Shareclass name'].apply(replace_trademark)\n",
    "df['Fund name'] = df['Fund name'].apply(replace_trademark)"
   ]
  },
  {
   "cell_type": "code",
   "execution_count": 41,
   "id": "fe2db048",
   "metadata": {},
   "outputs": [
    {
     "data": {
      "text/html": [
       "<div>\n",
       "<style scoped>\n",
       "    .dataframe tbody tr th:only-of-type {\n",
       "        vertical-align: middle;\n",
       "    }\n",
       "\n",
       "    .dataframe tbody tr th {\n",
       "        vertical-align: top;\n",
       "    }\n",
       "\n",
       "    .dataframe thead th {\n",
       "        text-align: right;\n",
       "    }\n",
       "</style>\n",
       "<table border=\"1\" class=\"dataframe\">\n",
       "  <thead>\n",
       "    <tr style=\"text-align: right;\">\n",
       "      <th></th>\n",
       "      <th>Fund profile: Shareclass name</th>\n",
       "      <th>Shareclass name</th>\n",
       "      <th>Fund profile: Fund name</th>\n",
       "      <th>Fund name</th>\n",
       "    </tr>\n",
       "  </thead>\n",
       "  <tbody>\n",
       "    <tr>\n",
       "      <th>5570</th>\n",
       "      <td>JNL/RAFI® Fundamental Asia Developed A</td>\n",
       "      <td>JNL/RAFI Fundamental Asia Developed A</td>\n",
       "      <td>JNL/RAFI® Fundamental Asia Developed Fund</td>\n",
       "      <td>JNL/RAFI Fundamental Asia Developed Fund</td>\n",
       "    </tr>\n",
       "    <tr>\n",
       "      <th>5571</th>\n",
       "      <td>JNL/RAFI® Fundamental Asia Developed I</td>\n",
       "      <td>JNL/RAFI Fundamental Asia Developed I</td>\n",
       "      <td>JNL/RAFI® Fundamental Asia Developed Fund</td>\n",
       "      <td>JNL/RAFI Fundamental Asia Developed Fund</td>\n",
       "    </tr>\n",
       "    <tr>\n",
       "      <th>7734</th>\n",
       "      <td>Consumer Discret Sel Sect SPDR® ETF</td>\n",
       "      <td>Consumer Discret Sel Sect SPDR ETF</td>\n",
       "      <td>Consumer Discretionary Select Sector SPDR® Fund</td>\n",
       "      <td>Consumer Discretionary Select Sector SPDR Fund</td>\n",
       "    </tr>\n",
       "    <tr>\n",
       "      <th>7736</th>\n",
       "      <td>Energy Select Sector SPDR® ETF</td>\n",
       "      <td>Energy Select Sector SPDR ETF</td>\n",
       "      <td>Energy Select Sector SPDR® Fund</td>\n",
       "      <td>Energy Select Sector SPDR Fund</td>\n",
       "    </tr>\n",
       "    <tr>\n",
       "      <th>7737</th>\n",
       "      <td>Financial Select Sector SPDR® ETF</td>\n",
       "      <td>Financial Select Sector SPDR ETF</td>\n",
       "      <td>Financial Select Sector SPDR® Fund</td>\n",
       "      <td>Financial Select Sector SPDR Fund</td>\n",
       "    </tr>\n",
       "  </tbody>\n",
       "</table>\n",
       "</div>"
      ],
      "text/plain": [
       "               Fund profile: Shareclass name  \\\n",
       "5570  JNL/RAFI® Fundamental Asia Developed A   \n",
       "5571  JNL/RAFI® Fundamental Asia Developed I   \n",
       "7734     Consumer Discret Sel Sect SPDR® ETF   \n",
       "7736          Energy Select Sector SPDR® ETF   \n",
       "7737       Financial Select Sector SPDR® ETF   \n",
       "\n",
       "                            Shareclass name  \\\n",
       "5570  JNL/RAFI Fundamental Asia Developed A   \n",
       "5571  JNL/RAFI Fundamental Asia Developed I   \n",
       "7734     Consumer Discret Sel Sect SPDR ETF   \n",
       "7736          Energy Select Sector SPDR ETF   \n",
       "7737       Financial Select Sector SPDR ETF   \n",
       "\n",
       "                              Fund profile: Fund name  \\\n",
       "5570        JNL/RAFI® Fundamental Asia Developed Fund   \n",
       "5571        JNL/RAFI® Fundamental Asia Developed Fund   \n",
       "7734  Consumer Discretionary Select Sector SPDR® Fund   \n",
       "7736                  Energy Select Sector SPDR® Fund   \n",
       "7737               Financial Select Sector SPDR® Fund   \n",
       "\n",
       "                                           Fund name  \n",
       "5570        JNL/RAFI Fundamental Asia Developed Fund  \n",
       "5571        JNL/RAFI Fundamental Asia Developed Fund  \n",
       "7734  Consumer Discretionary Select Sector SPDR Fund  \n",
       "7736                  Energy Select Sector SPDR Fund  \n",
       "7737               Financial Select Sector SPDR Fund  "
      ]
     },
     "execution_count": 41,
     "metadata": {},
     "output_type": "execute_result"
    }
   ],
   "source": [
    "# examine the results\n",
    "\n",
    "df[['Fund profile: Shareclass name','Shareclass name',\n",
    "    'Fund profile: Fund name','Fund name']][df['Fund profile: Fund name'].str.contains('\\xa0')].head()\n"
   ]
  },
  {
   "cell_type": "code",
   "execution_count": 42,
   "id": "fc98cf90",
   "metadata": {},
   "outputs": [
    {
     "data": {
      "text/html": [
       "<div>\n",
       "<style scoped>\n",
       "    .dataframe tbody tr th:only-of-type {\n",
       "        vertical-align: middle;\n",
       "    }\n",
       "\n",
       "    .dataframe tbody tr th {\n",
       "        vertical-align: top;\n",
       "    }\n",
       "\n",
       "    .dataframe thead th {\n",
       "        text-align: right;\n",
       "    }\n",
       "</style>\n",
       "<table border=\"1\" class=\"dataframe\">\n",
       "  <thead>\n",
       "    <tr style=\"text-align: right;\">\n",
       "      <th></th>\n",
       "      <th>Fund profile: Shareclass name</th>\n",
       "      <th>Shareclass name</th>\n",
       "      <th>Fund profile: Fund name</th>\n",
       "      <th>Fund name</th>\n",
       "    </tr>\n",
       "  </thead>\n",
       "  <tbody>\n",
       "    <tr>\n",
       "      <th>2426</th>\n",
       "      <td>Eaton Vance Global Income Builder NS™</td>\n",
       "      <td>Eaton Vance Global Income Builder NS</td>\n",
       "      <td>Eaton Vance Global Income Builder NextShares™</td>\n",
       "      <td>Eaton Vance Global Income Builder NextShares</td>\n",
       "    </tr>\n",
       "    <tr>\n",
       "      <th>2464</th>\n",
       "      <td>Eaton Vance Stock NextShares™</td>\n",
       "      <td>Eaton Vance Stock NextShares</td>\n",
       "      <td>Eaton Vance Stock NextShares™</td>\n",
       "      <td>Eaton Vance Stock NextShares</td>\n",
       "    </tr>\n",
       "    <tr>\n",
       "      <th>4395</th>\n",
       "      <td>Invesco Cleantech™ ETF</td>\n",
       "      <td>Invesco Cleantech ETF</td>\n",
       "      <td>Invesco Cleantech™ ETF</td>\n",
       "      <td>Invesco Cleantech ETF</td>\n",
       "    </tr>\n",
       "    <tr>\n",
       "      <th>4433</th>\n",
       "      <td>Invesco Dividend Achievers™ ETF</td>\n",
       "      <td>Invesco Dividend Achievers ETF</td>\n",
       "      <td>Invesco Dividend Achievers™ ETF</td>\n",
       "      <td>Invesco Dividend Achievers ETF</td>\n",
       "    </tr>\n",
       "    <tr>\n",
       "      <th>4577</th>\n",
       "      <td>Invesco High Yield Eq Div Achiev™ ETF</td>\n",
       "      <td>Invesco High Yield Eq Div Achiev ETF</td>\n",
       "      <td>Invesco High Yield Equity Dividend Achievers™ ETF</td>\n",
       "      <td>Invesco High Yield Equity Dividend Achievers ETF</td>\n",
       "    </tr>\n",
       "  </tbody>\n",
       "</table>\n",
       "</div>"
      ],
      "text/plain": [
       "              Fund profile: Shareclass name  \\\n",
       "2426  Eaton Vance Global Income Builder NS™   \n",
       "2464          Eaton Vance Stock NextShares™   \n",
       "4395                 Invesco Cleantech™ ETF   \n",
       "4433        Invesco Dividend Achievers™ ETF   \n",
       "4577  Invesco High Yield Eq Div Achiev™ ETF   \n",
       "\n",
       "                           Shareclass name  \\\n",
       "2426  Eaton Vance Global Income Builder NS   \n",
       "2464          Eaton Vance Stock NextShares   \n",
       "4395                 Invesco Cleantech ETF   \n",
       "4433        Invesco Dividend Achievers ETF   \n",
       "4577  Invesco High Yield Eq Div Achiev ETF   \n",
       "\n",
       "                                Fund profile: Fund name  \\\n",
       "2426      Eaton Vance Global Income Builder NextShares™   \n",
       "2464                      Eaton Vance Stock NextShares™   \n",
       "4395                             Invesco Cleantech™ ETF   \n",
       "4433                    Invesco Dividend Achievers™ ETF   \n",
       "4577  Invesco High Yield Equity Dividend Achievers™ ETF   \n",
       "\n",
       "                                             Fund name  \n",
       "2426      Eaton Vance Global Income Builder NextShares  \n",
       "2464                      Eaton Vance Stock NextShares  \n",
       "4395                             Invesco Cleantech ETF  \n",
       "4433                    Invesco Dividend Achievers ETF  \n",
       "4577  Invesco High Yield Equity Dividend Achievers ETF  "
      ]
     },
     "execution_count": 42,
     "metadata": {},
     "output_type": "execute_result"
    }
   ],
   "source": [
    "df[['Fund profile: Shareclass name','Shareclass name','Fund profile: Fund name','Fund name']][df['Fund profile: Fund name'].str.contains('™')].head()\n"
   ]
  },
  {
   "cell_type": "code",
   "execution_count": 43,
   "id": "39768522",
   "metadata": {},
   "outputs": [
    {
     "data": {
      "text/html": [
       "<div>\n",
       "<style scoped>\n",
       "    .dataframe tbody tr th:only-of-type {\n",
       "        vertical-align: middle;\n",
       "    }\n",
       "\n",
       "    .dataframe tbody tr th {\n",
       "        vertical-align: top;\n",
       "    }\n",
       "\n",
       "    .dataframe thead th {\n",
       "        text-align: right;\n",
       "    }\n",
       "</style>\n",
       "<table border=\"1\" class=\"dataframe\">\n",
       "  <thead>\n",
       "    <tr style=\"text-align: right;\">\n",
       "      <th></th>\n",
       "      <th>Fund profile: Shareclass name</th>\n",
       "      <th>Shareclass name</th>\n",
       "      <th>Fund profile: Fund name</th>\n",
       "      <th>Fund name</th>\n",
       "    </tr>\n",
       "  </thead>\n",
       "  <tbody>\n",
       "    <tr>\n",
       "      <th>507</th>\n",
       "      <td>American Century Ultra® A</td>\n",
       "      <td>American Century Ultra A</td>\n",
       "      <td>American Century Ultra® Fund</td>\n",
       "      <td>American Century Ultra Fund</td>\n",
       "    </tr>\n",
       "    <tr>\n",
       "      <th>508</th>\n",
       "      <td>American Century Ultra® C</td>\n",
       "      <td>American Century Ultra C</td>\n",
       "      <td>American Century Ultra® Fund</td>\n",
       "      <td>American Century Ultra Fund</td>\n",
       "    </tr>\n",
       "    <tr>\n",
       "      <th>509</th>\n",
       "      <td>American Century Ultra® G</td>\n",
       "      <td>American Century Ultra G</td>\n",
       "      <td>American Century Ultra® Fund</td>\n",
       "      <td>American Century Ultra Fund</td>\n",
       "    </tr>\n",
       "    <tr>\n",
       "      <th>510</th>\n",
       "      <td>American Century Ultra® I</td>\n",
       "      <td>American Century Ultra I</td>\n",
       "      <td>American Century Ultra® Fund</td>\n",
       "      <td>American Century Ultra Fund</td>\n",
       "    </tr>\n",
       "    <tr>\n",
       "      <th>511</th>\n",
       "      <td>American Century Ultra® Inv</td>\n",
       "      <td>American Century Ultra Inv</td>\n",
       "      <td>American Century Ultra® Fund</td>\n",
       "      <td>American Century Ultra Fund</td>\n",
       "    </tr>\n",
       "  </tbody>\n",
       "</table>\n",
       "</div>"
      ],
      "text/plain": [
       "    Fund profile: Shareclass name             Shareclass name  \\\n",
       "507     American Century Ultra® A    American Century Ultra A   \n",
       "508     American Century Ultra® C    American Century Ultra C   \n",
       "509     American Century Ultra® G    American Century Ultra G   \n",
       "510     American Century Ultra® I    American Century Ultra I   \n",
       "511   American Century Ultra® Inv  American Century Ultra Inv   \n",
       "\n",
       "          Fund profile: Fund name                    Fund name  \n",
       "507  American Century Ultra® Fund  American Century Ultra Fund  \n",
       "508  American Century Ultra® Fund  American Century Ultra Fund  \n",
       "509  American Century Ultra® Fund  American Century Ultra Fund  \n",
       "510  American Century Ultra® Fund  American Century Ultra Fund  \n",
       "511  American Century Ultra® Fund  American Century Ultra Fund  "
      ]
     },
     "execution_count": 43,
     "metadata": {},
     "output_type": "execute_result"
    }
   ],
   "source": [
    "df[['Fund profile: Shareclass name','Shareclass name',\n",
    "    'Fund profile: Fund name','Fund name']][df['Fund profile: Fund name'].str.contains('®')].head()\n"
   ]
  },
  {
   "cell_type": "markdown",
   "id": "d583d6dc",
   "metadata": {},
   "source": [
    "[Back to the Table of Contents](#0)"
   ]
  },
  {
   "cell_type": "markdown",
   "id": "43e191f3",
   "metadata": {},
   "source": [
    "<a id=\"4.3\"></a> \n",
    "### Merge duplicated columns with different names"
   ]
  },
  {
   "cell_type": "markdown",
   "id": "bc9cd09c",
   "metadata": {},
   "source": [
    "There are several columns that are duplicated in meaning. For example, 'Returns and fees: Month end trailing returns, 1 year' and 'Financial performance: Month end trailing returns, year 1'. They are the same variable with different names in the original files. We should merge them to a single column."
   ]
  },
  {
   "cell_type": "code",
   "execution_count": 44,
   "id": "76f16b0c",
   "metadata": {},
   "outputs": [
    {
     "data": {
      "text/plain": [
       "Index(['Financial performance: Financial performance as-of date',\n",
       "       'Financial performance: Month end trailing returns, year 1',\n",
       "       'Financial performance: Month end trailing returns, year 3',\n",
       "       'Financial performance: Month end trailing returns, year 5',\n",
       "       'Financial performance: Month end trailing returns, year 10'],\n",
       "      dtype='object')"
      ]
     },
     "execution_count": 44,
     "metadata": {},
     "output_type": "execute_result"
    }
   ],
   "source": [
    "key_str = 'Financial performance:'\n",
    "sub_col = df.filter(regex = key_str)\n",
    "sub_col.columns"
   ]
  },
  {
   "cell_type": "code",
   "execution_count": 45,
   "id": "457244c8",
   "metadata": {},
   "outputs": [
    {
     "data": {
      "text/plain": [
       "Index(['Returns and fees: Financial performance as-of date',\n",
       "       'Returns and fees: Month end trailing returns, 1 month',\n",
       "       'Returns and fees: Month end trailing returns, 3 month',\n",
       "       'Returns and fees: Month end trailing returns, 6 month',\n",
       "       'Returns and fees: Month end trailing returns, 1 year',\n",
       "       'Returns and fees: Month end trailing returns, 3 year',\n",
       "       'Returns and fees: Month end trailing returns, 5 year',\n",
       "       'Returns and fees: Month end trailing returns, 10 year',\n",
       "       'Returns and fees: Month end trailing returns, 15 year',\n",
       "       'Returns and fees: Month end trailing returns, 20 year',\n",
       "       'Returns and fees: Month end trailing returns, year-to-date',\n",
       "       'Returns and fees: Month end trailing returns, since inception',\n",
       "       'Returns and fees: Prospectus net expense ratio'],\n",
       "      dtype='object')"
      ]
     },
     "execution_count": 45,
     "metadata": {},
     "output_type": "execute_result"
    }
   ],
   "source": [
    "key_str2 = 'Returns and fees:'\n",
    "sub_col2 = df.filter(regex = key_str2)\n",
    "sub_col2.columns"
   ]
  },
  {
   "cell_type": "code",
   "execution_count": 46,
   "id": "e14f189e",
   "metadata": {},
   "outputs": [],
   "source": [
    "# merge the duplicated columns for 'Month end trailing returns, 1 year' to a new column\n",
    "\n",
    "df['Month end trailing returns, 1 year']= (df['Financial performance: Month end trailing returns, year 1']\n",
    "                                           .combine_first(df['Returns and fees: Month end trailing returns, 1 year']))"
   ]
  },
  {
   "cell_type": "code",
   "execution_count": 47,
   "id": "ccd160c5",
   "metadata": {},
   "outputs": [],
   "source": [
    "Non_missing = df['Month end trailing returns, 1 year'].count()"
   ]
  },
  {
   "cell_type": "code",
   "execution_count": 48,
   "id": "0db8e739",
   "metadata": {},
   "outputs": [],
   "source": [
    "Non_missing1 = df['Returns and fees: Month end trailing returns, 1 year'].count()"
   ]
  },
  {
   "cell_type": "code",
   "execution_count": 49,
   "id": "e4934006",
   "metadata": {},
   "outputs": [],
   "source": [
    "Non_missing2 = df['Financial performance: Month end trailing returns, year 1'].count()"
   ]
  },
  {
   "cell_type": "code",
   "execution_count": 50,
   "id": "eb5a7905",
   "metadata": {},
   "outputs": [],
   "source": [
    "assert Non_missing == Non_missing1 + Non_missing2"
   ]
  },
  {
   "cell_type": "code",
   "execution_count": 51,
   "id": "fc832d75",
   "metadata": {},
   "outputs": [],
   "source": [
    "# merge the other duplicated columns\n",
    "\n",
    "df['Month end trailing returns, 3 year']= (df['Financial performance: Month end trailing returns, year 3']\n",
    "                                           .combine_first(df['Returns and fees: Month end trailing returns, 3 year']))\n",
    "df['Month end trailing returns, 5 year']= (df['Financial performance: Month end trailing returns, year 5']\n",
    "                                           .combine_first(df['Returns and fees: Month end trailing returns, 5 year']))\n",
    "df['Month end trailing returns, 10 year']= (df['Financial performance: Month end trailing returns, year 10']\n",
    "                                            .combine_first(df['Returns and fees: Month end trailing returns, 10 year']))\n",
    "df['Financial performance as-of date']= (df['Financial performance: Financial performance as-of date']\n",
    "                                         .combine_first(df['Returns and fees: Financial performance as-of date']))\n"
   ]
  },
  {
   "cell_type": "code",
   "execution_count": 52,
   "id": "d31a0d40",
   "metadata": {},
   "outputs": [
    {
     "data": {
      "text/html": [
       "<div>\n",
       "<style scoped>\n",
       "    .dataframe tbody tr th:only-of-type {\n",
       "        vertical-align: middle;\n",
       "    }\n",
       "\n",
       "    .dataframe tbody tr th {\n",
       "        vertical-align: top;\n",
       "    }\n",
       "\n",
       "    .dataframe thead th {\n",
       "        text-align: right;\n",
       "    }\n",
       "</style>\n",
       "<table border=\"1\" class=\"dataframe\">\n",
       "  <thead>\n",
       "    <tr style=\"text-align: right;\">\n",
       "      <th></th>\n",
       "      <th>Fund profile: Shareclass name</th>\n",
       "      <th>Fund profile: Ticker</th>\n",
       "      <th>Fund profile: Fund name</th>\n",
       "      <th>Fund profile: Asset manager</th>\n",
       "      <th>Fund profile: Shareclass type</th>\n",
       "      <th>Fund profile: Shareclass inception date</th>\n",
       "      <th>Fund profile: Category group</th>\n",
       "      <th>Fund profile: Sustainability mandate</th>\n",
       "      <th>Fund profile: US-SIF member</th>\n",
       "      <th>Fund profile: Oldest shareclass inception date</th>\n",
       "      <th>...</th>\n",
       "      <th>Fossil Free Funds: Fossil fuel insurance holdings, count</th>\n",
       "      <th>Fossil Free Funds: Fossil fuel insurance holdings, weight</th>\n",
       "      <th>Fossil Free Funds: Fossil fuel insurance holdings, asset</th>\n",
       "      <th>Shareclass name</th>\n",
       "      <th>Fund name</th>\n",
       "      <th>Month end trailing returns, 1 year</th>\n",
       "      <th>Month end trailing returns, 3 year</th>\n",
       "      <th>Month end trailing returns, 5 year</th>\n",
       "      <th>Month end trailing returns, 10 year</th>\n",
       "      <th>Financial performance as-of date</th>\n",
       "    </tr>\n",
       "  </thead>\n",
       "  <tbody>\n",
       "    <tr>\n",
       "      <th>0</th>\n",
       "      <td>1290 SmartBeta Equity A</td>\n",
       "      <td>TNBRX</td>\n",
       "      <td>1290 SmartBeta Equity Fund</td>\n",
       "      <td>1290 Funds</td>\n",
       "      <td>Open-end mutual fund</td>\n",
       "      <td>2014-11-12</td>\n",
       "      <td>International Equity Funds</td>\n",
       "      <td>Y</td>\n",
       "      <td>NaN</td>\n",
       "      <td>2014-11-12</td>\n",
       "      <td>...</td>\n",
       "      <td>NaN</td>\n",
       "      <td>NaN</td>\n",
       "      <td>NaN</td>\n",
       "      <td>1290 SmartBeta Equity A</td>\n",
       "      <td>1290 SmartBeta Equity Fund</td>\n",
       "      <td>-7.74546</td>\n",
       "      <td>3.45056</td>\n",
       "      <td>4.32708</td>\n",
       "      <td>NaN</td>\n",
       "      <td>2020-03-31</td>\n",
       "    </tr>\n",
       "    <tr>\n",
       "      <th>1</th>\n",
       "      <td>1290 SmartBeta Equity I</td>\n",
       "      <td>TNBRX</td>\n",
       "      <td>1290 SmartBeta Equity Fund</td>\n",
       "      <td>1290 Funds</td>\n",
       "      <td>Open-end mutual fund</td>\n",
       "      <td>2014-11-12</td>\n",
       "      <td>International Equity Funds</td>\n",
       "      <td>Y</td>\n",
       "      <td>NaN</td>\n",
       "      <td>2014-11-12</td>\n",
       "      <td>...</td>\n",
       "      <td>NaN</td>\n",
       "      <td>NaN</td>\n",
       "      <td>NaN</td>\n",
       "      <td>1290 SmartBeta Equity I</td>\n",
       "      <td>1290 SmartBeta Equity Fund</td>\n",
       "      <td>-7.50301</td>\n",
       "      <td>3.69803</td>\n",
       "      <td>4.58249</td>\n",
       "      <td>NaN</td>\n",
       "      <td>2020-03-31</td>\n",
       "    </tr>\n",
       "    <tr>\n",
       "      <th>2</th>\n",
       "      <td>1290 SmartBeta Equity R</td>\n",
       "      <td>TNBRX</td>\n",
       "      <td>1290 SmartBeta Equity Fund</td>\n",
       "      <td>1290 Funds</td>\n",
       "      <td>Open-end mutual fund</td>\n",
       "      <td>2014-11-12</td>\n",
       "      <td>International Equity Funds</td>\n",
       "      <td>Y</td>\n",
       "      <td>NaN</td>\n",
       "      <td>2014-11-12</td>\n",
       "      <td>...</td>\n",
       "      <td>NaN</td>\n",
       "      <td>NaN</td>\n",
       "      <td>NaN</td>\n",
       "      <td>1290 SmartBeta Equity R</td>\n",
       "      <td>1290 SmartBeta Equity Fund</td>\n",
       "      <td>-7.97413</td>\n",
       "      <td>3.16886</td>\n",
       "      <td>4.04976</td>\n",
       "      <td>NaN</td>\n",
       "      <td>2020-03-31</td>\n",
       "    </tr>\n",
       "    <tr>\n",
       "      <th>3</th>\n",
       "      <td>1290 SmartBeta Equity T</td>\n",
       "      <td>TNBRX</td>\n",
       "      <td>1290 SmartBeta Equity Fund</td>\n",
       "      <td>1290 Funds</td>\n",
       "      <td>Open-end mutual fund</td>\n",
       "      <td>2014-11-12</td>\n",
       "      <td>International Equity Funds</td>\n",
       "      <td>Y</td>\n",
       "      <td>NaN</td>\n",
       "      <td>2014-11-12</td>\n",
       "      <td>...</td>\n",
       "      <td>NaN</td>\n",
       "      <td>NaN</td>\n",
       "      <td>NaN</td>\n",
       "      <td>1290 SmartBeta Equity T</td>\n",
       "      <td>1290 SmartBeta Equity Fund</td>\n",
       "      <td>-7.52837</td>\n",
       "      <td>3.68855</td>\n",
       "      <td>4.57675</td>\n",
       "      <td>NaN</td>\n",
       "      <td>2020-03-31</td>\n",
       "    </tr>\n",
       "    <tr>\n",
       "      <th>4</th>\n",
       "      <td>13D Activist A</td>\n",
       "      <td>DDDCX</td>\n",
       "      <td>13D Activist Fund</td>\n",
       "      <td>13D Activist Fund</td>\n",
       "      <td>Open-end mutual fund</td>\n",
       "      <td>2011-12-28</td>\n",
       "      <td>U.S. Equity Fund</td>\n",
       "      <td>Y</td>\n",
       "      <td>NaN</td>\n",
       "      <td>2011-12-28</td>\n",
       "      <td>...</td>\n",
       "      <td>NaN</td>\n",
       "      <td>NaN</td>\n",
       "      <td>NaN</td>\n",
       "      <td>13D Activist A</td>\n",
       "      <td>13D Activist Fund</td>\n",
       "      <td>-23.01826</td>\n",
       "      <td>-3.84150</td>\n",
       "      <td>-1.04910</td>\n",
       "      <td>NaN</td>\n",
       "      <td>2020-03-31</td>\n",
       "    </tr>\n",
       "  </tbody>\n",
       "</table>\n",
       "<p>5 rows × 153 columns</p>\n",
       "</div>"
      ],
      "text/plain": [
       "  Fund profile: Shareclass name Fund profile: Ticker  \\\n",
       "0       1290 SmartBeta Equity A                TNBRX   \n",
       "1       1290 SmartBeta Equity I                TNBRX   \n",
       "2       1290 SmartBeta Equity R                TNBRX   \n",
       "3       1290 SmartBeta Equity T                TNBRX   \n",
       "4                13D Activist A                DDDCX   \n",
       "\n",
       "      Fund profile: Fund name Fund profile: Asset manager  \\\n",
       "0  1290 SmartBeta Equity Fund                  1290 Funds   \n",
       "1  1290 SmartBeta Equity Fund                  1290 Funds   \n",
       "2  1290 SmartBeta Equity Fund                  1290 Funds   \n",
       "3  1290 SmartBeta Equity Fund                  1290 Funds   \n",
       "4           13D Activist Fund           13D Activist Fund   \n",
       "\n",
       "  Fund profile: Shareclass type Fund profile: Shareclass inception date  \\\n",
       "0          Open-end mutual fund                              2014-11-12   \n",
       "1          Open-end mutual fund                              2014-11-12   \n",
       "2          Open-end mutual fund                              2014-11-12   \n",
       "3          Open-end mutual fund                              2014-11-12   \n",
       "4          Open-end mutual fund                              2011-12-28   \n",
       "\n",
       "  Fund profile: Category group Fund profile: Sustainability mandate  \\\n",
       "0   International Equity Funds                                    Y   \n",
       "1   International Equity Funds                                    Y   \n",
       "2   International Equity Funds                                    Y   \n",
       "3   International Equity Funds                                    Y   \n",
       "4             U.S. Equity Fund                                    Y   \n",
       "\n",
       "  Fund profile: US-SIF member Fund profile: Oldest shareclass inception date  \\\n",
       "0                         NaN                                     2014-11-12   \n",
       "1                         NaN                                     2014-11-12   \n",
       "2                         NaN                                     2014-11-12   \n",
       "3                         NaN                                     2014-11-12   \n",
       "4                         NaN                                     2011-12-28   \n",
       "\n",
       "   ... Fossil Free Funds: Fossil fuel insurance holdings, count  \\\n",
       "0  ...                                                NaN         \n",
       "1  ...                                                NaN         \n",
       "2  ...                                                NaN         \n",
       "3  ...                                                NaN         \n",
       "4  ...                                                NaN         \n",
       "\n",
       "  Fossil Free Funds: Fossil fuel insurance holdings, weight  \\\n",
       "0                                                NaN          \n",
       "1                                                NaN          \n",
       "2                                                NaN          \n",
       "3                                                NaN          \n",
       "4                                                NaN          \n",
       "\n",
       "   Fossil Free Funds: Fossil fuel insurance holdings, asset  \\\n",
       "0                                                NaN          \n",
       "1                                                NaN          \n",
       "2                                                NaN          \n",
       "3                                                NaN          \n",
       "4                                                NaN          \n",
       "\n",
       "           Shareclass name                   Fund name  \\\n",
       "0  1290 SmartBeta Equity A  1290 SmartBeta Equity Fund   \n",
       "1  1290 SmartBeta Equity I  1290 SmartBeta Equity Fund   \n",
       "2  1290 SmartBeta Equity R  1290 SmartBeta Equity Fund   \n",
       "3  1290 SmartBeta Equity T  1290 SmartBeta Equity Fund   \n",
       "4           13D Activist A           13D Activist Fund   \n",
       "\n",
       "   Month end trailing returns, 1 year  Month end trailing returns, 3 year  \\\n",
       "0                            -7.74546                             3.45056   \n",
       "1                            -7.50301                             3.69803   \n",
       "2                            -7.97413                             3.16886   \n",
       "3                            -7.52837                             3.68855   \n",
       "4                           -23.01826                            -3.84150   \n",
       "\n",
       "   Month end trailing returns, 5 year  Month end trailing returns, 10 year  \\\n",
       "0                             4.32708                                  NaN   \n",
       "1                             4.58249                                  NaN   \n",
       "2                             4.04976                                  NaN   \n",
       "3                             4.57675                                  NaN   \n",
       "4                            -1.04910                                  NaN   \n",
       "\n",
       "   Financial performance as-of date  \n",
       "0                        2020-03-31  \n",
       "1                        2020-03-31  \n",
       "2                        2020-03-31  \n",
       "3                        2020-03-31  \n",
       "4                        2020-03-31  \n",
       "\n",
       "[5 rows x 153 columns]"
      ]
     },
     "execution_count": 52,
     "metadata": {},
     "output_type": "execute_result"
    }
   ],
   "source": [
    "df.head()"
   ]
  },
  {
   "cell_type": "code",
   "execution_count": 53,
   "id": "a4ed6ac6",
   "metadata": {},
   "outputs": [
    {
     "name": "stderr",
     "output_type": "stream",
     "text": [
      "/var/folders/7m/7twstpk15s19tzfmdbvk7v680000gn/T/ipykernel_76609/3789892131.py:3: FutureWarning: In a future version of pandas all arguments of DataFrame.drop except for the argument 'labels' will be keyword-only.\n",
      "  df = df.drop(['Financial performance: Month end trailing returns, year 1',\n"
     ]
    }
   ],
   "source": [
    "# drop the incomplete columns used to merge to complete ones\n",
    "\n",
    "df = df.drop(['Financial performance: Month end trailing returns, year 1',\n",
    "             'Returns and fees: Month end trailing returns, 1 year',\n",
    "             'Financial performance: Month end trailing returns, year 3',\n",
    "             'Returns and fees: Month end trailing returns, 3 year',\n",
    "             'Financial performance: Month end trailing returns, year 5',\n",
    "             'Returns and fees: Month end trailing returns, 5 year',\n",
    "             'Financial performance: Month end trailing returns, year 10',\n",
    "             'Returns and fees: Month end trailing returns, 10 year',\n",
    "             'Financial performance: Financial performance as-of date',\n",
    "             'Returns and fees: Financial performance as-of date'], 1)"
   ]
  },
  {
   "cell_type": "markdown",
   "id": "208dfdd3",
   "metadata": {},
   "source": [
    "[Back to the Table of Contents](#0)"
   ]
  },
  {
   "cell_type": "markdown",
   "id": "e8242064",
   "metadata": {},
   "source": [
    "<a id=\"4.4\"></a> \n",
    "### Deal with the double reported months"
   ]
  },
  {
   "cell_type": "markdown",
   "id": "a8f3b9b8",
   "metadata": {},
   "source": [
    "Some months' performance are reported in two consecutive months' data. Are these double reported data duplicated?"
   ]
  },
  {
   "cell_type": "code",
   "execution_count": 54,
   "id": "97ce06ae",
   "metadata": {
    "scrolled": true
   },
   "outputs": [
    {
     "data": {
      "text/html": [
       "<div>\n",
       "<style scoped>\n",
       "    .dataframe tbody tr th:only-of-type {\n",
       "        vertical-align: middle;\n",
       "    }\n",
       "\n",
       "    .dataframe tbody tr th {\n",
       "        vertical-align: top;\n",
       "    }\n",
       "\n",
       "    .dataframe thead th {\n",
       "        text-align: right;\n",
       "    }\n",
       "</style>\n",
       "<table border=\"1\" class=\"dataframe\">\n",
       "  <thead>\n",
       "    <tr style=\"text-align: right;\">\n",
       "      <th></th>\n",
       "      <th>Financial performance as-of date</th>\n",
       "      <th>current time</th>\n",
       "    </tr>\n",
       "  </thead>\n",
       "  <tbody>\n",
       "    <tr>\n",
       "      <th>0</th>\n",
       "      <td>2020-03-31</td>\n",
       "      <td>20200414</td>\n",
       "    </tr>\n",
       "    <tr>\n",
       "      <th>9238</th>\n",
       "      <td>2020-04-30</td>\n",
       "      <td>20200519</td>\n",
       "    </tr>\n",
       "    <tr>\n",
       "      <th>13992</th>\n",
       "      <td>2020-03-31</td>\n",
       "      <td>20200519</td>\n",
       "    </tr>\n",
       "    <tr>\n",
       "      <th>18476</th>\n",
       "      <td>2020-05-31</td>\n",
       "      <td>20200610</td>\n",
       "    </tr>\n",
       "    <tr>\n",
       "      <th>20686</th>\n",
       "      <td>2020-04-30</td>\n",
       "      <td>20200610</td>\n",
       "    </tr>\n",
       "  </tbody>\n",
       "</table>\n",
       "</div>"
      ],
      "text/plain": [
       "      Financial performance as-of date current time\n",
       "0                           2020-03-31     20200414\n",
       "9238                        2020-04-30     20200519\n",
       "13992                       2020-03-31     20200519\n",
       "18476                       2020-05-31     20200610\n",
       "20686                       2020-04-30     20200610"
      ]
     },
     "execution_count": 54,
     "metadata": {},
     "output_type": "execute_result"
    }
   ],
   "source": [
    "# 'current time' was added when loading data to differentiate batches of data\n",
    "# it is the reporting time\n",
    "\n",
    "time_table = df[['Financial performance as-of date','current time']]\n",
    "tt = time_table.drop_duplicates()\n",
    "tt.head()"
   ]
  },
  {
   "cell_type": "code",
   "execution_count": 55,
   "id": "6d3c8799",
   "metadata": {},
   "outputs": [
    {
     "data": {
      "text/html": [
       "<div>\n",
       "<style scoped>\n",
       "    .dataframe tbody tr th:only-of-type {\n",
       "        vertical-align: middle;\n",
       "    }\n",
       "\n",
       "    .dataframe tbody tr th {\n",
       "        vertical-align: top;\n",
       "    }\n",
       "\n",
       "    .dataframe thead th {\n",
       "        text-align: right;\n",
       "    }\n",
       "</style>\n",
       "<table border=\"1\" class=\"dataframe\">\n",
       "  <thead>\n",
       "    <tr style=\"text-align: right;\">\n",
       "      <th></th>\n",
       "      <th>Financial performance as-of date</th>\n",
       "      <th>current time</th>\n",
       "    </tr>\n",
       "  </thead>\n",
       "  <tbody>\n",
       "    <tr>\n",
       "      <th>0</th>\n",
       "      <td>2020-03-31</td>\n",
       "      <td>20200414</td>\n",
       "    </tr>\n",
       "    <tr>\n",
       "      <th>13992</th>\n",
       "      <td>2020-03-31</td>\n",
       "      <td>20200519</td>\n",
       "    </tr>\n",
       "    <tr>\n",
       "      <th>9238</th>\n",
       "      <td>2020-04-30</td>\n",
       "      <td>20200519</td>\n",
       "    </tr>\n",
       "    <tr>\n",
       "      <th>20686</th>\n",
       "      <td>2020-04-30</td>\n",
       "      <td>20200610</td>\n",
       "    </tr>\n",
       "    <tr>\n",
       "      <th>18476</th>\n",
       "      <td>2020-05-31</td>\n",
       "      <td>20200610</td>\n",
       "    </tr>\n",
       "    <tr>\n",
       "      <th>27861</th>\n",
       "      <td>2020-05-31</td>\n",
       "      <td>20200716</td>\n",
       "    </tr>\n",
       "    <tr>\n",
       "      <th>27846</th>\n",
       "      <td>2020-06-30</td>\n",
       "      <td>20200716</td>\n",
       "    </tr>\n",
       "    <tr>\n",
       "      <th>37183</th>\n",
       "      <td>2020-07-31</td>\n",
       "      <td>20200811</td>\n",
       "    </tr>\n",
       "    <tr>\n",
       "      <th>46423</th>\n",
       "      <td>2020-08-31</td>\n",
       "      <td>20200913</td>\n",
       "    </tr>\n",
       "    <tr>\n",
       "      <th>55648</th>\n",
       "      <td>2020-08-31</td>\n",
       "      <td>20200928</td>\n",
       "    </tr>\n",
       "    <tr>\n",
       "      <th>64873</th>\n",
       "      <td>2020-09-30</td>\n",
       "      <td>20201018</td>\n",
       "    </tr>\n",
       "    <tr>\n",
       "      <th>74102</th>\n",
       "      <td>2020-10-31</td>\n",
       "      <td>20201111</td>\n",
       "    </tr>\n",
       "    <tr>\n",
       "      <th>90433</th>\n",
       "      <td>2020-11-30</td>\n",
       "      <td>20210121</td>\n",
       "    </tr>\n",
       "    <tr>\n",
       "      <th>83172</th>\n",
       "      <td>2020-12-31</td>\n",
       "      <td>20210121</td>\n",
       "    </tr>\n",
       "    <tr>\n",
       "      <th>92372</th>\n",
       "      <td>2021-01-31</td>\n",
       "      <td>20210303</td>\n",
       "    </tr>\n",
       "    <tr>\n",
       "      <th>101407</th>\n",
       "      <td>2021-02-28</td>\n",
       "      <td>20210401</td>\n",
       "    </tr>\n",
       "    <tr>\n",
       "      <th>110510</th>\n",
       "      <td>2021-03-31</td>\n",
       "      <td>20210503</td>\n",
       "    </tr>\n",
       "    <tr>\n",
       "      <th>123188</th>\n",
       "      <td>2021-04-30</td>\n",
       "      <td>20210715</td>\n",
       "    </tr>\n",
       "    <tr>\n",
       "      <th>119555</th>\n",
       "      <td>2021-05-31</td>\n",
       "      <td>20210715</td>\n",
       "    </tr>\n",
       "    <tr>\n",
       "      <th>128547</th>\n",
       "      <td>2021-06-30</td>\n",
       "      <td>20210809</td>\n",
       "    </tr>\n",
       "    <tr>\n",
       "      <th>137441</th>\n",
       "      <td>2021-07-31</td>\n",
       "      <td>20210902</td>\n",
       "    </tr>\n",
       "    <tr>\n",
       "      <th>146501</th>\n",
       "      <td>2021-08-31</td>\n",
       "      <td>20210909</td>\n",
       "    </tr>\n",
       "    <tr>\n",
       "      <th>155543</th>\n",
       "      <td>2021-09-30</td>\n",
       "      <td>20211019</td>\n",
       "    </tr>\n",
       "    <tr>\n",
       "      <th>164580</th>\n",
       "      <td>2021-10-31</td>\n",
       "      <td>20211113</td>\n",
       "    </tr>\n",
       "    <tr>\n",
       "      <th>175886</th>\n",
       "      <td>2021-10-31</td>\n",
       "      <td>20211214</td>\n",
       "    </tr>\n",
       "    <tr>\n",
       "      <th>173634</th>\n",
       "      <td>2021-11-30</td>\n",
       "      <td>20211214</td>\n",
       "    </tr>\n",
       "    <tr>\n",
       "      <th>182638</th>\n",
       "      <td>2021-12-31</td>\n",
       "      <td>20220125</td>\n",
       "    </tr>\n",
       "    <tr>\n",
       "      <th>191567</th>\n",
       "      <td>2022-01-31</td>\n",
       "      <td>20220209</td>\n",
       "    </tr>\n",
       "    <tr>\n",
       "      <th>200356</th>\n",
       "      <td>2022-01-31</td>\n",
       "      <td>20220216</td>\n",
       "    </tr>\n",
       "    <tr>\n",
       "      <th>216599</th>\n",
       "      <td>2022-01-31</td>\n",
       "      <td>20220316</td>\n",
       "    </tr>\n",
       "    <tr>\n",
       "      <th>209145</th>\n",
       "      <td>2022-02-28</td>\n",
       "      <td>20220316</td>\n",
       "    </tr>\n",
       "  </tbody>\n",
       "</table>\n",
       "</div>"
      ],
      "text/plain": [
       "       Financial performance as-of date current time\n",
       "0                            2020-03-31     20200414\n",
       "13992                        2020-03-31     20200519\n",
       "9238                         2020-04-30     20200519\n",
       "20686                        2020-04-30     20200610\n",
       "18476                        2020-05-31     20200610\n",
       "27861                        2020-05-31     20200716\n",
       "27846                        2020-06-30     20200716\n",
       "37183                        2020-07-31     20200811\n",
       "46423                        2020-08-31     20200913\n",
       "55648                        2020-08-31     20200928\n",
       "64873                        2020-09-30     20201018\n",
       "74102                        2020-10-31     20201111\n",
       "90433                        2020-11-30     20210121\n",
       "83172                        2020-12-31     20210121\n",
       "92372                        2021-01-31     20210303\n",
       "101407                       2021-02-28     20210401\n",
       "110510                       2021-03-31     20210503\n",
       "123188                       2021-04-30     20210715\n",
       "119555                       2021-05-31     20210715\n",
       "128547                       2021-06-30     20210809\n",
       "137441                       2021-07-31     20210902\n",
       "146501                       2021-08-31     20210909\n",
       "155543                       2021-09-30     20211019\n",
       "164580                       2021-10-31     20211113\n",
       "175886                       2021-10-31     20211214\n",
       "173634                       2021-11-30     20211214\n",
       "182638                       2021-12-31     20220125\n",
       "191567                       2022-01-31     20220209\n",
       "200356                       2022-01-31     20220216\n",
       "216599                       2022-01-31     20220316\n",
       "209145                       2022-02-28     20220316"
      ]
     },
     "execution_count": 55,
     "metadata": {},
     "output_type": "execute_result"
    }
   ],
   "source": [
    "tt.sort_values(['Financial performance as-of date', 'current time']).head(31)"
   ]
  },
  {
   "cell_type": "code",
   "execution_count": 56,
   "id": "8f4ddc50",
   "metadata": {},
   "outputs": [
    {
     "data": {
      "text/plain": [
       "2020-08-31    18450\n",
       "2022-01-31    17573\n",
       "2020-05-31     9384\n",
       "2020-06-30     9316\n",
       "2020-07-31     9240\n",
       "Name: Financial performance as-of date, dtype: int64"
      ]
     },
     "execution_count": 56,
     "metadata": {},
     "output_type": "execute_result"
    }
   ],
   "source": [
    "# the two largest counts of records indicate the double reporting for the same date\n",
    "\n",
    "df['Financial performance as-of date'].value_counts().head()"
   ]
  },
  {
   "cell_type": "code",
   "execution_count": 57,
   "id": "6c11de71",
   "metadata": {},
   "outputs": [
    {
     "data": {
      "text/plain": [
       "20200610    9370\n",
       "20200716    9337\n",
       "20200811    9240\n",
       "20200414    9238\n",
       "20200519    9238\n",
       "Name: current time, dtype: int64"
      ]
     },
     "execution_count": 57,
     "metadata": {},
     "output_type": "execute_result"
    }
   ],
   "source": [
    "df['current time'].value_counts().head()"
   ]
  },
  {
   "cell_type": "code",
   "execution_count": 58,
   "id": "d519648f",
   "metadata": {},
   "outputs": [
    {
     "data": {
      "text/plain": [
       "pandas.core.indexes.base.Index"
      ]
     },
     "execution_count": 58,
     "metadata": {},
     "output_type": "execute_result"
    }
   ],
   "source": [
    "col_names = df.columns\n",
    "type(col_names)"
   ]
  },
  {
   "cell_type": "code",
   "execution_count": 59,
   "id": "859b0d99",
   "metadata": {},
   "outputs": [
    {
     "data": {
      "text/plain": [
       "143"
      ]
     },
     "execution_count": 59,
     "metadata": {},
     "output_type": "execute_result"
    }
   ],
   "source": [
    "len(col_names)"
   ]
  },
  {
   "cell_type": "code",
   "execution_count": 60,
   "id": "e59fb4ea",
   "metadata": {},
   "outputs": [],
   "source": [
    "# 'current time' should be ignored when judging duplicated rows\n",
    "\n",
    "col_names_subset = col_names.drop('current time')"
   ]
  },
  {
   "cell_type": "code",
   "execution_count": 61,
   "id": "d483aa7d",
   "metadata": {},
   "outputs": [
    {
     "data": {
      "text/plain": [
       "142"
      ]
     },
     "execution_count": 61,
     "metadata": {},
     "output_type": "execute_result"
    }
   ],
   "source": [
    "len(col_names_subset)"
   ]
  },
  {
   "cell_type": "code",
   "execution_count": 62,
   "id": "a9e77f58",
   "metadata": {},
   "outputs": [],
   "source": [
    "duplicated_rows = df.duplicated(subset = col_names_subset)"
   ]
  },
  {
   "cell_type": "code",
   "execution_count": 63,
   "id": "654c5023",
   "metadata": {},
   "outputs": [
    {
     "data": {
      "text/plain": [
       "7128"
      ]
     },
     "execution_count": 63,
     "metadata": {},
     "output_type": "execute_result"
    }
   ],
   "source": [
    "# number of duplicated rows in the data\n",
    "\n",
    "sum(duplicated_rows)"
   ]
  },
  {
   "cell_type": "code",
   "execution_count": 64,
   "id": "116708db",
   "metadata": {},
   "outputs": [
    {
     "data": {
      "text/html": [
       "<div>\n",
       "<style scoped>\n",
       "    .dataframe tbody tr th:only-of-type {\n",
       "        vertical-align: middle;\n",
       "    }\n",
       "\n",
       "    .dataframe tbody tr th {\n",
       "        vertical-align: top;\n",
       "    }\n",
       "\n",
       "    .dataframe thead th {\n",
       "        text-align: right;\n",
       "    }\n",
       "</style>\n",
       "<table border=\"1\" class=\"dataframe\">\n",
       "  <thead>\n",
       "    <tr style=\"text-align: right;\">\n",
       "      <th></th>\n",
       "      <th>Fund profile: Shareclass name</th>\n",
       "      <th>Fund profile: Ticker</th>\n",
       "      <th>Fund profile: Fund name</th>\n",
       "      <th>Fund profile: Asset manager</th>\n",
       "      <th>Fund profile: Shareclass type</th>\n",
       "      <th>Fund profile: Shareclass inception date</th>\n",
       "      <th>Fund profile: Category group</th>\n",
       "      <th>Fund profile: Sustainability mandate</th>\n",
       "      <th>Fund profile: US-SIF member</th>\n",
       "      <th>Fund profile: Oldest shareclass inception date</th>\n",
       "      <th>...</th>\n",
       "      <th>Fossil Free Funds: Fossil fuel insurance holdings, count</th>\n",
       "      <th>Fossil Free Funds: Fossil fuel insurance holdings, weight</th>\n",
       "      <th>Fossil Free Funds: Fossil fuel insurance holdings, asset</th>\n",
       "      <th>Shareclass name</th>\n",
       "      <th>Fund name</th>\n",
       "      <th>Month end trailing returns, 1 year</th>\n",
       "      <th>Month end trailing returns, 3 year</th>\n",
       "      <th>Month end trailing returns, 5 year</th>\n",
       "      <th>Month end trailing returns, 10 year</th>\n",
       "      <th>Financial performance as-of date</th>\n",
       "    </tr>\n",
       "  </thead>\n",
       "  <tbody>\n",
       "    <tr>\n",
       "      <th>200365</th>\n",
       "      <td>ALPS/Kotak India Growth A</td>\n",
       "      <td>INAAX</td>\n",
       "      <td>ALPS/Kotak India Growth</td>\n",
       "      <td>ALPS</td>\n",
       "      <td>Open-end mutual fund</td>\n",
       "      <td>2018-06-12</td>\n",
       "      <td>International Equity Funds</td>\n",
       "      <td>Y</td>\n",
       "      <td>NaN</td>\n",
       "      <td>2011-02-14</td>\n",
       "      <td>...</td>\n",
       "      <td>NaN</td>\n",
       "      <td>NaN</td>\n",
       "      <td>NaN</td>\n",
       "      <td>ALPS/Kotak India Growth A</td>\n",
       "      <td>ALPS/Kotak India Growth</td>\n",
       "      <td>25.55341</td>\n",
       "      <td>16.95053</td>\n",
       "      <td>12.37844</td>\n",
       "      <td>11.83715</td>\n",
       "      <td>2022-01-31</td>\n",
       "    </tr>\n",
       "    <tr>\n",
       "      <th>200366</th>\n",
       "      <td>ALPS/Kotak India Growth C</td>\n",
       "      <td>INFCX</td>\n",
       "      <td>ALPS/Kotak India Growth</td>\n",
       "      <td>ALPS</td>\n",
       "      <td>Open-end mutual fund</td>\n",
       "      <td>2011-02-14</td>\n",
       "      <td>International Equity Funds</td>\n",
       "      <td>Y</td>\n",
       "      <td>NaN</td>\n",
       "      <td>2011-02-14</td>\n",
       "      <td>...</td>\n",
       "      <td>NaN</td>\n",
       "      <td>NaN</td>\n",
       "      <td>NaN</td>\n",
       "      <td>ALPS/Kotak India Growth C</td>\n",
       "      <td>ALPS/Kotak India Growth</td>\n",
       "      <td>24.69715</td>\n",
       "      <td>16.11809</td>\n",
       "      <td>11.57407</td>\n",
       "      <td>11.01872</td>\n",
       "      <td>2022-01-31</td>\n",
       "    </tr>\n",
       "    <tr>\n",
       "      <th>200367</th>\n",
       "      <td>ALPS/Kotak India Growth I</td>\n",
       "      <td>INDIX</td>\n",
       "      <td>ALPS/Kotak India Growth</td>\n",
       "      <td>ALPS</td>\n",
       "      <td>Open-end mutual fund</td>\n",
       "      <td>2011-02-14</td>\n",
       "      <td>International Equity Funds</td>\n",
       "      <td>Y</td>\n",
       "      <td>NaN</td>\n",
       "      <td>2011-02-14</td>\n",
       "      <td>...</td>\n",
       "      <td>NaN</td>\n",
       "      <td>NaN</td>\n",
       "      <td>NaN</td>\n",
       "      <td>ALPS/Kotak India Growth I</td>\n",
       "      <td>ALPS/Kotak India Growth</td>\n",
       "      <td>25.93037</td>\n",
       "      <td>17.26608</td>\n",
       "      <td>12.69606</td>\n",
       "      <td>12.13499</td>\n",
       "      <td>2022-01-31</td>\n",
       "    </tr>\n",
       "    <tr>\n",
       "      <th>200368</th>\n",
       "      <td>ALPS/Kotak India Growth II</td>\n",
       "      <td>NaN</td>\n",
       "      <td>ALPS/Kotak India Growth</td>\n",
       "      <td>ALPS</td>\n",
       "      <td>Open-end mutual fund</td>\n",
       "      <td>2019-12-19</td>\n",
       "      <td>International Equity Funds</td>\n",
       "      <td>Y</td>\n",
       "      <td>NaN</td>\n",
       "      <td>2011-02-14</td>\n",
       "      <td>...</td>\n",
       "      <td>NaN</td>\n",
       "      <td>NaN</td>\n",
       "      <td>NaN</td>\n",
       "      <td>ALPS/Kotak India Growth II</td>\n",
       "      <td>ALPS/Kotak India Growth</td>\n",
       "      <td>26.29507</td>\n",
       "      <td>17.50607</td>\n",
       "      <td>12.83439</td>\n",
       "      <td>12.20379</td>\n",
       "      <td>2022-01-31</td>\n",
       "    </tr>\n",
       "    <tr>\n",
       "      <th>200369</th>\n",
       "      <td>ALPS/Kotak India Growth Inv</td>\n",
       "      <td>INDAX</td>\n",
       "      <td>ALPS/Kotak India Growth</td>\n",
       "      <td>ALPS</td>\n",
       "      <td>Open-end mutual fund</td>\n",
       "      <td>2011-02-14</td>\n",
       "      <td>International Equity Funds</td>\n",
       "      <td>Y</td>\n",
       "      <td>NaN</td>\n",
       "      <td>2011-02-14</td>\n",
       "      <td>...</td>\n",
       "      <td>NaN</td>\n",
       "      <td>NaN</td>\n",
       "      <td>NaN</td>\n",
       "      <td>ALPS/Kotak India Growth Inv</td>\n",
       "      <td>ALPS/Kotak India Growth</td>\n",
       "      <td>25.53898</td>\n",
       "      <td>17.09529</td>\n",
       "      <td>12.43900</td>\n",
       "      <td>11.81849</td>\n",
       "      <td>2022-01-31</td>\n",
       "    </tr>\n",
       "  </tbody>\n",
       "</table>\n",
       "<p>5 rows × 143 columns</p>\n",
       "</div>"
      ],
      "text/plain": [
       "       Fund profile: Shareclass name Fund profile: Ticker  \\\n",
       "200365     ALPS/Kotak India Growth A                INAAX   \n",
       "200366     ALPS/Kotak India Growth C                INFCX   \n",
       "200367     ALPS/Kotak India Growth I                INDIX   \n",
       "200368    ALPS/Kotak India Growth II                  NaN   \n",
       "200369   ALPS/Kotak India Growth Inv                INDAX   \n",
       "\n",
       "        Fund profile: Fund name Fund profile: Asset manager  \\\n",
       "200365  ALPS/Kotak India Growth                        ALPS   \n",
       "200366  ALPS/Kotak India Growth                        ALPS   \n",
       "200367  ALPS/Kotak India Growth                        ALPS   \n",
       "200368  ALPS/Kotak India Growth                        ALPS   \n",
       "200369  ALPS/Kotak India Growth                        ALPS   \n",
       "\n",
       "       Fund profile: Shareclass type Fund profile: Shareclass inception date  \\\n",
       "200365          Open-end mutual fund                              2018-06-12   \n",
       "200366          Open-end mutual fund                              2011-02-14   \n",
       "200367          Open-end mutual fund                              2011-02-14   \n",
       "200368          Open-end mutual fund                              2019-12-19   \n",
       "200369          Open-end mutual fund                              2011-02-14   \n",
       "\n",
       "       Fund profile: Category group Fund profile: Sustainability mandate  \\\n",
       "200365   International Equity Funds                                    Y   \n",
       "200366   International Equity Funds                                    Y   \n",
       "200367   International Equity Funds                                    Y   \n",
       "200368   International Equity Funds                                    Y   \n",
       "200369   International Equity Funds                                    Y   \n",
       "\n",
       "       Fund profile: US-SIF member  \\\n",
       "200365                         NaN   \n",
       "200366                         NaN   \n",
       "200367                         NaN   \n",
       "200368                         NaN   \n",
       "200369                         NaN   \n",
       "\n",
       "       Fund profile: Oldest shareclass inception date  ...  \\\n",
       "200365                                     2011-02-14  ...   \n",
       "200366                                     2011-02-14  ...   \n",
       "200367                                     2011-02-14  ...   \n",
       "200368                                     2011-02-14  ...   \n",
       "200369                                     2011-02-14  ...   \n",
       "\n",
       "       Fossil Free Funds: Fossil fuel insurance holdings, count  \\\n",
       "200365                                                NaN         \n",
       "200366                                                NaN         \n",
       "200367                                                NaN         \n",
       "200368                                                NaN         \n",
       "200369                                                NaN         \n",
       "\n",
       "       Fossil Free Funds: Fossil fuel insurance holdings, weight  \\\n",
       "200365                                                NaN          \n",
       "200366                                                NaN          \n",
       "200367                                                NaN          \n",
       "200368                                                NaN          \n",
       "200369                                                NaN          \n",
       "\n",
       "        Fossil Free Funds: Fossil fuel insurance holdings, asset  \\\n",
       "200365                                                NaN          \n",
       "200366                                                NaN          \n",
       "200367                                                NaN          \n",
       "200368                                                NaN          \n",
       "200369                                                NaN          \n",
       "\n",
       "                    Shareclass name                Fund name  \\\n",
       "200365    ALPS/Kotak India Growth A  ALPS/Kotak India Growth   \n",
       "200366    ALPS/Kotak India Growth C  ALPS/Kotak India Growth   \n",
       "200367    ALPS/Kotak India Growth I  ALPS/Kotak India Growth   \n",
       "200368   ALPS/Kotak India Growth II  ALPS/Kotak India Growth   \n",
       "200369  ALPS/Kotak India Growth Inv  ALPS/Kotak India Growth   \n",
       "\n",
       "        Month end trailing returns, 1 year  \\\n",
       "200365                            25.55341   \n",
       "200366                            24.69715   \n",
       "200367                            25.93037   \n",
       "200368                            26.29507   \n",
       "200369                            25.53898   \n",
       "\n",
       "        Month end trailing returns, 3 year  \\\n",
       "200365                            16.95053   \n",
       "200366                            16.11809   \n",
       "200367                            17.26608   \n",
       "200368                            17.50607   \n",
       "200369                            17.09529   \n",
       "\n",
       "        Month end trailing returns, 5 year  \\\n",
       "200365                            12.37844   \n",
       "200366                            11.57407   \n",
       "200367                            12.69606   \n",
       "200368                            12.83439   \n",
       "200369                            12.43900   \n",
       "\n",
       "        Month end trailing returns, 10 year  Financial performance as-of date  \n",
       "200365                             11.83715                        2022-01-31  \n",
       "200366                             11.01872                        2022-01-31  \n",
       "200367                             12.13499                        2022-01-31  \n",
       "200368                             12.20379                        2022-01-31  \n",
       "200369                             11.81849                        2022-01-31  \n",
       "\n",
       "[5 rows x 143 columns]"
      ]
     },
     "execution_count": 64,
     "metadata": {},
     "output_type": "execute_result"
    }
   ],
   "source": [
    "df[duplicated_rows].head()"
   ]
  },
  {
   "cell_type": "code",
   "execution_count": 65,
   "id": "75f798e1",
   "metadata": {},
   "outputs": [
    {
     "data": {
      "text/plain": [
       "array(['2022-01-31', nan], dtype=object)"
      ]
     },
     "execution_count": 65,
     "metadata": {},
     "output_type": "execute_result"
    }
   ],
   "source": [
    "# which date(s) have duplicated reporting\n",
    "\n",
    "df.loc[duplicated_rows, 'Financial performance as-of date'].unique()"
   ]
  },
  {
   "cell_type": "code",
   "execution_count": 66,
   "id": "43117948",
   "metadata": {},
   "outputs": [
    {
     "data": {
      "text/plain": [
       "(357975, 143)"
      ]
     },
     "execution_count": 66,
     "metadata": {},
     "output_type": "execute_result"
    }
   ],
   "source": [
    "# drop these duplicated rows\n",
    "\n",
    "df = df[~duplicated_rows]\n",
    "df.shape"
   ]
  },
  {
   "cell_type": "code",
   "execution_count": 68,
   "id": "bb3ec8af",
   "metadata": {},
   "outputs": [
    {
     "data": {
      "text/plain": [
       "(286596, 143)"
      ]
     },
     "execution_count": 68,
     "metadata": {},
     "output_type": "execute_result"
    }
   ],
   "source": [
    "# some months performance reported in two consecutive months but not duplicated\n",
    "# use the rows that was reported in the latest month as they are updated\n",
    "\n",
    "df = df.sort_values(['current time'])\n",
    "df.drop_duplicates(subset = ['Shareclass name', 'Financial performance as-of date'], keep = 'last', inplace = True)\n",
    "df.shape"
   ]
  },
  {
   "cell_type": "code",
   "execution_count": 69,
   "id": "a2f5927c",
   "metadata": {
    "scrolled": true
   },
   "outputs": [
    {
     "data": {
      "text/plain": [
       "0"
      ]
     },
     "execution_count": 69,
     "metadata": {},
     "output_type": "execute_result"
    }
   ],
   "source": [
    "row_counts = df.groupby(['Shareclass name', 'Financial performance as-of date']).apply(len)\n",
    "sum(row_counts > 1)"
   ]
  },
  {
   "cell_type": "markdown",
   "id": "c43d42b6",
   "metadata": {},
   "source": [
    "[Back to the Table of Contents](#0)"
   ]
  },
  {
   "cell_type": "markdown",
   "id": "8d70633a",
   "metadata": {},
   "source": [
    "<a id=\"4.5\"></a> \n",
    "### Find the funds and share classes that have target variables over longest period"
   ]
  },
  {
   "cell_type": "markdown",
   "id": "b6044095",
   "metadata": {},
   "source": [
    "Firstly, we can choose the 'Month end trailing returns, 1 year' as our target variable"
   ]
  },
  {
   "cell_type": "code",
   "execution_count": 72,
   "id": "778e1359",
   "metadata": {},
   "outputs": [
    {
     "data": {
      "text/html": [
       "<div>\n",
       "<style scoped>\n",
       "    .dataframe tbody tr th:only-of-type {\n",
       "        vertical-align: middle;\n",
       "    }\n",
       "\n",
       "    .dataframe tbody tr th {\n",
       "        vertical-align: top;\n",
       "    }\n",
       "\n",
       "    .dataframe thead th {\n",
       "        text-align: right;\n",
       "    }\n",
       "</style>\n",
       "<table border=\"1\" class=\"dataframe\">\n",
       "  <thead>\n",
       "    <tr style=\"text-align: right;\">\n",
       "      <th></th>\n",
       "      <th>date1</th>\n",
       "      <th>date2</th>\n",
       "    </tr>\n",
       "  </thead>\n",
       "  <tbody>\n",
       "    <tr>\n",
       "      <th>0</th>\n",
       "      <td>2020-03-31</td>\n",
       "      <td>20200414</td>\n",
       "    </tr>\n",
       "    <tr>\n",
       "      <th>2</th>\n",
       "      <td>2020-03-31</td>\n",
       "      <td>20200414</td>\n",
       "    </tr>\n",
       "    <tr>\n",
       "      <th>3</th>\n",
       "      <td>2020-03-31</td>\n",
       "      <td>20200414</td>\n",
       "    </tr>\n",
       "    <tr>\n",
       "      <th>4</th>\n",
       "      <td>2020-03-31</td>\n",
       "      <td>20200414</td>\n",
       "    </tr>\n",
       "    <tr>\n",
       "      <th>5</th>\n",
       "      <td>2020-03-31</td>\n",
       "      <td>20200414</td>\n",
       "    </tr>\n",
       "  </tbody>\n",
       "</table>\n",
       "</div>"
      ],
      "text/plain": [
       "        date1     date2\n",
       "0  2020-03-31  20200414\n",
       "2  2020-03-31  20200414\n",
       "3  2020-03-31  20200414\n",
       "4  2020-03-31  20200414\n",
       "5  2020-03-31  20200414"
      ]
     },
     "execution_count": 72,
     "metadata": {},
     "output_type": "execute_result"
    }
   ],
   "source": [
    "df_sub = pd.concat([df['Financial performance as-of date'], df['current time']], axis = 1)\n",
    "df_sub.columns = ['date1', 'date2']\n",
    "df_sub.head()"
   ]
  },
  {
   "cell_type": "code",
   "execution_count": 73,
   "id": "ae756de0",
   "metadata": {},
   "outputs": [
    {
     "data": {
      "text/html": [
       "<div>\n",
       "<style scoped>\n",
       "    .dataframe tbody tr th:only-of-type {\n",
       "        vertical-align: middle;\n",
       "    }\n",
       "\n",
       "    .dataframe tbody tr th {\n",
       "        vertical-align: top;\n",
       "    }\n",
       "\n",
       "    .dataframe thead th {\n",
       "        text-align: right;\n",
       "    }\n",
       "</style>\n",
       "<table border=\"1\" class=\"dataframe\">\n",
       "  <thead>\n",
       "    <tr style=\"text-align: right;\">\n",
       "      <th></th>\n",
       "      <th>date1</th>\n",
       "      <th>date2</th>\n",
       "    </tr>\n",
       "  </thead>\n",
       "  <tbody>\n",
       "    <tr>\n",
       "      <th>count</th>\n",
       "      <td>277579</td>\n",
       "      <td>286596</td>\n",
       "    </tr>\n",
       "    <tr>\n",
       "      <th>unique</th>\n",
       "      <td>34</td>\n",
       "      <td>40</td>\n",
       "    </tr>\n",
       "    <tr>\n",
       "      <th>top</th>\n",
       "      <td>2020-05-31</td>\n",
       "      <td>20200610</td>\n",
       "    </tr>\n",
       "    <tr>\n",
       "      <th>freq</th>\n",
       "      <td>9363</td>\n",
       "      <td>9349</td>\n",
       "    </tr>\n",
       "  </tbody>\n",
       "</table>\n",
       "</div>"
      ],
      "text/plain": [
       "             date1     date2\n",
       "count       277579    286596\n",
       "unique          34        40\n",
       "top     2020-05-31  20200610\n",
       "freq          9363      9349"
      ]
     },
     "execution_count": 73,
     "metadata": {},
     "output_type": "execute_result"
    }
   ],
   "source": [
    "df_sub.describe()"
   ]
  },
  {
   "cell_type": "code",
   "execution_count": 74,
   "id": "de2bf2e4",
   "metadata": {},
   "outputs": [],
   "source": [
    "time_series_data = df[['Shareclass name','Financial performance as-of date','Month end trailing returns, 1 year']]\n"
   ]
  },
  {
   "cell_type": "code",
   "execution_count": 75,
   "id": "5a61c49d",
   "metadata": {},
   "outputs": [
    {
     "name": "stdout",
     "output_type": "stream",
     "text": [
      "<class 'pandas.core.frame.DataFrame'>\n",
      "Int64Index: 286596 entries, 0 to 365102\n",
      "Data columns (total 3 columns):\n",
      " #   Column                              Non-Null Count   Dtype  \n",
      "---  ------                              --------------   -----  \n",
      " 0   Shareclass name                     286596 non-null  object \n",
      " 1   Financial performance as-of date    277579 non-null  object \n",
      " 2   Month end trailing returns, 1 year  271807 non-null  float64\n",
      "dtypes: float64(1), object(2)\n",
      "memory usage: 8.7+ MB\n"
     ]
    }
   ],
   "source": [
    "time_series_data.info()"
   ]
  },
  {
   "cell_type": "code",
   "execution_count": 76,
   "id": "ee036c80",
   "metadata": {},
   "outputs": [],
   "source": [
    "sorted_data = time_series_data.sort_values(['Shareclass name','Financial performance as-of date'])"
   ]
  },
  {
   "cell_type": "code",
   "execution_count": 77,
   "id": "d33ef4c0",
   "metadata": {},
   "outputs": [
    {
     "data": {
      "text/html": [
       "<div>\n",
       "<style scoped>\n",
       "    .dataframe tbody tr th:only-of-type {\n",
       "        vertical-align: middle;\n",
       "    }\n",
       "\n",
       "    .dataframe tbody tr th {\n",
       "        vertical-align: top;\n",
       "    }\n",
       "\n",
       "    .dataframe thead th {\n",
       "        text-align: right;\n",
       "    }\n",
       "</style>\n",
       "<table border=\"1\" class=\"dataframe\">\n",
       "  <thead>\n",
       "    <tr style=\"text-align: right;\">\n",
       "      <th></th>\n",
       "      <th>Shareclass name</th>\n",
       "      <th>Financial performance as-of date</th>\n",
       "      <th>Month end trailing returns, 1 year</th>\n",
       "    </tr>\n",
       "  </thead>\n",
       "  <tbody>\n",
       "    <tr>\n",
       "      <th>0</th>\n",
       "      <td>1290 SmartBeta Equity A</td>\n",
       "      <td>2020-03-31</td>\n",
       "      <td>-7.74546</td>\n",
       "    </tr>\n",
       "    <tr>\n",
       "      <th>9238</th>\n",
       "      <td>1290 SmartBeta Equity A</td>\n",
       "      <td>2020-04-30</td>\n",
       "      <td>-2.73874</td>\n",
       "    </tr>\n",
       "    <tr>\n",
       "      <th>18476</th>\n",
       "      <td>1290 SmartBeta Equity A</td>\n",
       "      <td>2020-05-31</td>\n",
       "      <td>5.15167</td>\n",
       "    </tr>\n",
       "    <tr>\n",
       "      <th>27846</th>\n",
       "      <td>1290 SmartBeta Equity A</td>\n",
       "      <td>2020-06-30</td>\n",
       "      <td>0.92022</td>\n",
       "    </tr>\n",
       "    <tr>\n",
       "      <th>37183</th>\n",
       "      <td>1290 SmartBeta Equity A</td>\n",
       "      <td>2020-07-31</td>\n",
       "      <td>5.48843</td>\n",
       "    </tr>\n",
       "    <tr>\n",
       "      <th>55648</th>\n",
       "      <td>1290 SmartBeta Equity A</td>\n",
       "      <td>2020-08-31</td>\n",
       "      <td>10.96411</td>\n",
       "    </tr>\n",
       "    <tr>\n",
       "      <th>64873</th>\n",
       "      <td>1290 SmartBeta Equity A</td>\n",
       "      <td>2020-09-30</td>\n",
       "      <td>6.55784</td>\n",
       "    </tr>\n",
       "    <tr>\n",
       "      <th>1</th>\n",
       "      <td>1290 SmartBeta Equity I</td>\n",
       "      <td>2020-03-31</td>\n",
       "      <td>-7.50301</td>\n",
       "    </tr>\n",
       "    <tr>\n",
       "      <th>9239</th>\n",
       "      <td>1290 SmartBeta Equity I</td>\n",
       "      <td>2020-04-30</td>\n",
       "      <td>-2.46099</td>\n",
       "    </tr>\n",
       "    <tr>\n",
       "      <th>18477</th>\n",
       "      <td>1290 SmartBeta Equity I</td>\n",
       "      <td>2020-05-31</td>\n",
       "      <td>5.38630</td>\n",
       "    </tr>\n",
       "    <tr>\n",
       "      <th>27847</th>\n",
       "      <td>1290 SmartBeta Equity I</td>\n",
       "      <td>2020-06-30</td>\n",
       "      <td>1.17704</td>\n",
       "    </tr>\n",
       "    <tr>\n",
       "      <th>37184</th>\n",
       "      <td>1290 SmartBeta Equity I</td>\n",
       "      <td>2020-07-31</td>\n",
       "      <td>5.77907</td>\n",
       "    </tr>\n",
       "    <tr>\n",
       "      <th>55649</th>\n",
       "      <td>1290 SmartBeta Equity I</td>\n",
       "      <td>2020-08-31</td>\n",
       "      <td>11.20372</td>\n",
       "    </tr>\n",
       "    <tr>\n",
       "      <th>64874</th>\n",
       "      <td>1290 SmartBeta Equity I</td>\n",
       "      <td>2020-09-30</td>\n",
       "      <td>6.81558</td>\n",
       "    </tr>\n",
       "    <tr>\n",
       "      <th>2</th>\n",
       "      <td>1290 SmartBeta Equity R</td>\n",
       "      <td>2020-03-31</td>\n",
       "      <td>-7.97413</td>\n",
       "    </tr>\n",
       "    <tr>\n",
       "      <th>9240</th>\n",
       "      <td>1290 SmartBeta Equity R</td>\n",
       "      <td>2020-04-30</td>\n",
       "      <td>-3.00216</td>\n",
       "    </tr>\n",
       "  </tbody>\n",
       "</table>\n",
       "</div>"
      ],
      "text/plain": [
       "               Shareclass name Financial performance as-of date  \\\n",
       "0      1290 SmartBeta Equity A                       2020-03-31   \n",
       "9238   1290 SmartBeta Equity A                       2020-04-30   \n",
       "18476  1290 SmartBeta Equity A                       2020-05-31   \n",
       "27846  1290 SmartBeta Equity A                       2020-06-30   \n",
       "37183  1290 SmartBeta Equity A                       2020-07-31   \n",
       "55648  1290 SmartBeta Equity A                       2020-08-31   \n",
       "64873  1290 SmartBeta Equity A                       2020-09-30   \n",
       "1      1290 SmartBeta Equity I                       2020-03-31   \n",
       "9239   1290 SmartBeta Equity I                       2020-04-30   \n",
       "18477  1290 SmartBeta Equity I                       2020-05-31   \n",
       "27847  1290 SmartBeta Equity I                       2020-06-30   \n",
       "37184  1290 SmartBeta Equity I                       2020-07-31   \n",
       "55649  1290 SmartBeta Equity I                       2020-08-31   \n",
       "64874  1290 SmartBeta Equity I                       2020-09-30   \n",
       "2      1290 SmartBeta Equity R                       2020-03-31   \n",
       "9240   1290 SmartBeta Equity R                       2020-04-30   \n",
       "\n",
       "       Month end trailing returns, 1 year  \n",
       "0                                -7.74546  \n",
       "9238                             -2.73874  \n",
       "18476                             5.15167  \n",
       "27846                             0.92022  \n",
       "37183                             5.48843  \n",
       "55648                            10.96411  \n",
       "64873                             6.55784  \n",
       "1                                -7.50301  \n",
       "9239                             -2.46099  \n",
       "18477                             5.38630  \n",
       "27847                             1.17704  \n",
       "37184                             5.77907  \n",
       "55649                            11.20372  \n",
       "64874                             6.81558  \n",
       "2                                -7.97413  \n",
       "9240                             -3.00216  "
      ]
     },
     "execution_count": 77,
     "metadata": {},
     "output_type": "execute_result"
    }
   ],
   "source": [
    "sorted_data.head(16)"
   ]
  },
  {
   "cell_type": "code",
   "execution_count": 78,
   "id": "5bf785c8",
   "metadata": {},
   "outputs": [
    {
     "data": {
      "text/plain": [
       "(286596, 3)"
      ]
     },
     "execution_count": 78,
     "metadata": {},
     "output_type": "execute_result"
    }
   ],
   "source": [
    "sorted_data.shape"
   ]
  },
  {
   "cell_type": "code",
   "execution_count": 79,
   "id": "b0916249",
   "metadata": {},
   "outputs": [
    {
     "data": {
      "text/plain": [
       "14096"
      ]
     },
     "execution_count": 79,
     "metadata": {},
     "output_type": "execute_result"
    }
   ],
   "source": [
    "sorted_data['Shareclass name'].nunique()"
   ]
  },
  {
   "cell_type": "code",
   "execution_count": 80,
   "id": "e35f4b18",
   "metadata": {},
   "outputs": [
    {
     "data": {
      "text/plain": [
       "(271807, 3)"
      ]
     },
     "execution_count": 80,
     "metadata": {},
     "output_type": "execute_result"
    }
   ],
   "source": [
    "non_missing_data = sorted_data.dropna(subset = ['Financial performance as-of date', \n",
    "                                                'Month end trailing returns, 1 year'])\n",
    "non_missing_data.shape"
   ]
  },
  {
   "cell_type": "code",
   "execution_count": 81,
   "id": "cc2c3982",
   "metadata": {},
   "outputs": [
    {
     "data": {
      "text/html": [
       "<div>\n",
       "<style scoped>\n",
       "    .dataframe tbody tr th:only-of-type {\n",
       "        vertical-align: middle;\n",
       "    }\n",
       "\n",
       "    .dataframe tbody tr th {\n",
       "        vertical-align: top;\n",
       "    }\n",
       "\n",
       "    .dataframe thead th {\n",
       "        text-align: right;\n",
       "    }\n",
       "</style>\n",
       "<table border=\"1\" class=\"dataframe\">\n",
       "  <thead>\n",
       "    <tr style=\"text-align: right;\">\n",
       "      <th></th>\n",
       "      <th>Shareclass name</th>\n",
       "      <th># time steps</th>\n",
       "    </tr>\n",
       "  </thead>\n",
       "  <tbody>\n",
       "    <tr>\n",
       "      <th>0</th>\n",
       "      <td>Goldman Sachs International Eq Inc Inv</td>\n",
       "      <td>31</td>\n",
       "    </tr>\n",
       "    <tr>\n",
       "      <th>1</th>\n",
       "      <td>Janus Henderson Growth And Income S</td>\n",
       "      <td>31</td>\n",
       "    </tr>\n",
       "    <tr>\n",
       "      <th>2</th>\n",
       "      <td>Janus Henderson Overseas C</td>\n",
       "      <td>31</td>\n",
       "    </tr>\n",
       "    <tr>\n",
       "      <th>3</th>\n",
       "      <td>Janus Henderson Overseas D</td>\n",
       "      <td>31</td>\n",
       "    </tr>\n",
       "    <tr>\n",
       "      <th>4</th>\n",
       "      <td>Janus Henderson Overseas I</td>\n",
       "      <td>31</td>\n",
       "    </tr>\n",
       "  </tbody>\n",
       "</table>\n",
       "</div>"
      ],
      "text/plain": [
       "                          Shareclass name  # time steps\n",
       "0  Goldman Sachs International Eq Inc Inv            31\n",
       "1     Janus Henderson Growth And Income S            31\n",
       "2              Janus Henderson Overseas C            31\n",
       "3              Janus Henderson Overseas D            31\n",
       "4              Janus Henderson Overseas I            31"
      ]
     },
     "execution_count": 81,
     "metadata": {},
     "output_type": "execute_result"
    }
   ],
   "source": [
    "freq_counts = non_missing_data['Shareclass name'].value_counts()\n",
    "sorted_counts = freq_counts.sort_values(ascending = False).reset_index()\n",
    "sorted_counts.columns = ['Shareclass name', '# time steps']\n",
    "sorted_counts.head()"
   ]
  },
  {
   "cell_type": "code",
   "execution_count": 82,
   "id": "5d532ddc",
   "metadata": {},
   "outputs": [],
   "source": [
    "max_t = sorted_counts['# time steps'].max()"
   ]
  },
  {
   "cell_type": "code",
   "execution_count": 83,
   "id": "f2914acd",
   "metadata": {},
   "outputs": [
    {
     "data": {
      "text/plain": [
       "(13438, 2)"
      ]
     },
     "execution_count": 83,
     "metadata": {},
     "output_type": "execute_result"
    }
   ],
   "source": [
    "sorted_counts.shape"
   ]
  },
  {
   "cell_type": "code",
   "execution_count": 84,
   "id": "affb31d9",
   "metadata": {},
   "outputs": [
    {
     "data": {
      "text/plain": [
       "0    Goldman Sachs International Eq Inc Inv\n",
       "1       Janus Henderson Growth And Income S\n",
       "2                Janus Henderson Overseas C\n",
       "3                Janus Henderson Overseas D\n",
       "4                Janus Henderson Overseas I\n",
       "Name: Shareclass name, dtype: object"
      ]
     },
     "execution_count": 84,
     "metadata": {},
     "output_type": "execute_result"
    }
   ],
   "source": [
    "shareclasses_sub = sorted_counts.loc[sorted_counts['# time steps'] == max_t,'Shareclass name']\n",
    "shareclasses_sub.head()"
   ]
  },
  {
   "cell_type": "code",
   "execution_count": 85,
   "id": "6103175e",
   "metadata": {},
   "outputs": [
    {
     "data": {
      "text/plain": [
       "5579"
      ]
     },
     "execution_count": 85,
     "metadata": {},
     "output_type": "execute_result"
    }
   ],
   "source": [
    "shareclasses_list = list(shareclasses_sub)\n",
    "len(shareclasses_list)"
   ]
  },
  {
   "cell_type": "code",
   "execution_count": 86,
   "id": "e91a5e10",
   "metadata": {},
   "outputs": [
    {
     "data": {
      "text/html": [
       "<div>\n",
       "<style scoped>\n",
       "    .dataframe tbody tr th:only-of-type {\n",
       "        vertical-align: middle;\n",
       "    }\n",
       "\n",
       "    .dataframe tbody tr th {\n",
       "        vertical-align: top;\n",
       "    }\n",
       "\n",
       "    .dataframe thead th {\n",
       "        text-align: right;\n",
       "    }\n",
       "</style>\n",
       "<table border=\"1\" class=\"dataframe\">\n",
       "  <thead>\n",
       "    <tr style=\"text-align: right;\">\n",
       "      <th></th>\n",
       "      <th>Shareclass name</th>\n",
       "      <th>Financial performance as-of date</th>\n",
       "      <th>Month end trailing returns, 1 year</th>\n",
       "    </tr>\n",
       "  </thead>\n",
       "  <tbody>\n",
       "    <tr>\n",
       "      <th>7</th>\n",
       "      <td>1919 Socially Responsive Balanced A</td>\n",
       "      <td>2020-03-31</td>\n",
       "      <td>0.00352</td>\n",
       "    </tr>\n",
       "    <tr>\n",
       "      <th>9245</th>\n",
       "      <td>1919 Socially Responsive Balanced A</td>\n",
       "      <td>2020-04-30</td>\n",
       "      <td>5.60674</td>\n",
       "    </tr>\n",
       "    <tr>\n",
       "      <th>18483</th>\n",
       "      <td>1919 Socially Responsive Balanced A</td>\n",
       "      <td>2020-05-31</td>\n",
       "      <td>13.11467</td>\n",
       "    </tr>\n",
       "    <tr>\n",
       "      <th>27853</th>\n",
       "      <td>1919 Socially Responsive Balanced A</td>\n",
       "      <td>2020-06-30</td>\n",
       "      <td>10.91060</td>\n",
       "    </tr>\n",
       "    <tr>\n",
       "      <th>37190</th>\n",
       "      <td>1919 Socially Responsive Balanced A</td>\n",
       "      <td>2020-07-31</td>\n",
       "      <td>15.01209</td>\n",
       "    </tr>\n",
       "    <tr>\n",
       "      <th>55655</th>\n",
       "      <td>1919 Socially Responsive Balanced A</td>\n",
       "      <td>2020-08-31</td>\n",
       "      <td>21.47144</td>\n",
       "    </tr>\n",
       "    <tr>\n",
       "      <th>64880</th>\n",
       "      <td>1919 Socially Responsive Balanced A</td>\n",
       "      <td>2020-09-30</td>\n",
       "      <td>18.34213</td>\n",
       "    </tr>\n",
       "    <tr>\n",
       "      <th>74102</th>\n",
       "      <td>1919 Socially Responsive Balanced A</td>\n",
       "      <td>2020-10-31</td>\n",
       "      <td>15.15362</td>\n",
       "    </tr>\n",
       "    <tr>\n",
       "      <th>83172</th>\n",
       "      <td>1919 Socially Responsive Balanced A</td>\n",
       "      <td>2020-12-31</td>\n",
       "      <td>20.57031</td>\n",
       "    </tr>\n",
       "    <tr>\n",
       "      <th>92372</th>\n",
       "      <td>1919 Socially Responsive Balanced A</td>\n",
       "      <td>2021-01-31</td>\n",
       "      <td>17.88592</td>\n",
       "    </tr>\n",
       "    <tr>\n",
       "      <th>101407</th>\n",
       "      <td>1919 Socially Responsive Balanced A</td>\n",
       "      <td>2021-02-28</td>\n",
       "      <td>23.95082</td>\n",
       "    </tr>\n",
       "    <tr>\n",
       "      <th>110510</th>\n",
       "      <td>1919 Socially Responsive Balanced A</td>\n",
       "      <td>2021-03-31</td>\n",
       "      <td>36.55813</td>\n",
       "    </tr>\n",
       "    <tr>\n",
       "      <th>119555</th>\n",
       "      <td>1919 Socially Responsive Balanced A</td>\n",
       "      <td>2021-05-31</td>\n",
       "      <td>26.19936</td>\n",
       "    </tr>\n",
       "    <tr>\n",
       "      <th>128547</th>\n",
       "      <td>1919 Socially Responsive Balanced A</td>\n",
       "      <td>2021-06-30</td>\n",
       "      <td>26.27056</td>\n",
       "    </tr>\n",
       "    <tr>\n",
       "      <th>137441</th>\n",
       "      <td>1919 Socially Responsive Balanced A</td>\n",
       "      <td>2021-07-31</td>\n",
       "      <td>22.50852</td>\n",
       "    </tr>\n",
       "    <tr>\n",
       "      <th>146501</th>\n",
       "      <td>1919 Socially Responsive Balanced A</td>\n",
       "      <td>2021-08-31</td>\n",
       "      <td>19.64258</td>\n",
       "    </tr>\n",
       "    <tr>\n",
       "      <th>155543</th>\n",
       "      <td>1919 Socially Responsive Balanced A</td>\n",
       "      <td>2021-09-30</td>\n",
       "      <td>18.03270</td>\n",
       "    </tr>\n",
       "    <tr>\n",
       "      <th>164580</th>\n",
       "      <td>1919 Socially Responsive Balanced A</td>\n",
       "      <td>2021-10-31</td>\n",
       "      <td>26.68204</td>\n",
       "    </tr>\n",
       "    <tr>\n",
       "      <th>173634</th>\n",
       "      <td>1919 Socially Responsive Balanced A</td>\n",
       "      <td>2021-11-30</td>\n",
       "      <td>18.38418</td>\n",
       "    </tr>\n",
       "    <tr>\n",
       "      <th>182638</th>\n",
       "      <td>1919 Socially Responsive Balanced A</td>\n",
       "      <td>2021-12-31</td>\n",
       "      <td>17.26435</td>\n",
       "    </tr>\n",
       "    <tr>\n",
       "      <th>200359</th>\n",
       "      <td>1919 Socially Responsive Balanced A</td>\n",
       "      <td>2022-01-31</td>\n",
       "      <td>11.60641</td>\n",
       "    </tr>\n",
       "    <tr>\n",
       "      <th>209148</th>\n",
       "      <td>1919 Socially Responsive Balanced A</td>\n",
       "      <td>2022-02-28</td>\n",
       "      <td>8.03993</td>\n",
       "    </tr>\n",
       "    <tr>\n",
       "      <th>217934</th>\n",
       "      <td>1919 Socially Responsive Balanced A</td>\n",
       "      <td>2022-03-31</td>\n",
       "      <td>7.89808</td>\n",
       "    </tr>\n",
       "    <tr>\n",
       "      <th>226777</th>\n",
       "      <td>1919 Socially Responsive Balanced A</td>\n",
       "      <td>2022-04-30</td>\n",
       "      <td>-5.45236</td>\n",
       "    </tr>\n",
       "    <tr>\n",
       "      <th>235341</th>\n",
       "      <td>1919 Socially Responsive Balanced A</td>\n",
       "      <td>2022-05-31</td>\n",
       "      <td>-6.22035</td>\n",
       "    </tr>\n",
       "    <tr>\n",
       "      <th>243887</th>\n",
       "      <td>1919 Socially Responsive Balanced A</td>\n",
       "      <td>2022-06-30</td>\n",
       "      <td>-12.96718</td>\n",
       "    </tr>\n",
       "    <tr>\n",
       "      <th>252426</th>\n",
       "      <td>1919 Socially Responsive Balanced A</td>\n",
       "      <td>2022-07-31</td>\n",
       "      <td>-8.15869</td>\n",
       "    </tr>\n",
       "    <tr>\n",
       "      <th>261071</th>\n",
       "      <td>1919 Socially Responsive Balanced A</td>\n",
       "      <td>2022-08-31</td>\n",
       "      <td>-14.29734</td>\n",
       "    </tr>\n",
       "    <tr>\n",
       "      <th>269751</th>\n",
       "      <td>1919 Socially Responsive Balanced A</td>\n",
       "      <td>2022-09-30</td>\n",
       "      <td>-17.29479</td>\n",
       "    </tr>\n",
       "    <tr>\n",
       "      <th>278400</th>\n",
       "      <td>1919 Socially Responsive Balanced A</td>\n",
       "      <td>2022-10-31</td>\n",
       "      <td>-18.85549</td>\n",
       "    </tr>\n",
       "    <tr>\n",
       "      <th>287030</th>\n",
       "      <td>1919 Socially Responsive Balanced A</td>\n",
       "      <td>2022-11-30</td>\n",
       "      <td>-14.87273</td>\n",
       "    </tr>\n",
       "    <tr>\n",
       "      <th>356518</th>\n",
       "      <td>1919 Socially Responsive Balanced A</td>\n",
       "      <td>NaN</td>\n",
       "      <td>NaN</td>\n",
       "    </tr>\n",
       "    <tr>\n",
       "      <th>8</th>\n",
       "      <td>1919 Socially Responsive Balanced C</td>\n",
       "      <td>2020-03-31</td>\n",
       "      <td>-0.65016</td>\n",
       "    </tr>\n",
       "  </tbody>\n",
       "</table>\n",
       "</div>"
      ],
      "text/plain": [
       "                            Shareclass name Financial performance as-of date  \\\n",
       "7       1919 Socially Responsive Balanced A                       2020-03-31   \n",
       "9245    1919 Socially Responsive Balanced A                       2020-04-30   \n",
       "18483   1919 Socially Responsive Balanced A                       2020-05-31   \n",
       "27853   1919 Socially Responsive Balanced A                       2020-06-30   \n",
       "37190   1919 Socially Responsive Balanced A                       2020-07-31   \n",
       "55655   1919 Socially Responsive Balanced A                       2020-08-31   \n",
       "64880   1919 Socially Responsive Balanced A                       2020-09-30   \n",
       "74102   1919 Socially Responsive Balanced A                       2020-10-31   \n",
       "83172   1919 Socially Responsive Balanced A                       2020-12-31   \n",
       "92372   1919 Socially Responsive Balanced A                       2021-01-31   \n",
       "101407  1919 Socially Responsive Balanced A                       2021-02-28   \n",
       "110510  1919 Socially Responsive Balanced A                       2021-03-31   \n",
       "119555  1919 Socially Responsive Balanced A                       2021-05-31   \n",
       "128547  1919 Socially Responsive Balanced A                       2021-06-30   \n",
       "137441  1919 Socially Responsive Balanced A                       2021-07-31   \n",
       "146501  1919 Socially Responsive Balanced A                       2021-08-31   \n",
       "155543  1919 Socially Responsive Balanced A                       2021-09-30   \n",
       "164580  1919 Socially Responsive Balanced A                       2021-10-31   \n",
       "173634  1919 Socially Responsive Balanced A                       2021-11-30   \n",
       "182638  1919 Socially Responsive Balanced A                       2021-12-31   \n",
       "200359  1919 Socially Responsive Balanced A                       2022-01-31   \n",
       "209148  1919 Socially Responsive Balanced A                       2022-02-28   \n",
       "217934  1919 Socially Responsive Balanced A                       2022-03-31   \n",
       "226777  1919 Socially Responsive Balanced A                       2022-04-30   \n",
       "235341  1919 Socially Responsive Balanced A                       2022-05-31   \n",
       "243887  1919 Socially Responsive Balanced A                       2022-06-30   \n",
       "252426  1919 Socially Responsive Balanced A                       2022-07-31   \n",
       "261071  1919 Socially Responsive Balanced A                       2022-08-31   \n",
       "269751  1919 Socially Responsive Balanced A                       2022-09-30   \n",
       "278400  1919 Socially Responsive Balanced A                       2022-10-31   \n",
       "287030  1919 Socially Responsive Balanced A                       2022-11-30   \n",
       "356518  1919 Socially Responsive Balanced A                              NaN   \n",
       "8       1919 Socially Responsive Balanced C                       2020-03-31   \n",
       "\n",
       "        Month end trailing returns, 1 year  \n",
       "7                                  0.00352  \n",
       "9245                               5.60674  \n",
       "18483                             13.11467  \n",
       "27853                             10.91060  \n",
       "37190                             15.01209  \n",
       "55655                             21.47144  \n",
       "64880                             18.34213  \n",
       "74102                             15.15362  \n",
       "83172                             20.57031  \n",
       "92372                             17.88592  \n",
       "101407                            23.95082  \n",
       "110510                            36.55813  \n",
       "119555                            26.19936  \n",
       "128547                            26.27056  \n",
       "137441                            22.50852  \n",
       "146501                            19.64258  \n",
       "155543                            18.03270  \n",
       "164580                            26.68204  \n",
       "173634                            18.38418  \n",
       "182638                            17.26435  \n",
       "200359                            11.60641  \n",
       "209148                             8.03993  \n",
       "217934                             7.89808  \n",
       "226777                            -5.45236  \n",
       "235341                            -6.22035  \n",
       "243887                           -12.96718  \n",
       "252426                            -8.15869  \n",
       "261071                           -14.29734  \n",
       "269751                           -17.29479  \n",
       "278400                           -18.85549  \n",
       "287030                           -14.87273  \n",
       "356518                                 NaN  \n",
       "8                                 -0.65016  "
      ]
     },
     "execution_count": 86,
     "metadata": {},
     "output_type": "execute_result"
    }
   ],
   "source": [
    "# the months are not all continuous. \n",
    "# some months are missing, in the first share class, 2020-11-30 and 2021-04-30 are missing\n",
    "# also for last month, 2022-12-31 is NAN\n",
    "\n",
    "longest_ts = sorted_data[sorted_data['Shareclass name'].isin(shareclasses_list)]\n",
    "longest_ts.head(33)"
   ]
  },
  {
   "cell_type": "code",
   "execution_count": 87,
   "id": "9437389d",
   "metadata": {},
   "outputs": [
    {
     "data": {
      "text/html": [
       "<div>\n",
       "<style scoped>\n",
       "    .dataframe tbody tr th:only-of-type {\n",
       "        vertical-align: middle;\n",
       "    }\n",
       "\n",
       "    .dataframe tbody tr th {\n",
       "        vertical-align: top;\n",
       "    }\n",
       "\n",
       "    .dataframe thead th {\n",
       "        text-align: right;\n",
       "    }\n",
       "</style>\n",
       "<table border=\"1\" class=\"dataframe\">\n",
       "  <thead>\n",
       "    <tr style=\"text-align: right;\">\n",
       "      <th></th>\n",
       "      <th>Shareclass name</th>\n",
       "      <th>Financial performance as-of date</th>\n",
       "      <th>Month end trailing returns, 1 year</th>\n",
       "    </tr>\n",
       "  </thead>\n",
       "  <tbody>\n",
       "  </tbody>\n",
       "</table>\n",
       "</div>"
      ],
      "text/plain": [
       "Empty DataFrame\n",
       "Columns: [Shareclass name, Financial performance as-of date, Month end trailing returns, 1 year]\n",
       "Index: []"
      ]
     },
     "execution_count": 87,
     "metadata": {},
     "output_type": "execute_result"
    }
   ],
   "source": [
    "# check if these two time step is missing for all share classes\n",
    "\n",
    "check_missing = longest_ts.loc[longest_ts['Financial performance as-of date'].isin(['2020-11-30', '2021-04-30'])]\n",
    "check_missing"
   ]
  },
  {
   "cell_type": "markdown",
   "id": "b4c6febd",
   "metadata": {},
   "source": [
    "None of the share classes with the longest time series of 'Month end trailing returns, 1 year' have this performance reported for these two months."
   ]
  },
  {
   "cell_type": "code",
   "execution_count": 88,
   "id": "e969fcea",
   "metadata": {},
   "outputs": [
    {
     "data": {
      "text/html": [
       "<div>\n",
       "<style scoped>\n",
       "    .dataframe tbody tr th:only-of-type {\n",
       "        vertical-align: middle;\n",
       "    }\n",
       "\n",
       "    .dataframe tbody tr th {\n",
       "        vertical-align: top;\n",
       "    }\n",
       "\n",
       "    .dataframe thead th {\n",
       "        text-align: right;\n",
       "    }\n",
       "</style>\n",
       "<table border=\"1\" class=\"dataframe\">\n",
       "  <thead>\n",
       "    <tr style=\"text-align: right;\">\n",
       "      <th></th>\n",
       "      <th>Shareclass name</th>\n",
       "      <th>Financial performance as-of date</th>\n",
       "      <th>Month end trailing returns, 1 year</th>\n",
       "    </tr>\n",
       "  </thead>\n",
       "  <tbody>\n",
       "    <tr>\n",
       "      <th>7</th>\n",
       "      <td>1919 Socially Responsive Balanced A</td>\n",
       "      <td>2020-03-31</td>\n",
       "      <td>0.00352</td>\n",
       "    </tr>\n",
       "    <tr>\n",
       "      <th>9245</th>\n",
       "      <td>1919 Socially Responsive Balanced A</td>\n",
       "      <td>2020-04-30</td>\n",
       "      <td>5.60674</td>\n",
       "    </tr>\n",
       "    <tr>\n",
       "      <th>18483</th>\n",
       "      <td>1919 Socially Responsive Balanced A</td>\n",
       "      <td>2020-05-31</td>\n",
       "      <td>13.11467</td>\n",
       "    </tr>\n",
       "    <tr>\n",
       "      <th>27853</th>\n",
       "      <td>1919 Socially Responsive Balanced A</td>\n",
       "      <td>2020-06-30</td>\n",
       "      <td>10.91060</td>\n",
       "    </tr>\n",
       "    <tr>\n",
       "      <th>37190</th>\n",
       "      <td>1919 Socially Responsive Balanced A</td>\n",
       "      <td>2020-07-31</td>\n",
       "      <td>15.01209</td>\n",
       "    </tr>\n",
       "    <tr>\n",
       "      <th>55655</th>\n",
       "      <td>1919 Socially Responsive Balanced A</td>\n",
       "      <td>2020-08-31</td>\n",
       "      <td>21.47144</td>\n",
       "    </tr>\n",
       "    <tr>\n",
       "      <th>64880</th>\n",
       "      <td>1919 Socially Responsive Balanced A</td>\n",
       "      <td>2020-09-30</td>\n",
       "      <td>18.34213</td>\n",
       "    </tr>\n",
       "    <tr>\n",
       "      <th>74102</th>\n",
       "      <td>1919 Socially Responsive Balanced A</td>\n",
       "      <td>2020-10-31</td>\n",
       "      <td>15.15362</td>\n",
       "    </tr>\n",
       "    <tr>\n",
       "      <th>83172</th>\n",
       "      <td>1919 Socially Responsive Balanced A</td>\n",
       "      <td>2020-12-31</td>\n",
       "      <td>20.57031</td>\n",
       "    </tr>\n",
       "    <tr>\n",
       "      <th>92372</th>\n",
       "      <td>1919 Socially Responsive Balanced A</td>\n",
       "      <td>2021-01-31</td>\n",
       "      <td>17.88592</td>\n",
       "    </tr>\n",
       "    <tr>\n",
       "      <th>101407</th>\n",
       "      <td>1919 Socially Responsive Balanced A</td>\n",
       "      <td>2021-02-28</td>\n",
       "      <td>23.95082</td>\n",
       "    </tr>\n",
       "    <tr>\n",
       "      <th>110510</th>\n",
       "      <td>1919 Socially Responsive Balanced A</td>\n",
       "      <td>2021-03-31</td>\n",
       "      <td>36.55813</td>\n",
       "    </tr>\n",
       "    <tr>\n",
       "      <th>119555</th>\n",
       "      <td>1919 Socially Responsive Balanced A</td>\n",
       "      <td>2021-05-31</td>\n",
       "      <td>26.19936</td>\n",
       "    </tr>\n",
       "    <tr>\n",
       "      <th>128547</th>\n",
       "      <td>1919 Socially Responsive Balanced A</td>\n",
       "      <td>2021-06-30</td>\n",
       "      <td>26.27056</td>\n",
       "    </tr>\n",
       "    <tr>\n",
       "      <th>137441</th>\n",
       "      <td>1919 Socially Responsive Balanced A</td>\n",
       "      <td>2021-07-31</td>\n",
       "      <td>22.50852</td>\n",
       "    </tr>\n",
       "    <tr>\n",
       "      <th>146501</th>\n",
       "      <td>1919 Socially Responsive Balanced A</td>\n",
       "      <td>2021-08-31</td>\n",
       "      <td>19.64258</td>\n",
       "    </tr>\n",
       "    <tr>\n",
       "      <th>155543</th>\n",
       "      <td>1919 Socially Responsive Balanced A</td>\n",
       "      <td>2021-09-30</td>\n",
       "      <td>18.03270</td>\n",
       "    </tr>\n",
       "    <tr>\n",
       "      <th>164580</th>\n",
       "      <td>1919 Socially Responsive Balanced A</td>\n",
       "      <td>2021-10-31</td>\n",
       "      <td>26.68204</td>\n",
       "    </tr>\n",
       "    <tr>\n",
       "      <th>173634</th>\n",
       "      <td>1919 Socially Responsive Balanced A</td>\n",
       "      <td>2021-11-30</td>\n",
       "      <td>18.38418</td>\n",
       "    </tr>\n",
       "    <tr>\n",
       "      <th>182638</th>\n",
       "      <td>1919 Socially Responsive Balanced A</td>\n",
       "      <td>2021-12-31</td>\n",
       "      <td>17.26435</td>\n",
       "    </tr>\n",
       "    <tr>\n",
       "      <th>200359</th>\n",
       "      <td>1919 Socially Responsive Balanced A</td>\n",
       "      <td>2022-01-31</td>\n",
       "      <td>11.60641</td>\n",
       "    </tr>\n",
       "    <tr>\n",
       "      <th>209148</th>\n",
       "      <td>1919 Socially Responsive Balanced A</td>\n",
       "      <td>2022-02-28</td>\n",
       "      <td>8.03993</td>\n",
       "    </tr>\n",
       "    <tr>\n",
       "      <th>217934</th>\n",
       "      <td>1919 Socially Responsive Balanced A</td>\n",
       "      <td>2022-03-31</td>\n",
       "      <td>7.89808</td>\n",
       "    </tr>\n",
       "    <tr>\n",
       "      <th>226777</th>\n",
       "      <td>1919 Socially Responsive Balanced A</td>\n",
       "      <td>2022-04-30</td>\n",
       "      <td>-5.45236</td>\n",
       "    </tr>\n",
       "    <tr>\n",
       "      <th>235341</th>\n",
       "      <td>1919 Socially Responsive Balanced A</td>\n",
       "      <td>2022-05-31</td>\n",
       "      <td>-6.22035</td>\n",
       "    </tr>\n",
       "    <tr>\n",
       "      <th>243887</th>\n",
       "      <td>1919 Socially Responsive Balanced A</td>\n",
       "      <td>2022-06-30</td>\n",
       "      <td>-12.96718</td>\n",
       "    </tr>\n",
       "    <tr>\n",
       "      <th>252426</th>\n",
       "      <td>1919 Socially Responsive Balanced A</td>\n",
       "      <td>2022-07-31</td>\n",
       "      <td>-8.15869</td>\n",
       "    </tr>\n",
       "    <tr>\n",
       "      <th>261071</th>\n",
       "      <td>1919 Socially Responsive Balanced A</td>\n",
       "      <td>2022-08-31</td>\n",
       "      <td>-14.29734</td>\n",
       "    </tr>\n",
       "    <tr>\n",
       "      <th>269751</th>\n",
       "      <td>1919 Socially Responsive Balanced A</td>\n",
       "      <td>2022-09-30</td>\n",
       "      <td>-17.29479</td>\n",
       "    </tr>\n",
       "    <tr>\n",
       "      <th>278400</th>\n",
       "      <td>1919 Socially Responsive Balanced A</td>\n",
       "      <td>2022-10-31</td>\n",
       "      <td>-18.85549</td>\n",
       "    </tr>\n",
       "    <tr>\n",
       "      <th>287030</th>\n",
       "      <td>1919 Socially Responsive Balanced A</td>\n",
       "      <td>2022-11-30</td>\n",
       "      <td>-14.87273</td>\n",
       "    </tr>\n",
       "    <tr>\n",
       "      <th>8</th>\n",
       "      <td>1919 Socially Responsive Balanced C</td>\n",
       "      <td>2020-03-31</td>\n",
       "      <td>-0.65016</td>\n",
       "    </tr>\n",
       "    <tr>\n",
       "      <th>9246</th>\n",
       "      <td>1919 Socially Responsive Balanced C</td>\n",
       "      <td>2020-04-30</td>\n",
       "      <td>4.88930</td>\n",
       "    </tr>\n",
       "  </tbody>\n",
       "</table>\n",
       "</div>"
      ],
      "text/plain": [
       "                            Shareclass name Financial performance as-of date  \\\n",
       "7       1919 Socially Responsive Balanced A                       2020-03-31   \n",
       "9245    1919 Socially Responsive Balanced A                       2020-04-30   \n",
       "18483   1919 Socially Responsive Balanced A                       2020-05-31   \n",
       "27853   1919 Socially Responsive Balanced A                       2020-06-30   \n",
       "37190   1919 Socially Responsive Balanced A                       2020-07-31   \n",
       "55655   1919 Socially Responsive Balanced A                       2020-08-31   \n",
       "64880   1919 Socially Responsive Balanced A                       2020-09-30   \n",
       "74102   1919 Socially Responsive Balanced A                       2020-10-31   \n",
       "83172   1919 Socially Responsive Balanced A                       2020-12-31   \n",
       "92372   1919 Socially Responsive Balanced A                       2021-01-31   \n",
       "101407  1919 Socially Responsive Balanced A                       2021-02-28   \n",
       "110510  1919 Socially Responsive Balanced A                       2021-03-31   \n",
       "119555  1919 Socially Responsive Balanced A                       2021-05-31   \n",
       "128547  1919 Socially Responsive Balanced A                       2021-06-30   \n",
       "137441  1919 Socially Responsive Balanced A                       2021-07-31   \n",
       "146501  1919 Socially Responsive Balanced A                       2021-08-31   \n",
       "155543  1919 Socially Responsive Balanced A                       2021-09-30   \n",
       "164580  1919 Socially Responsive Balanced A                       2021-10-31   \n",
       "173634  1919 Socially Responsive Balanced A                       2021-11-30   \n",
       "182638  1919 Socially Responsive Balanced A                       2021-12-31   \n",
       "200359  1919 Socially Responsive Balanced A                       2022-01-31   \n",
       "209148  1919 Socially Responsive Balanced A                       2022-02-28   \n",
       "217934  1919 Socially Responsive Balanced A                       2022-03-31   \n",
       "226777  1919 Socially Responsive Balanced A                       2022-04-30   \n",
       "235341  1919 Socially Responsive Balanced A                       2022-05-31   \n",
       "243887  1919 Socially Responsive Balanced A                       2022-06-30   \n",
       "252426  1919 Socially Responsive Balanced A                       2022-07-31   \n",
       "261071  1919 Socially Responsive Balanced A                       2022-08-31   \n",
       "269751  1919 Socially Responsive Balanced A                       2022-09-30   \n",
       "278400  1919 Socially Responsive Balanced A                       2022-10-31   \n",
       "287030  1919 Socially Responsive Balanced A                       2022-11-30   \n",
       "8       1919 Socially Responsive Balanced C                       2020-03-31   \n",
       "9246    1919 Socially Responsive Balanced C                       2020-04-30   \n",
       "\n",
       "        Month end trailing returns, 1 year  \n",
       "7                                  0.00352  \n",
       "9245                               5.60674  \n",
       "18483                             13.11467  \n",
       "27853                             10.91060  \n",
       "37190                             15.01209  \n",
       "55655                             21.47144  \n",
       "64880                             18.34213  \n",
       "74102                             15.15362  \n",
       "83172                             20.57031  \n",
       "92372                             17.88592  \n",
       "101407                            23.95082  \n",
       "110510                            36.55813  \n",
       "119555                            26.19936  \n",
       "128547                            26.27056  \n",
       "137441                            22.50852  \n",
       "146501                            19.64258  \n",
       "155543                            18.03270  \n",
       "164580                            26.68204  \n",
       "173634                            18.38418  \n",
       "182638                            17.26435  \n",
       "200359                            11.60641  \n",
       "209148                             8.03993  \n",
       "217934                             7.89808  \n",
       "226777                            -5.45236  \n",
       "235341                            -6.22035  \n",
       "243887                           -12.96718  \n",
       "252426                            -8.15869  \n",
       "261071                           -14.29734  \n",
       "269751                           -17.29479  \n",
       "278400                           -18.85549  \n",
       "287030                           -14.87273  \n",
       "8                                 -0.65016  \n",
       "9246                               4.88930  "
      ]
     },
     "execution_count": 88,
     "metadata": {},
     "output_type": "execute_result"
    }
   ],
   "source": [
    "# drop the NaN values\n",
    "\n",
    "longest_ts = longest_ts.loc[~longest_ts['Financial performance as-of date'].isnull()]\n",
    "longest_ts.head(33)"
   ]
  },
  {
   "cell_type": "code",
   "execution_count": 90,
   "id": "5ef68e39",
   "metadata": {},
   "outputs": [
    {
     "data": {
      "text/plain": [
       "5579"
      ]
     },
     "execution_count": 90,
     "metadata": {},
     "output_type": "execute_result"
    }
   ],
   "source": [
    "len(set(longest_ts['Shareclass name']))"
   ]
  },
  {
   "cell_type": "markdown",
   "id": "2456a3ef",
   "metadata": {},
   "source": [
    "[Back to the Table of Contents](#0)"
   ]
  },
  {
   "cell_type": "markdown",
   "id": "4aa3384e",
   "metadata": {},
   "source": [
    "<a id=\"4.6\"></a> \n",
    "### Save the time series data and the data records with target covering longest time period"
   ]
  },
  {
   "cell_type": "code",
   "execution_count": 92,
   "id": "015ba032",
   "metadata": {},
   "outputs": [],
   "source": [
    "# save the time series data\n",
    "\n",
    "longest_ts.to_csv('data/shareclasses_one_year_return_max_months_long_time_series.csv', index = False)"
   ]
  },
  {
   "cell_type": "code",
   "execution_count": 93,
   "id": "b4646d58",
   "metadata": {},
   "outputs": [
    {
     "data": {
      "text/plain": [
       "(178505, 143)"
      ]
     },
     "execution_count": 93,
     "metadata": {},
     "output_type": "execute_result"
    }
   ],
   "source": [
    "# include the features and other targets\n",
    "\n",
    "df_filtered = df[df['Shareclass name'].isin(shareclasses_list)]\n",
    "df_filtered.shape"
   ]
  },
  {
   "cell_type": "code",
   "execution_count": 95,
   "id": "91d258ba",
   "metadata": {
    "scrolled": true
   },
   "outputs": [
    {
     "data": {
      "text/html": [
       "<div>\n",
       "<style scoped>\n",
       "    .dataframe tbody tr th:only-of-type {\n",
       "        vertical-align: middle;\n",
       "    }\n",
       "\n",
       "    .dataframe tbody tr th {\n",
       "        vertical-align: top;\n",
       "    }\n",
       "\n",
       "    .dataframe thead th {\n",
       "        text-align: right;\n",
       "    }\n",
       "</style>\n",
       "<table border=\"1\" class=\"dataframe\">\n",
       "  <thead>\n",
       "    <tr style=\"text-align: right;\">\n",
       "      <th></th>\n",
       "      <th>Fund profile: Shareclass name</th>\n",
       "      <th>Fund profile: Ticker</th>\n",
       "      <th>Fund profile: Fund name</th>\n",
       "      <th>Fund profile: Asset manager</th>\n",
       "      <th>Fund profile: Shareclass type</th>\n",
       "      <th>Fund profile: Shareclass inception date</th>\n",
       "      <th>Fund profile: Category group</th>\n",
       "      <th>Fund profile: Sustainability mandate</th>\n",
       "      <th>Fund profile: US-SIF member</th>\n",
       "      <th>Fund profile: Oldest shareclass inception date</th>\n",
       "      <th>...</th>\n",
       "      <th>Fossil Free Funds: Fossil fuel insurance holdings, count</th>\n",
       "      <th>Fossil Free Funds: Fossil fuel insurance holdings, weight</th>\n",
       "      <th>Fossil Free Funds: Fossil fuel insurance holdings, asset</th>\n",
       "      <th>Shareclass name</th>\n",
       "      <th>Fund name</th>\n",
       "      <th>Month end trailing returns, 1 year</th>\n",
       "      <th>Month end trailing returns, 3 year</th>\n",
       "      <th>Month end trailing returns, 5 year</th>\n",
       "      <th>Month end trailing returns, 10 year</th>\n",
       "      <th>Financial performance as-of date</th>\n",
       "    </tr>\n",
       "  </thead>\n",
       "  <tbody>\n",
       "    <tr>\n",
       "      <th>364837</th>\n",
       "      <td>VY® Invesco Equity and Income S2</td>\n",
       "      <td>IVIPX</td>\n",
       "      <td>VY® Invesco Equity and Income Portfolio</td>\n",
       "      <td>Voya</td>\n",
       "      <td>Open-end mutual fund</td>\n",
       "      <td>2009-02-27</td>\n",
       "      <td>Allocation Funds</td>\n",
       "      <td>NaN</td>\n",
       "      <td>NaN</td>\n",
       "      <td>2001-12-10</td>\n",
       "      <td>...</td>\n",
       "      <td>1.0</td>\n",
       "      <td>0.014404</td>\n",
       "      <td>15000773.0</td>\n",
       "      <td>VY Invesco Equity and Income S2</td>\n",
       "      <td>VY Invesco Equity and Income Portfolio</td>\n",
       "      <td>NaN</td>\n",
       "      <td>NaN</td>\n",
       "      <td>NaN</td>\n",
       "      <td>NaN</td>\n",
       "      <td>NaN</td>\n",
       "    </tr>\n",
       "    <tr>\n",
       "      <th>365074</th>\n",
       "      <td>WisdomTree U.S. ESG ETF</td>\n",
       "      <td>RESP</td>\n",
       "      <td>WisdomTree U.S. ESG Fund</td>\n",
       "      <td>WisdomTree</td>\n",
       "      <td>ETF</td>\n",
       "      <td>2007-02-23</td>\n",
       "      <td>U.S. Equity Fund</td>\n",
       "      <td>Y</td>\n",
       "      <td>NaN</td>\n",
       "      <td>2007-02-23</td>\n",
       "      <td>...</td>\n",
       "      <td>2.0</td>\n",
       "      <td>0.004272</td>\n",
       "      <td>286368.0</td>\n",
       "      <td>WisdomTree U.S. ESG ETF</td>\n",
       "      <td>WisdomTree U.S. ESG Fund</td>\n",
       "      <td>NaN</td>\n",
       "      <td>NaN</td>\n",
       "      <td>NaN</td>\n",
       "      <td>NaN</td>\n",
       "      <td>NaN</td>\n",
       "    </tr>\n",
       "    <tr>\n",
       "      <th>365093</th>\n",
       "      <td>Xtrackers MSCI EAFE ESG Leaders Eq ETF</td>\n",
       "      <td>EASG</td>\n",
       "      <td>Xtrackers MSCI EAFE ESG Leaders Equity ETF</td>\n",
       "      <td>Xtrackers</td>\n",
       "      <td>ETF</td>\n",
       "      <td>2018-09-05</td>\n",
       "      <td>International Equity Funds</td>\n",
       "      <td>Y</td>\n",
       "      <td>NaN</td>\n",
       "      <td>2018-09-05</td>\n",
       "      <td>...</td>\n",
       "      <td>9.0</td>\n",
       "      <td>0.036928</td>\n",
       "      <td>1600746.0</td>\n",
       "      <td>Xtrackers MSCI EAFE ESG Leaders Eq ETF</td>\n",
       "      <td>Xtrackers MSCI EAFE ESG Leaders Equity ETF</td>\n",
       "      <td>NaN</td>\n",
       "      <td>NaN</td>\n",
       "      <td>NaN</td>\n",
       "      <td>NaN</td>\n",
       "      <td>NaN</td>\n",
       "    </tr>\n",
       "    <tr>\n",
       "      <th>365094</th>\n",
       "      <td>Xtrackers MSCI EMs ESG Leaders Eq ETF</td>\n",
       "      <td>EMSG</td>\n",
       "      <td>Xtrackers MSCI Emerging Markets ESG Leaders Eq...</td>\n",
       "      <td>Xtrackers</td>\n",
       "      <td>ETF</td>\n",
       "      <td>2018-12-04</td>\n",
       "      <td>International Equity Funds</td>\n",
       "      <td>Y</td>\n",
       "      <td>NaN</td>\n",
       "      <td>2018-12-04</td>\n",
       "      <td>...</td>\n",
       "      <td>0.0</td>\n",
       "      <td>0.000000</td>\n",
       "      <td>0.0</td>\n",
       "      <td>Xtrackers MSCI EMs ESG Leaders Eq ETF</td>\n",
       "      <td>Xtrackers MSCI Emerging Markets ESG Leaders Eq...</td>\n",
       "      <td>NaN</td>\n",
       "      <td>NaN</td>\n",
       "      <td>NaN</td>\n",
       "      <td>NaN</td>\n",
       "      <td>NaN</td>\n",
       "    </tr>\n",
       "    <tr>\n",
       "      <th>365095</th>\n",
       "      <td>Xtrackers MSCI USA ESG Leaders Eq ETF</td>\n",
       "      <td>USSG</td>\n",
       "      <td>Xtrackers MSCI USA ESG Leaders Equity ETF</td>\n",
       "      <td>Xtrackers</td>\n",
       "      <td>ETF</td>\n",
       "      <td>2019-03-06</td>\n",
       "      <td>U.S. Equity Fund</td>\n",
       "      <td>Y</td>\n",
       "      <td>NaN</td>\n",
       "      <td>2019-03-06</td>\n",
       "      <td>...</td>\n",
       "      <td>2.0</td>\n",
       "      <td>0.003216</td>\n",
       "      <td>3962100.0</td>\n",
       "      <td>Xtrackers MSCI USA ESG Leaders Eq ETF</td>\n",
       "      <td>Xtrackers MSCI USA ESG Leaders Equity ETF</td>\n",
       "      <td>NaN</td>\n",
       "      <td>NaN</td>\n",
       "      <td>NaN</td>\n",
       "      <td>NaN</td>\n",
       "      <td>NaN</td>\n",
       "    </tr>\n",
       "  </tbody>\n",
       "</table>\n",
       "<p>5 rows × 143 columns</p>\n",
       "</div>"
      ],
      "text/plain": [
       "                 Fund profile: Shareclass name Fund profile: Ticker  \\\n",
       "364837        VY® Invesco Equity and Income S2                IVIPX   \n",
       "365074                 WisdomTree U.S. ESG ETF                 RESP   \n",
       "365093  Xtrackers MSCI EAFE ESG Leaders Eq ETF                 EASG   \n",
       "365094   Xtrackers MSCI EMs ESG Leaders Eq ETF                 EMSG   \n",
       "365095   Xtrackers MSCI USA ESG Leaders Eq ETF                 USSG   \n",
       "\n",
       "                                  Fund profile: Fund name  \\\n",
       "364837            VY® Invesco Equity and Income Portfolio   \n",
       "365074                           WisdomTree U.S. ESG Fund   \n",
       "365093         Xtrackers MSCI EAFE ESG Leaders Equity ETF   \n",
       "365094  Xtrackers MSCI Emerging Markets ESG Leaders Eq...   \n",
       "365095          Xtrackers MSCI USA ESG Leaders Equity ETF   \n",
       "\n",
       "       Fund profile: Asset manager Fund profile: Shareclass type  \\\n",
       "364837                        Voya          Open-end mutual fund   \n",
       "365074                  WisdomTree                           ETF   \n",
       "365093                   Xtrackers                           ETF   \n",
       "365094                   Xtrackers                           ETF   \n",
       "365095                   Xtrackers                           ETF   \n",
       "\n",
       "       Fund profile: Shareclass inception date Fund profile: Category group  \\\n",
       "364837                              2009-02-27             Allocation Funds   \n",
       "365074                              2007-02-23             U.S. Equity Fund   \n",
       "365093                              2018-09-05   International Equity Funds   \n",
       "365094                              2018-12-04   International Equity Funds   \n",
       "365095                              2019-03-06             U.S. Equity Fund   \n",
       "\n",
       "       Fund profile: Sustainability mandate Fund profile: US-SIF member  \\\n",
       "364837                                  NaN                         NaN   \n",
       "365074                                    Y                         NaN   \n",
       "365093                                    Y                         NaN   \n",
       "365094                                    Y                         NaN   \n",
       "365095                                    Y                         NaN   \n",
       "\n",
       "       Fund profile: Oldest shareclass inception date  ...  \\\n",
       "364837                                     2001-12-10  ...   \n",
       "365074                                     2007-02-23  ...   \n",
       "365093                                     2018-09-05  ...   \n",
       "365094                                     2018-12-04  ...   \n",
       "365095                                     2019-03-06  ...   \n",
       "\n",
       "       Fossil Free Funds: Fossil fuel insurance holdings, count  \\\n",
       "364837                                                1.0         \n",
       "365074                                                2.0         \n",
       "365093                                                9.0         \n",
       "365094                                                0.0         \n",
       "365095                                                2.0         \n",
       "\n",
       "       Fossil Free Funds: Fossil fuel insurance holdings, weight  \\\n",
       "364837                                           0.014404          \n",
       "365074                                           0.004272          \n",
       "365093                                           0.036928          \n",
       "365094                                           0.000000          \n",
       "365095                                           0.003216          \n",
       "\n",
       "        Fossil Free Funds: Fossil fuel insurance holdings, asset  \\\n",
       "364837                                         15000773.0          \n",
       "365074                                           286368.0          \n",
       "365093                                          1600746.0          \n",
       "365094                                                0.0          \n",
       "365095                                          3962100.0          \n",
       "\n",
       "                               Shareclass name  \\\n",
       "364837         VY Invesco Equity and Income S2   \n",
       "365074                 WisdomTree U.S. ESG ETF   \n",
       "365093  Xtrackers MSCI EAFE ESG Leaders Eq ETF   \n",
       "365094   Xtrackers MSCI EMs ESG Leaders Eq ETF   \n",
       "365095   Xtrackers MSCI USA ESG Leaders Eq ETF   \n",
       "\n",
       "                                                Fund name  \\\n",
       "364837             VY Invesco Equity and Income Portfolio   \n",
       "365074                           WisdomTree U.S. ESG Fund   \n",
       "365093         Xtrackers MSCI EAFE ESG Leaders Equity ETF   \n",
       "365094  Xtrackers MSCI Emerging Markets ESG Leaders Eq...   \n",
       "365095          Xtrackers MSCI USA ESG Leaders Equity ETF   \n",
       "\n",
       "        Month end trailing returns, 1 year  \\\n",
       "364837                                 NaN   \n",
       "365074                                 NaN   \n",
       "365093                                 NaN   \n",
       "365094                                 NaN   \n",
       "365095                                 NaN   \n",
       "\n",
       "        Month end trailing returns, 3 year  \\\n",
       "364837                                 NaN   \n",
       "365074                                 NaN   \n",
       "365093                                 NaN   \n",
       "365094                                 NaN   \n",
       "365095                                 NaN   \n",
       "\n",
       "        Month end trailing returns, 5 year  \\\n",
       "364837                                 NaN   \n",
       "365074                                 NaN   \n",
       "365093                                 NaN   \n",
       "365094                                 NaN   \n",
       "365095                                 NaN   \n",
       "\n",
       "        Month end trailing returns, 10 year  Financial performance as-of date  \n",
       "364837                                  NaN                               NaN  \n",
       "365074                                  NaN                               NaN  \n",
       "365093                                  NaN                               NaN  \n",
       "365094                                  NaN                               NaN  \n",
       "365095                                  NaN                               NaN  \n",
       "\n",
       "[5 rows x 143 columns]"
      ]
     },
     "execution_count": 95,
     "metadata": {},
     "output_type": "execute_result"
    }
   ],
   "source": [
    "df_filtered.tail()"
   ]
  },
  {
   "cell_type": "code",
   "execution_count": 96,
   "id": "1c51e3f7",
   "metadata": {},
   "outputs": [],
   "source": [
    "df_filtered.to_csv('data/shareclasses_one_year_return_max_months_long_full_data.csv', index = False)"
   ]
  },
  {
   "cell_type": "code",
   "execution_count": 124,
   "id": "696e5389",
   "metadata": {},
   "outputs": [
    {
     "data": {
      "text/plain": [
       "5579"
      ]
     },
     "execution_count": 124,
     "metadata": {},
     "output_type": "execute_result"
    }
   ],
   "source": [
    "len(set(df_filtered['Shareclass name']))"
   ]
  },
  {
   "cell_type": "code",
   "execution_count": 97,
   "id": "96b93a91",
   "metadata": {},
   "outputs": [
    {
     "data": {
      "text/plain": [
       "pandas.core.frame.DataFrame"
      ]
     },
     "execution_count": 97,
     "metadata": {},
     "output_type": "execute_result"
    }
   ],
   "source": [
    "# save dtype of each column\n",
    "datatypes2  = df_filtered.dtypes.to_frame('dtypes').reset_index()\n",
    "type(datatypes2)"
   ]
  },
  {
   "cell_type": "code",
   "execution_count": 98,
   "id": "ffae99d2",
   "metadata": {},
   "outputs": [
    {
     "data": {
      "text/html": [
       "<div>\n",
       "<style scoped>\n",
       "    .dataframe tbody tr th:only-of-type {\n",
       "        vertical-align: middle;\n",
       "    }\n",
       "\n",
       "    .dataframe tbody tr th {\n",
       "        vertical-align: top;\n",
       "    }\n",
       "\n",
       "    .dataframe thead th {\n",
       "        text-align: right;\n",
       "    }\n",
       "</style>\n",
       "<table border=\"1\" class=\"dataframe\">\n",
       "  <thead>\n",
       "    <tr style=\"text-align: right;\">\n",
       "      <th></th>\n",
       "      <th>index</th>\n",
       "      <th>dtypes</th>\n",
       "    </tr>\n",
       "  </thead>\n",
       "  <tbody>\n",
       "    <tr>\n",
       "      <th>138</th>\n",
       "      <td>Month end trailing returns, 1 year</td>\n",
       "      <td>float64</td>\n",
       "    </tr>\n",
       "    <tr>\n",
       "      <th>139</th>\n",
       "      <td>Month end trailing returns, 3 year</td>\n",
       "      <td>float64</td>\n",
       "    </tr>\n",
       "    <tr>\n",
       "      <th>140</th>\n",
       "      <td>Month end trailing returns, 5 year</td>\n",
       "      <td>float64</td>\n",
       "    </tr>\n",
       "    <tr>\n",
       "      <th>141</th>\n",
       "      <td>Month end trailing returns, 10 year</td>\n",
       "      <td>float64</td>\n",
       "    </tr>\n",
       "    <tr>\n",
       "      <th>142</th>\n",
       "      <td>Financial performance as-of date</td>\n",
       "      <td>object</td>\n",
       "    </tr>\n",
       "  </tbody>\n",
       "</table>\n",
       "</div>"
      ],
      "text/plain": [
       "                                   index   dtypes\n",
       "138   Month end trailing returns, 1 year  float64\n",
       "139   Month end trailing returns, 3 year  float64\n",
       "140   Month end trailing returns, 5 year  float64\n",
       "141  Month end trailing returns, 10 year  float64\n",
       "142     Financial performance as-of date   object"
      ]
     },
     "execution_count": 98,
     "metadata": {},
     "output_type": "execute_result"
    }
   ],
   "source": [
    "datatypes2.tail()"
   ]
  },
  {
   "cell_type": "code",
   "execution_count": 99,
   "id": "f2fb07d7",
   "metadata": {},
   "outputs": [],
   "source": [
    "datatypes2.to_csv('data/shareclasses_one_year_return_max_months_long_full_data_datatypes.csv', index = False)"
   ]
  },
  {
   "cell_type": "markdown",
   "id": "e2ec9e7b",
   "metadata": {},
   "source": [
    "[Back to the Table of Contents](#0)"
   ]
  },
  {
   "cell_type": "markdown",
   "id": "9a8835f6",
   "metadata": {},
   "source": [
    "<a id=\"5\"></a> \n",
    "## Data Definition"
   ]
  },
  {
   "cell_type": "markdown",
   "id": "8f4b853a",
   "metadata": {},
   "source": [
    "In this section, the target variables and feature variables will be defined. The feature variables are grouped by the categories. "
   ]
  },
  {
   "cell_type": "markdown",
   "id": "180db165",
   "metadata": {},
   "source": [
    "<a id=\"5.1\"></a> \n",
    "### Load the data"
   ]
  },
  {
   "cell_type": "code",
   "execution_count": 138,
   "id": "183399d7",
   "metadata": {},
   "outputs": [],
   "source": [
    "# Load the saved data\n",
    "\n",
    "types2 = pd.read_csv('data/shareclasses_one_year_return_max_months_long_full_data_datatypes.csv')\n",
    "dtypes_dict2 = types2.set_index('index')['dtypes'].to_dict()\n",
    "\n",
    "df_1yr = pd.read_csv('data/shareclasses_one_year_return_max_months_long_full_data.csv', dtype = dtypes_dict2)"
   ]
  },
  {
   "cell_type": "markdown",
   "id": "e4a9ca62",
   "metadata": {},
   "source": [
    "[Back to the Table of Contents](#0)"
   ]
  },
  {
   "cell_type": "markdown",
   "id": "b62b2780",
   "metadata": {},
   "source": [
    "<a id=\"5.2\"></a> \n",
    "### Define the target"
   ]
  },
  {
   "cell_type": "markdown",
   "id": "573ff821",
   "metadata": {},
   "source": [
    "Although the data were selected based on the month end trailing returns of one year, there are other target variables available in the dataframe. "
   ]
  },
  {
   "cell_type": "code",
   "execution_count": 139,
   "id": "98954474",
   "metadata": {},
   "outputs": [
    {
     "data": {
      "text/plain": [
       "['Returns and fees: Month end trailing returns, 1 month',\n",
       " 'Returns and fees: Month end trailing returns, 3 month',\n",
       " 'Returns and fees: Month end trailing returns, 6 month',\n",
       " 'Returns and fees: Month end trailing returns, 15 year',\n",
       " 'Returns and fees: Month end trailing returns, 20 year',\n",
       " 'Returns and fees: Month end trailing returns, year-to-date',\n",
       " 'Returns and fees: Month end trailing returns, since inception',\n",
       " 'Returns and fees: Prospectus net expense ratio',\n",
       " 'Month end trailing returns, 1 year',\n",
       " 'Month end trailing returns, 3 year',\n",
       " 'Month end trailing returns, 5 year',\n",
       " 'Month end trailing returns, 10 year']"
      ]
     },
     "execution_count": 139,
     "metadata": {},
     "output_type": "execute_result"
    }
   ],
   "source": [
    "target_cols = [col for col in df_1yr.columns if 'returns' in col or 'Returns' in col]\n",
    "target_cols"
   ]
  },
  {
   "cell_type": "code",
   "execution_count": 140,
   "id": "6745e21b",
   "metadata": {},
   "outputs": [
    {
     "data": {
      "text/plain": [
       "12"
      ]
     },
     "execution_count": 140,
     "metadata": {},
     "output_type": "execute_result"
    }
   ],
   "source": [
    "len(target_cols)"
   ]
  },
  {
   "cell_type": "code",
   "execution_count": 141,
   "id": "72e06a27",
   "metadata": {},
   "outputs": [
    {
     "data": {
      "text/plain": [
       "Month end trailing returns, 1 year                               0.031125\n",
       "Month end trailing returns, 3 year                               0.044940\n",
       "Month end trailing returns, 5 year                               0.089885\n",
       "Month end trailing returns, 10 year                              0.210661\n",
       "Returns and fees: Prospectus net expense ratio                   0.374919\n",
       "Returns and fees: Month end trailing returns, year-to-date       0.375211\n",
       "Returns and fees: Month end trailing returns, 6 month            0.375250\n",
       "Returns and fees: Month end trailing returns, since inception    0.375872\n",
       "Returns and fees: Month end trailing returns, 3 month            0.375889\n",
       "Returns and fees: Month end trailing returns, 1 month            0.376292\n",
       "Returns and fees: Month end trailing returns, 15 year            0.569239\n",
       "Returns and fees: Month end trailing returns, 20 year            0.650508\n",
       "dtype: float64"
      ]
     },
     "execution_count": 141,
     "metadata": {},
     "output_type": "execute_result"
    }
   ],
   "source": [
    "# Check how many missing data in each target\n",
    "\n",
    "df_1yr[target_cols].isnull().mean().sort_values()"
   ]
  },
  {
   "cell_type": "markdown",
   "id": "920410a5",
   "metadata": {},
   "source": [
    "The column 'Month end trailing returns, 1 year' will be our main target as it has the least missing data"
   ]
  },
  {
   "cell_type": "markdown",
   "id": "db726c72",
   "metadata": {},
   "source": [
    "[Back to the Table of Contents](#0)"
   ]
  },
  {
   "cell_type": "markdown",
   "id": "9efde6cb",
   "metadata": {},
   "source": [
    "<a id=\"5.3\"></a> \n",
    "### Define the features"
   ]
  },
  {
   "cell_type": "code",
   "execution_count": 142,
   "id": "8072c62f",
   "metadata": {},
   "outputs": [
    {
     "data": {
      "text/plain": [
       "Index(['Returns and fees: Month end trailing returns, 15 year',\n",
       "       'Returns and fees: Month end trailing returns, 20 year',\n",
       "       'Returns and fees: Month end trailing returns, year-to-date',\n",
       "       'Returns and fees: Month end trailing returns, since inception',\n",
       "       'Returns and fees: Prospectus net expense ratio',\n",
       "       'Fund profile: Target date',\n",
       "       'Fossil Free Funds: Fossil fuel finance grade',\n",
       "       'Fossil Free Funds: Fossil fuel finance fund score',\n",
       "       'Fossil Free Funds: Fossil fuel finance holdings, count',\n",
       "       'Fossil Free Funds: Fossil fuel finance holdings, weight',\n",
       "       'Fossil Free Funds: Fossil fuel finance holdings, asset',\n",
       "       'Fossil Free Funds: Fossil fuel insurance grade',\n",
       "       'Fossil Free Funds: Fossil fuel insurance fund score',\n",
       "       'Fossil Free Funds: Fossil fuel insurance holdings, count',\n",
       "       'Fossil Free Funds: Fossil fuel insurance holdings, weight',\n",
       "       'Fossil Free Funds: Fossil fuel insurance holdings, asset',\n",
       "       'Shareclass name', 'Fund name', 'Month end trailing returns, 1 year',\n",
       "       'Month end trailing returns, 3 year',\n",
       "       'Month end trailing returns, 5 year',\n",
       "       'Month end trailing returns, 10 year',\n",
       "       'Financial performance as-of date'],\n",
       "      dtype='object')"
      ]
     },
     "execution_count": 142,
     "metadata": {},
     "output_type": "execute_result"
    }
   ],
   "source": [
    "column_names = df_1yr.columns\n",
    "column_names[120:]"
   ]
  },
  {
   "cell_type": "code",
   "execution_count": 143,
   "id": "6f1b5f65",
   "metadata": {},
   "outputs": [
    {
     "data": {
      "text/plain": [
       "{'Deforestation Free Funds',\n",
       " 'Fossil Free Funds',\n",
       " 'Gender Equality Funds',\n",
       " 'Gun Free Funds',\n",
       " 'Prison Free Funds',\n",
       " 'Tobacco Free Funds',\n",
       " 'Weapon Free Funds'}"
      ]
     },
     "execution_count": 143,
     "metadata": {},
     "output_type": "execute_result"
    }
   ],
   "source": [
    "# There are several categories of feature variables\n",
    "\n",
    "cat_features = set([colname.split(':')[0] for colname in column_names \n",
    "                    if ':' in colname and 'Returns and fees' not in colname\n",
    "                    and 'Fund profile' not in colname])\n",
    "cat_features"
   ]
  },
  {
   "cell_type": "code",
   "execution_count": 144,
   "id": "9a964e5a",
   "metadata": {
    "scrolled": false
   },
   "outputs": [
    {
     "name": "stdout",
     "output_type": "stream",
     "text": [
      "<class 'pandas.core.frame.DataFrame'>\n",
      "RangeIndex: 178505 entries, 0 to 178504\n",
      "Data columns (total 38 columns):\n",
      " #   Column                                                                                 Non-Null Count   Dtype  \n",
      "---  ------                                                                                 --------------   -----  \n",
      " 0   Fossil Free Funds: Fossil fuel grade                                                   178500 non-null  object \n",
      " 1   Fossil Free Funds: Fossil fuel holdings, count                                         178505 non-null  int64  \n",
      " 2   Fossil Free Funds: Fossil fuel holdings, weight                                        178505 non-null  float64\n",
      " 3   Fossil Free Funds: Fossil fuel holdings, asset                                         178505 non-null  int64  \n",
      " 4   Fossil Free Funds: Carbon Underground 200, count                                       178505 non-null  int64  \n",
      " 5   Fossil Free Funds: Carbon Underground 200, weight                                      178505 non-null  float64\n",
      " 6   Fossil Free Funds: Carbon Underground 200, asset                                       178505 non-null  int64  \n",
      " 7   Fossil Free Funds: Coal industry, count                                                178505 non-null  int64  \n",
      " 8   Fossil Free Funds: Coal industry, weight                                               178505 non-null  float64\n",
      " 9   Fossil Free Funds: Coal industry, asset                                                178505 non-null  int64  \n",
      " 10  Fossil Free Funds: Oil / gas industry, count                                           178505 non-null  int64  \n",
      " 11  Fossil Free Funds: Oil / gas industry, weight                                          178505 non-null  float64\n",
      " 12  Fossil Free Funds: Oil / gas industry, asset                                           178505 non-null  int64  \n",
      " 13  Fossil Free Funds: Macroclimate 30 coal-fired utilities, count                         178505 non-null  int64  \n",
      " 14  Fossil Free Funds: Macroclimate 30 coal-fired utilities, weight                        178505 non-null  float64\n",
      " 15  Fossil Free Funds: Macroclimate 30 coal-fired utilities, asset                         178505 non-null  int64  \n",
      " 16  Fossil Free Funds: Fossil-fired utilities, count                                       178505 non-null  int64  \n",
      " 17  Fossil Free Funds: Fossil-fired utilities, weight                                      178505 non-null  float64\n",
      " 18  Fossil Free Funds: Fossil-fired utilities, asset                                       178505 non-null  int64  \n",
      " 19  Fossil Free Funds: Relative carbon footprint (tonnes CO2 / $1M USD invested)           172949 non-null  float64\n",
      " 20  Fossil Free Funds: Relative carbon intensity (tonnes CO2 / $1M USD revenue)            172949 non-null  float64\n",
      " 21  Fossil Free Funds: Total financed emissions scope 1 + 2 (tCO2e)                        172949 non-null  float64\n",
      " 22  Fossil Free Funds: Total financed emissions scope 1 + 2 + 3 (tCO2e)                    172949 non-null  float64\n",
      " 23  Fossil Free Funds: Carbon footprint portfolio coverage by market value weight          172949 non-null  float64\n",
      " 24  Fossil Free Funds: Carbon footprint portfolio coverage by number of disclosing titles  172949 non-null  float64\n",
      " 25  Fossil Free Funds: Clean200, count                                                     178505 non-null  int64  \n",
      " 26  Fossil Free Funds: Clean200, weight                                                    178505 non-null  float64\n",
      " 27  Fossil Free Funds: Clean200, asset                                                     178505 non-null  int64  \n",
      " 28  Fossil Free Funds: Fossil fuel finance grade                                           27872 non-null   object \n",
      " 29  Fossil Free Funds: Fossil fuel finance fund score                                      27872 non-null   float64\n",
      " 30  Fossil Free Funds: Fossil fuel finance holdings, count                                 27872 non-null   float64\n",
      " 31  Fossil Free Funds: Fossil fuel finance holdings, weight                                27872 non-null   float64\n",
      " 32  Fossil Free Funds: Fossil fuel finance holdings, asset                                 27872 non-null   float64\n",
      " 33  Fossil Free Funds: Fossil fuel insurance grade                                         27872 non-null   object \n",
      " 34  Fossil Free Funds: Fossil fuel insurance fund score                                    27872 non-null   float64\n",
      " 35  Fossil Free Funds: Fossil fuel insurance holdings, count                               27872 non-null   float64\n",
      " 36  Fossil Free Funds: Fossil fuel insurance holdings, weight                              27872 non-null   float64\n",
      " 37  Fossil Free Funds: Fossil fuel insurance holdings, asset                               27872 non-null   float64\n",
      "dtypes: float64(21), int64(14), object(3)\n",
      "memory usage: 51.8+ MB\n"
     ]
    }
   ],
   "source": [
    "# The feature category of most interest of this project is 'Fossil Free Funds'\n",
    "\n",
    "df_1yr.filter(like = 'Fossil Free Funds: ').info()"
   ]
  },
  {
   "cell_type": "code",
   "execution_count": 145,
   "id": "d7cca05f",
   "metadata": {},
   "outputs": [
    {
     "data": {
      "text/plain": [
       "0    A\n",
       "1    A\n",
       "2    A\n",
       "3    D\n",
       "4    D\n",
       "Name: Fossil Free Funds: Fossil fuel grade, dtype: object"
      ]
     },
     "execution_count": 145,
     "metadata": {},
     "output_type": "execute_result"
    }
   ],
   "source": [
    "# In this category, 'Fossil fuel grade' is one of those with the lease missing values\n",
    "\n",
    "df_grade = df_1yr['Fossil Free Funds: Fossil fuel grade']\n",
    "df_grade.head()"
   ]
  },
  {
   "cell_type": "code",
   "execution_count": 146,
   "id": "6c5b937d",
   "metadata": {},
   "outputs": [
    {
     "data": {
      "text/html": [
       "<div>\n",
       "<style scoped>\n",
       "    .dataframe tbody tr th:only-of-type {\n",
       "        vertical-align: middle;\n",
       "    }\n",
       "\n",
       "    .dataframe tbody tr th {\n",
       "        vertical-align: top;\n",
       "    }\n",
       "\n",
       "    .dataframe thead th {\n",
       "        text-align: right;\n",
       "    }\n",
       "</style>\n",
       "<table border=\"1\" class=\"dataframe\">\n",
       "  <thead>\n",
       "    <tr style=\"text-align: right;\">\n",
       "      <th></th>\n",
       "      <th>grade</th>\n",
       "      <th>return</th>\n",
       "    </tr>\n",
       "  </thead>\n",
       "  <tbody>\n",
       "    <tr>\n",
       "      <th>0</th>\n",
       "      <td>A</td>\n",
       "      <td>-0.65016</td>\n",
       "    </tr>\n",
       "    <tr>\n",
       "      <th>1</th>\n",
       "      <td>A</td>\n",
       "      <td>0.00352</td>\n",
       "    </tr>\n",
       "    <tr>\n",
       "      <th>2</th>\n",
       "      <td>A</td>\n",
       "      <td>0.37831</td>\n",
       "    </tr>\n",
       "    <tr>\n",
       "      <th>3</th>\n",
       "      <td>D</td>\n",
       "      <td>-32.02905</td>\n",
       "    </tr>\n",
       "    <tr>\n",
       "      <th>4</th>\n",
       "      <td>D</td>\n",
       "      <td>-32.24253</td>\n",
       "    </tr>\n",
       "  </tbody>\n",
       "</table>\n",
       "</div>"
      ],
      "text/plain": [
       "  grade    return\n",
       "0     A  -0.65016\n",
       "1     A   0.00352\n",
       "2     A   0.37831\n",
       "3     D -32.02905\n",
       "4     D -32.24253"
      ]
     },
     "execution_count": 146,
     "metadata": {},
     "output_type": "execute_result"
    }
   ],
   "source": [
    "# combine the fossil fuel grade column with the one year return target column\n",
    "\n",
    "df_return = df_1yr['Month end trailing returns, 1 year']\n",
    "\n",
    "df_sub = pd.concat([df_grade, df_return], axis = 1)\n",
    "df_sub.columns = ['grade', 'return']\n",
    "df_sub.head()"
   ]
  },
  {
   "cell_type": "code",
   "execution_count": 147,
   "id": "6dcae0cf",
   "metadata": {
    "scrolled": true
   },
   "outputs": [
    {
     "data": {
      "text/html": [
       "<div>\n",
       "<style scoped>\n",
       "    .dataframe tbody tr th:only-of-type {\n",
       "        vertical-align: middle;\n",
       "    }\n",
       "\n",
       "    .dataframe tbody tr th {\n",
       "        vertical-align: top;\n",
       "    }\n",
       "\n",
       "    .dataframe thead th {\n",
       "        text-align: right;\n",
       "    }\n",
       "</style>\n",
       "<table border=\"1\" class=\"dataframe\">\n",
       "  <thead>\n",
       "    <tr style=\"text-align: right;\">\n",
       "      <th></th>\n",
       "      <th>return</th>\n",
       "    </tr>\n",
       "    <tr>\n",
       "      <th>grade</th>\n",
       "      <th></th>\n",
       "    </tr>\n",
       "  </thead>\n",
       "  <tbody>\n",
       "    <tr>\n",
       "      <th>A</th>\n",
       "      <td>14.602620</td>\n",
       "    </tr>\n",
       "    <tr>\n",
       "      <th>B</th>\n",
       "      <td>14.097770</td>\n",
       "    </tr>\n",
       "    <tr>\n",
       "      <th>C</th>\n",
       "      <td>9.107015</td>\n",
       "    </tr>\n",
       "    <tr>\n",
       "      <th>D</th>\n",
       "      <td>9.079069</td>\n",
       "    </tr>\n",
       "    <tr>\n",
       "      <th>F</th>\n",
       "      <td>7.257575</td>\n",
       "    </tr>\n",
       "  </tbody>\n",
       "</table>\n",
       "</div>"
      ],
      "text/plain": [
       "          return\n",
       "grade           \n",
       "A      14.602620\n",
       "B      14.097770\n",
       "C       9.107015\n",
       "D       9.079069\n",
       "F       7.257575"
      ]
     },
     "execution_count": 147,
     "metadata": {},
     "output_type": "execute_result"
    }
   ],
   "source": [
    "# see if higher grade corresponds to higher return\n",
    "\n",
    "pivot_table = pd.pivot_table(df_sub, values = 'return', index = 'grade')\n",
    "pivot_table"
   ]
  },
  {
   "cell_type": "code",
   "execution_count": 148,
   "id": "6788a7e1",
   "metadata": {},
   "outputs": [
    {
     "name": "stdout",
     "output_type": "stream",
     "text": [
      "<class 'pandas.core.frame.DataFrame'>\n",
      "RangeIndex: 178505 entries, 0 to 178504\n",
      "Data columns (total 10 columns):\n",
      " #   Column                                                               Non-Null Count   Dtype  \n",
      "---  ------                                                               --------------   -----  \n",
      " 0   Deforestation Free Funds: Deforestation grade                        178505 non-null  object \n",
      " 1   Deforestation Free Funds: Deforestation-risk producer, count         178505 non-null  int64  \n",
      " 2   Deforestation Free Funds: Deforestation-risk producer, weight        178505 non-null  float64\n",
      " 3   Deforestation Free Funds: Deforestation-risk producer, asset         178505 non-null  int64  \n",
      " 4   Deforestation Free Funds: Deforestation-risk financier, count        178505 non-null  int64  \n",
      " 5   Deforestation Free Funds: Deforestation-risk financier, weight       178505 non-null  float64\n",
      " 6   Deforestation Free Funds: Deforestation-risk financier, asset        178505 non-null  int64  \n",
      " 7   Deforestation Free Funds: Deforestation-risk consumer brand, count   178505 non-null  int64  \n",
      " 8   Deforestation Free Funds: Deforestation-risk consumer brand, weight  178505 non-null  float64\n",
      " 9   Deforestation Free Funds: Deforestation-risk consumer brand, asset   178505 non-null  int64  \n",
      "dtypes: float64(3), int64(6), object(1)\n",
      "memory usage: 13.6+ MB\n"
     ]
    }
   ],
   "source": [
    "# other categories\n",
    "\n",
    "df_1yr.filter(like = 'Deforestation Free Funds: ').info()"
   ]
  },
  {
   "cell_type": "code",
   "execution_count": 149,
   "id": "611df3d0",
   "metadata": {},
   "outputs": [
    {
     "name": "stdout",
     "output_type": "stream",
     "text": [
      "<class 'pandas.core.frame.DataFrame'>\n",
      "RangeIndex: 178505 entries, 0 to 178504\n",
      "Data columns (total 12 columns):\n",
      " #   Column                                                                                                          Non-Null Count   Dtype  \n",
      "---  ------                                                                                                          --------------   -----  \n",
      " 0   Gender Equality Funds: Gender equality grade                                                                    169052 non-null  object \n",
      " 1   Gender Equality Funds: Gender equality group ranking                                                            169466 non-null  float64\n",
      " 2   Gender Equality Funds: Gender equality score (out of 100 points)                                                27895 non-null   float64\n",
      " 3   Gender Equality Funds: Gender equality score, gender balance (out of 100 points)                                27895 non-null   float64\n",
      " 4   Gender Equality Funds: Gender equality score, gender policies (out of 100 points)                               27895 non-null   float64\n",
      " 5   Gender Equality Funds: Count of holdings with Equileap gender equality scores                                   178505 non-null  int64  \n",
      " 6   Gender Equality Funds: Weight of holdings with Equileap gender equality scores                                  178505 non-null  float64\n",
      " 7   Gender Equality Funds: Gender equality score - Overall score (out of 100 points)                                149996 non-null  float64\n",
      " 8   Gender Equality Funds: Gender equality score - Gender balance in leadership and workforce (out of 40 points)    149996 non-null  float64\n",
      " 9   Gender Equality Funds: Gender equality score - Equal compensation and work life balance (out of 30 points)      149996 non-null  float64\n",
      " 10  Gender Equality Funds: Gender equality score - Policies promoting gender equality (out of 20 points)            149996 non-null  float64\n",
      " 11  Gender Equality Funds: Gender equality score - Commitment, transparency, and accountability (out of 10 points)  149996 non-null  float64\n",
      "dtypes: float64(10), int64(1), object(1)\n",
      "memory usage: 16.3+ MB\n"
     ]
    }
   ],
   "source": [
    "df_1yr.filter(like = 'Gender Equality Funds: ').info()"
   ]
  },
  {
   "cell_type": "code",
   "execution_count": 150,
   "id": "d8e84f4c",
   "metadata": {},
   "outputs": [
    {
     "name": "stdout",
     "output_type": "stream",
     "text": [
      "<class 'pandas.core.frame.DataFrame'>\n",
      "RangeIndex: 178505 entries, 0 to 178504\n",
      "Data columns (total 10 columns):\n",
      " #   Column                                    Non-Null Count   Dtype  \n",
      "---  ------                                    --------------   -----  \n",
      " 0   Gun Free Funds: Civilian firearm grade    178505 non-null  object \n",
      " 1   Gun Free Funds: Civilian firearm, count   178505 non-null  int64  \n",
      " 2   Gun Free Funds: Civilian firearm, weight  178505 non-null  float64\n",
      " 3   Gun Free Funds: Civilian firearm, asset   178505 non-null  int64  \n",
      " 4   Gun Free Funds: Gun manufacturer, count   178505 non-null  int64  \n",
      " 5   Gun Free Funds: Gun manufacturer, weight  178505 non-null  float64\n",
      " 6   Gun Free Funds: Gun manufacturer, asset   178505 non-null  int64  \n",
      " 7   Gun Free Funds: Gun retailer, count       178505 non-null  int64  \n",
      " 8   Gun Free Funds: Gun retailer, weight      178505 non-null  float64\n",
      " 9   Gun Free Funds: Gun retailer, asset       178505 non-null  int64  \n",
      "dtypes: float64(3), int64(6), object(1)\n",
      "memory usage: 13.6+ MB\n"
     ]
    }
   ],
   "source": [
    "df_1yr.filter(like = 'Gun Free Funds: ').info()"
   ]
  },
  {
   "cell_type": "code",
   "execution_count": 151,
   "id": "7eedc806",
   "metadata": {},
   "outputs": [
    {
     "name": "stdout",
     "output_type": "stream",
     "text": [
      "<class 'pandas.core.frame.DataFrame'>\n",
      "RangeIndex: 178505 entries, 0 to 178504\n",
      "Data columns (total 22 columns):\n",
      " #   Column                                                   Non-Null Count   Dtype  \n",
      "---  ------                                                   --------------   -----  \n",
      " 0   Prison Free Funds: Prison industrial complex grade       156189 non-null  object \n",
      " 1   Prison Free Funds: All flagged, count                    156189 non-null  float64\n",
      " 2   Prison Free Funds: All flagged, weight                   156189 non-null  float64\n",
      " 3   Prison Free Funds: All flagged, asset                    156189 non-null  float64\n",
      " 4   Prison Free Funds: Prison industry, count                156189 non-null  float64\n",
      " 5   Prison Free Funds: Prison industry, weight               156189 non-null  float64\n",
      " 6   Prison Free Funds: Prison industry, asset                156189 non-null  float64\n",
      " 7   Prison Free Funds: Border industry, count                156189 non-null  float64\n",
      " 8   Prison Free Funds: Border industry, weight               156189 non-null  float64\n",
      " 9   Prison Free Funds: Border industry, asset                156189 non-null  float64\n",
      " 10  Prison Free Funds: All flagged, higher risk, count       156189 non-null  float64\n",
      " 11  Prison Free Funds: All flagged, higher risk, weight      156189 non-null  float64\n",
      " 12  Prison Free Funds: All flagged, higher risk, asset       156189 non-null  float64\n",
      " 13  Prison Free Funds: Prison industry, higher risk, count   156189 non-null  float64\n",
      " 14  Prison Free Funds: Prison industry, higher risk, weight  156189 non-null  float64\n",
      " 15  Prison Free Funds: Prison industry, higher risk, asset   156189 non-null  float64\n",
      " 16  Prison Free Funds: Border industry, higher risk, count   156189 non-null  float64\n",
      " 17  Prison Free Funds: Border industry, higher risk, weight  156189 non-null  float64\n",
      " 18  Prison Free Funds: Border industry, higher risk, asset   156189 non-null  float64\n",
      " 19  Prison Free Funds: Private prison operators, count       156189 non-null  float64\n",
      " 20  Prison Free Funds: Private prison operators, weight      156189 non-null  float64\n",
      " 21  Prison Free Funds: Private prison operators, asset       156189 non-null  float64\n",
      "dtypes: float64(21), object(1)\n",
      "memory usage: 30.0+ MB\n"
     ]
    }
   ],
   "source": [
    "df_1yr.filter(like = 'Prison Free Funds: ').info()"
   ]
  },
  {
   "cell_type": "code",
   "execution_count": 152,
   "id": "f8128046",
   "metadata": {},
   "outputs": [
    {
     "name": "stdout",
     "output_type": "stream",
     "text": [
      "<class 'pandas.core.frame.DataFrame'>\n",
      "RangeIndex: 178505 entries, 0 to 178504\n",
      "Data columns (total 7 columns):\n",
      " #   Column                                                               Non-Null Count   Dtype  \n",
      "---  ------                                                               --------------   -----  \n",
      " 0   Tobacco Free Funds: Tobacco grade                                    178505 non-null  object \n",
      " 1   Tobacco Free Funds: Tobacco producer, count                          178505 non-null  int64  \n",
      " 2   Tobacco Free Funds: Tobacco producer, weight                         178505 non-null  float64\n",
      " 3   Tobacco Free Funds: Tobacco producer, asset                          178505 non-null  int64  \n",
      " 4   Tobacco Free Funds: Tobacco-promoting entertainment company, count   178505 non-null  int64  \n",
      " 5   Tobacco Free Funds: Tobacco-promoting entertainment company, weight  178505 non-null  float64\n",
      " 6   Tobacco Free Funds: Tobacco-promoting entertainment company, asset   178505 non-null  int64  \n",
      "dtypes: float64(2), int64(4), object(1)\n",
      "memory usage: 9.5+ MB\n"
     ]
    }
   ],
   "source": [
    "df_1yr.filter(like = 'Tobacco Free Funds: ').info()"
   ]
  },
  {
   "cell_type": "code",
   "execution_count": 153,
   "id": "249090f6",
   "metadata": {},
   "outputs": [
    {
     "name": "stdout",
     "output_type": "stream",
     "text": [
      "<class 'pandas.core.frame.DataFrame'>\n",
      "RangeIndex: 178505 entries, 0 to 178504\n",
      "Data columns (total 13 columns):\n",
      " #   Column                                                    Non-Null Count   Dtype  \n",
      "---  ------                                                    --------------   -----  \n",
      " 0   Weapon Free Funds: Military weapon grade                  178505 non-null  object \n",
      " 1   Weapon Free Funds: Military weapon, count                 178505 non-null  int64  \n",
      " 2   Weapon Free Funds: Military weapon, weight                178505 non-null  float64\n",
      " 3   Weapon Free Funds: Military weapon, asset                 178505 non-null  int64  \n",
      " 4   Weapon Free Funds: Major military contractors, count      178505 non-null  int64  \n",
      " 5   Weapon Free Funds: Major military contractors, weight     178505 non-null  float64\n",
      " 6   Weapon Free Funds: Major military contractors, asset      178505 non-null  int64  \n",
      " 7   Weapon Free Funds: Nuclear weapons, count                 178505 non-null  int64  \n",
      " 8   Weapon Free Funds: Nuclear weapons, weight                178505 non-null  float64\n",
      " 9   Weapon Free Funds: Nuclear weapons, asset                 178505 non-null  int64  \n",
      " 10  Weapon Free Funds: Cluster munitions / landmines, count   178505 non-null  int64  \n",
      " 11  Weapon Free Funds: Cluster munitions / landmines, weight  178505 non-null  float64\n",
      " 12  Weapon Free Funds: Cluster munitions / landmines, asset   178505 non-null  int64  \n",
      "dtypes: float64(4), int64(8), object(1)\n",
      "memory usage: 17.7+ MB\n"
     ]
    }
   ],
   "source": [
    "df_1yr.filter(like = 'Weapon Free Funds: ').info()"
   ]
  },
  {
   "cell_type": "markdown",
   "id": "b7facff7",
   "metadata": {},
   "source": [
    "[Back to the Table of Contents](#0)"
   ]
  },
  {
   "cell_type": "markdown",
   "id": "451412db",
   "metadata": {},
   "source": [
    "<a id=\"6\"></a> \n",
    "## Data Cleaning"
   ]
  },
  {
   "cell_type": "code",
   "execution_count": 155,
   "id": "c9e86eba",
   "metadata": {},
   "outputs": [
    {
     "data": {
      "text/plain": [
       "0"
      ]
     },
     "execution_count": 155,
     "metadata": {},
     "output_type": "execute_result"
    }
   ],
   "source": [
    "# check if there are duplicated rows\n",
    "\n",
    "df_1yr.duplicated().sum()"
   ]
  },
  {
   "cell_type": "code",
   "execution_count": 156,
   "id": "b6682ec5",
   "metadata": {},
   "outputs": [
    {
     "data": {
      "text/plain": [
       "0.03112517856642671"
      ]
     },
     "execution_count": 156,
     "metadata": {},
     "output_type": "execute_result"
    }
   ],
   "source": [
    "# check if all rows have values for 'Month end trailing returns, 1 year', the main target variable\n",
    "\n",
    "df_1yr['Month end trailing returns, 1 year'].isnull().mean()"
   ]
  },
  {
   "cell_type": "code",
   "execution_count": 157,
   "id": "7c22cb1a",
   "metadata": {},
   "outputs": [
    {
     "data": {
      "text/plain": [
       "(178505, 143)"
      ]
     },
     "execution_count": 157,
     "metadata": {},
     "output_type": "execute_result"
    }
   ],
   "source": [
    "# check current dimension of the dataframe\n",
    "\n",
    "df_1yr.shape"
   ]
  },
  {
   "cell_type": "code",
   "execution_count": 158,
   "id": "f8b791e4",
   "metadata": {},
   "outputs": [
    {
     "data": {
      "text/plain": [
       "(172949, 143)"
      ]
     },
     "execution_count": 158,
     "metadata": {},
     "output_type": "execute_result"
    }
   ],
   "source": [
    "# drop the rows that do not have values for the main target\n",
    "\n",
    "df_1yr = df_1yr.dropna(subset = 'Month end trailing returns, 1 year')\n",
    "df_1yr.shape"
   ]
  },
  {
   "cell_type": "code",
   "execution_count": 159,
   "id": "94b32d58",
   "metadata": {},
   "outputs": [
    {
     "data": {
      "text/plain": [
       "Fossil Free Funds: Fossil fuel grade                                                                              0.000029\n",
       "Month end trailing returns, 3 year                                                                                0.014259\n",
       "Fund profile: Shareclass tickers                                                                                  0.016490\n",
       "Fund profile: Ticker                                                                                              0.019728\n",
       "Gender Equality Funds: Gender equality group ranking                                                              0.050356\n",
       "Gender Equality Funds: Gender equality grade                                                                      0.052750\n",
       "Month end trailing returns, 5 year                                                                                0.060648\n",
       "Prison Free Funds: Private prison operators, weight                                                               0.129032\n",
       "Prison Free Funds: Private prison operators, count                                                                0.129032\n",
       "Prison Free Funds: Border industry, higher risk, asset                                                            0.129032\n",
       "Prison Free Funds: All flagged, higher risk, asset                                                                0.129032\n",
       "Prison Free Funds: Border industry, higher risk, weight                                                           0.129032\n",
       "Prison Free Funds: Border industry, higher risk, count                                                            0.129032\n",
       "Prison Free Funds: Prison industry, higher risk, weight                                                           0.129032\n",
       "Prison Free Funds: Prison industry, higher risk, count                                                            0.129032\n",
       "Prison Free Funds: Private prison operators, asset                                                                0.129032\n",
       "Prison Free Funds: All flagged, higher risk, weight                                                               0.129032\n",
       "Prison Free Funds: Prison industry, higher risk, asset                                                            0.129032\n",
       "Prison Free Funds: Border industry, asset                                                                         0.129032\n",
       "Prison Free Funds: All flagged, higher risk, count                                                                0.129032\n",
       "Prison Free Funds: Prison industrial complex grade                                                                0.129032\n",
       "Prison Free Funds: All flagged, count                                                                             0.129032\n",
       "Prison Free Funds: All flagged, weight                                                                            0.129032\n",
       "Prison Free Funds: All flagged, asset                                                                             0.129032\n",
       "Prison Free Funds: Prison industry, weight                                                                        0.129032\n",
       "Prison Free Funds: Prison industry, asset                                                                         0.129032\n",
       "Prison Free Funds: Border industry, count                                                                         0.129032\n",
       "Prison Free Funds: Prison industry, count                                                                         0.129032\n",
       "Prison Free Funds: Border industry, weight                                                                        0.129032\n",
       "Gender Equality Funds: Gender equality score - Overall score (out of 100 points)                                  0.164713\n",
       "Gender Equality Funds: Gender equality score - Gender balance in leadership and workforce (out of 40 points)      0.164713\n",
       "Gender Equality Funds: Gender equality score - Equal compensation and work life balance (out of 30 points)        0.164713\n",
       "Gender Equality Funds: Gender equality score - Policies promoting gender equality (out of 20 points)              0.164713\n",
       "Gender Equality Funds: Gender equality score - Commitment, transparency, and accountability (out of 10 points)    0.164713\n",
       "Month end trailing returns, 10 year                                                                               0.185303\n",
       "Returns and fees: Prospectus net expense ratio                                                                    0.354839\n",
       "Returns and fees: Month end trailing returns, year-to-date                                                        0.355139\n",
       "Returns and fees: Month end trailing returns, 6 month                                                             0.355180\n",
       "Returns and fees: Month end trailing returns, since inception                                                     0.355822\n",
       "Returns and fees: Month end trailing returns, 3 month                                                             0.355839\n",
       "Returns and fees: Month end trailing returns, 1 month                                                             0.356255\n",
       "Returns and fees: Month end trailing returns, 15 year                                                             0.555401\n",
       "Returns and fees: Month end trailing returns, 20 year                                                             0.639281\n",
       "Gender Equality Funds: Gender equality score, gender policies (out of 100 points)                                 0.838710\n",
       "Gender Equality Funds: Gender equality score, gender balance (out of 100 points)                                  0.838710\n",
       "Gender Equality Funds: Gender equality score (out of 100 points)                                                  0.838710\n",
       "Fossil Free Funds: Fossil fuel insurance holdings, asset                                                          0.870968\n",
       "Fossil Free Funds: Fossil fuel insurance holdings, weight                                                         0.870968\n",
       "Fossil Free Funds: Fossil fuel insurance holdings, count                                                          0.870968\n",
       "Fossil Free Funds: Fossil fuel insurance grade                                                                    0.870968\n",
       "Fossil Free Funds: Fossil fuel finance holdings, asset                                                            0.870968\n",
       "Fossil Free Funds: Fossil fuel finance holdings, weight                                                           0.870968\n",
       "Fossil Free Funds: Fossil fuel finance holdings, count                                                            0.870968\n",
       "Fossil Free Funds: Fossil fuel finance fund score                                                                 0.870968\n",
       "Fossil Free Funds: Fossil fuel finance grade                                                                      0.870968\n",
       "Fossil Free Funds: Fossil fuel insurance fund score                                                               0.870968\n",
       "Fund profile: Sustainability mandate                                                                              0.901763\n",
       "Fund profile: US-SIF member                                                                                       0.979381\n",
       "Fund profile: Target date                                                                                         0.999410\n",
       "dtype: float64"
      ]
     },
     "execution_count": 159,
     "metadata": {},
     "output_type": "execute_result"
    }
   ],
   "source": [
    "# some features and targets have too many missing data\n",
    "# Check how many missing data in each target and feature variables\n",
    "\n",
    "missing_rate = df_1yr.isnull().mean().sort_values()\n",
    "missing_rate[missing_rate != 0.0]"
   ]
  },
  {
   "cell_type": "code",
   "execution_count": 160,
   "id": "d0bf168f",
   "metadata": {},
   "outputs": [
    {
     "data": {
      "text/plain": [
       "(172949, 91)"
      ]
     },
     "execution_count": 160,
     "metadata": {},
     "output_type": "execute_result"
    }
   ],
   "source": [
    "# drop columns with too many missing data \n",
    "df_1yr = df_1yr.loc[:, df_1yr.isnull().mean() < .1]\n",
    "df_1yr.shape"
   ]
  },
  {
   "cell_type": "code",
   "execution_count": 161,
   "id": "8f2951ef",
   "metadata": {},
   "outputs": [
    {
     "data": {
      "text/plain": [
       "5579"
      ]
     },
     "execution_count": 161,
     "metadata": {},
     "output_type": "execute_result"
    }
   ],
   "source": [
    "len(set(df_1yr['Shareclass name']))"
   ]
  },
  {
   "cell_type": "code",
   "execution_count": 168,
   "id": "c12f82d1",
   "metadata": {},
   "outputs": [
    {
     "data": {
      "text/plain": [
       "10"
      ]
     },
     "execution_count": 168,
     "metadata": {},
     "output_type": "execute_result"
    }
   ],
   "source": [
    "len(df_1yr.filter(like = 'Deforestation Free Funds: ').columns)"
   ]
  },
  {
   "cell_type": "code",
   "execution_count": 169,
   "id": "4d53016c",
   "metadata": {},
   "outputs": [
    {
     "data": {
      "text/plain": [
       "28"
      ]
     },
     "execution_count": 169,
     "metadata": {},
     "output_type": "execute_result"
    }
   ],
   "source": [
    "len(df_1yr.filter(like = 'Fossil Free Funds: ').columns)"
   ]
  },
  {
   "cell_type": "code",
   "execution_count": 172,
   "id": "b92a74e7",
   "metadata": {},
   "outputs": [
    {
     "data": {
      "text/plain": [
       "4"
      ]
     },
     "execution_count": 172,
     "metadata": {},
     "output_type": "execute_result"
    }
   ],
   "source": [
    "len(df_1yr.filter(like = 'Gender Equality Funds: ').columns)"
   ]
  },
  {
   "cell_type": "code",
   "execution_count": 170,
   "id": "0c72eaf1",
   "metadata": {},
   "outputs": [
    {
     "data": {
      "text/plain": [
       "10"
      ]
     },
     "execution_count": 170,
     "metadata": {},
     "output_type": "execute_result"
    }
   ],
   "source": [
    "len(df_1yr.filter(like = 'Gun Free Funds: ').columns)"
   ]
  },
  {
   "cell_type": "code",
   "execution_count": 175,
   "id": "71b083bf",
   "metadata": {},
   "outputs": [
    {
     "data": {
      "text/plain": [
       "0"
      ]
     },
     "execution_count": 175,
     "metadata": {},
     "output_type": "execute_result"
    }
   ],
   "source": [
    "len(df_1yr.filter(like = 'Prison Free Funds: ').columns)"
   ]
  },
  {
   "cell_type": "code",
   "execution_count": 174,
   "id": "3f67c7f7",
   "metadata": {},
   "outputs": [
    {
     "data": {
      "text/plain": [
       "7"
      ]
     },
     "execution_count": 174,
     "metadata": {},
     "output_type": "execute_result"
    }
   ],
   "source": [
    "len(df_1yr.filter(like = 'Tobacco Free Funds: ').columns)"
   ]
  },
  {
   "cell_type": "code",
   "execution_count": 167,
   "id": "e062f164",
   "metadata": {},
   "outputs": [
    {
     "data": {
      "text/plain": [
       "13"
      ]
     },
     "execution_count": 167,
     "metadata": {},
     "output_type": "execute_result"
    }
   ],
   "source": [
    "len(df_1yr.filter(like = 'Weapon Free Funds: ').columns)"
   ]
  },
  {
   "cell_type": "code",
   "execution_count": 162,
   "id": "d7c5a80b",
   "metadata": {},
   "outputs": [],
   "source": [
    "# Save the data\n",
    "df_1yr.to_csv('data/shareclasses_one_year_return_max_months_less_than_10pct_missing.csv', index = False)"
   ]
  },
  {
   "cell_type": "code",
   "execution_count": 163,
   "id": "1543d2a9",
   "metadata": {},
   "outputs": [
    {
     "data": {
      "text/html": [
       "<div>\n",
       "<style scoped>\n",
       "    .dataframe tbody tr th:only-of-type {\n",
       "        vertical-align: middle;\n",
       "    }\n",
       "\n",
       "    .dataframe tbody tr th {\n",
       "        vertical-align: top;\n",
       "    }\n",
       "\n",
       "    .dataframe thead th {\n",
       "        text-align: right;\n",
       "    }\n",
       "</style>\n",
       "<table border=\"1\" class=\"dataframe\">\n",
       "  <thead>\n",
       "    <tr style=\"text-align: right;\">\n",
       "      <th></th>\n",
       "      <th>index</th>\n",
       "      <th>dtypes</th>\n",
       "    </tr>\n",
       "  </thead>\n",
       "  <tbody>\n",
       "    <tr>\n",
       "      <th>86</th>\n",
       "      <td>Fund name</td>\n",
       "      <td>object</td>\n",
       "    </tr>\n",
       "    <tr>\n",
       "      <th>87</th>\n",
       "      <td>Month end trailing returns, 1 year</td>\n",
       "      <td>float64</td>\n",
       "    </tr>\n",
       "    <tr>\n",
       "      <th>88</th>\n",
       "      <td>Month end trailing returns, 3 year</td>\n",
       "      <td>float64</td>\n",
       "    </tr>\n",
       "    <tr>\n",
       "      <th>89</th>\n",
       "      <td>Month end trailing returns, 5 year</td>\n",
       "      <td>float64</td>\n",
       "    </tr>\n",
       "    <tr>\n",
       "      <th>90</th>\n",
       "      <td>Financial performance as-of date</td>\n",
       "      <td>object</td>\n",
       "    </tr>\n",
       "  </tbody>\n",
       "</table>\n",
       "</div>"
      ],
      "text/plain": [
       "                                 index   dtypes\n",
       "86                           Fund name   object\n",
       "87  Month end trailing returns, 1 year  float64\n",
       "88  Month end trailing returns, 3 year  float64\n",
       "89  Month end trailing returns, 5 year  float64\n",
       "90    Financial performance as-of date   object"
      ]
     },
     "execution_count": 163,
     "metadata": {},
     "output_type": "execute_result"
    }
   ],
   "source": [
    "# save dtype of each column\n",
    "datatypes_1yr  = df_1yr.dtypes.to_frame('dtypes').reset_index()\n",
    "datatypes_1yr.tail()"
   ]
  },
  {
   "cell_type": "code",
   "execution_count": 164,
   "id": "4bdf8442",
   "metadata": {},
   "outputs": [],
   "source": [
    "datatypes_1yr.to_csv('data/shareclasses_one_year_return_max_months_less_than_10pct_missing_datatypes.csv',\n",
    "                     index = False)"
   ]
  },
  {
   "cell_type": "markdown",
   "id": "eca17414",
   "metadata": {},
   "source": [
    "[Back to the Table of Contents](#0)"
   ]
  },
  {
   "cell_type": "markdown",
   "id": "5e2f0e8f",
   "metadata": {},
   "source": [
    "<a id=\"7\"></a> \n",
    "## Summary"
   ]
  },
  {
   "cell_type": "markdown",
   "id": "a416e439",
   "metadata": {},
   "source": [
    "In the data wrangling, I have done the following:\n",
    "\n",
    "* 1. Downloaded and combined the full raw data set of 365103 rows and 146 columns. The data is saved for future use: \n",
    "    `all_results_data.csv`\n",
    "    \n",
    "    In this data, there are 4706 distinct funds and 14125 distinct share classes.\n",
    "    \n",
    "    \n",
    "* 2. Extracted and organized the time series data of the share classes with the longest record (31 months) of the main target (Month end trailing returns, 1 year), and saved the data for the next step analysis:\n",
    "    `shareclasses_one_year_return_max_months_long_time_series.csv`\n",
    "    \n",
    "    In this file, there are three columns. First is the share class names, second is the date for the financial performance, third is the main target: month end trailing returns, 1 year. There are 5579 distinct share classes, each have the observation of the target variable over the same 31 months.\n",
    "    \n",
    "    \n",
    "* 3. Cleaned the full data set of the share classes with the longest record of the main target together with all features variables and other target variables options, and save the data for future use:\n",
    "    `shareclasses_one_year_return_max_months_long_full_data.csv`\n",
    "    \n",
    "    In this file, there are 172949 rows and 143 columns, and among them there are 5579 distinct share classes as in the time series file. Including the main target, there are 12 target variables. The feature variables include 7 categories of ESG evaluations: Deforestation Free Funds (10 columns), Fossil Free Funds (38 columns), Gender Equality Funds (12 columns), Gun Free Funds (10 columns), Prison Free Funds (22 columns), Tobacco Free Funds (7 columns), and Weapon Free Funds (13 columns). Some of these target and feature variables have a lot of missing data.\n",
    "    \n",
    "    \n",
    "* 4. Extracted a subset of targets and features that have less than 10 percent of missing data for all the share classes with the longest record of the main target, and saved the data for the next step analysis:\n",
    "    `shareclasses_one_year_return_max_months_less_than_10pct_missing.csv`\n",
    "    \n",
    "    In this data, there are also 172949 rows and 5579 distinct share classes. However, as we dropped the target and feature variables that have too many missing data, there are only 91 columns left. Among them, there are 10 columns for the Deforestation Free Funds, 28 columns for the Fossil Free Funds, 4 columns for the Gender Equality Funds, 10 columns for the Gun Free Funds, 0 columns for the Prison Free Funds, 7 columns for the Tobacco Free Funds, and 13 columns for the Weapon Free Funds.  \n",
    "    \n",
    "In the next section of exploratory data analysis, I will use the tidy data of the time series (point 2): `shareclasses_one_year_return_max_months_long_time_series.csv`\n",
    "\n",
    "and the clean data including both the target variable and features that contains less than 10% missing values (point 4):\n",
    "`shareclasses_one_year_return_max_months_less_than_10pct_missing.csv`\n",
    "\n",
    "The main target variable is the month end trailing returns, 1 year, and the main feature variables are the ones in the category of Fossil Free Funds."
   ]
  },
  {
   "cell_type": "markdown",
   "id": "92875e83",
   "metadata": {},
   "source": [
    "[Back to the Table of Contents](#0)"
   ]
  }
 ],
 "metadata": {
  "kernelspec": {
   "display_name": "Python 3 (ipykernel)",
   "language": "python",
   "name": "python3"
  },
  "language_info": {
   "codemirror_mode": {
    "name": "ipython",
    "version": 3
   },
   "file_extension": ".py",
   "mimetype": "text/x-python",
   "name": "python",
   "nbconvert_exporter": "python",
   "pygments_lexer": "ipython3",
   "version": "3.9.12"
  },
  "toc": {
   "base_numbering": "1",
   "nav_menu": {},
   "number_sections": true,
   "sideBar": true,
   "skip_h1_title": true,
   "title_cell": "Table of Contents",
   "title_sidebar": "Contents",
   "toc_cell": false,
   "toc_position": {
    "height": "calc(100% - 180px)",
    "left": "10px",
    "top": "150px",
    "width": "305.4px"
   },
   "toc_section_display": true,
   "toc_window_display": false
  }
 },
 "nbformat": 4,
 "nbformat_minor": 5
}
